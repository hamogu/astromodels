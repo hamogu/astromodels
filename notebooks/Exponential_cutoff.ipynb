{
 "cells": [
  {
   "cell_type": "markdown",
   "id": "7e877c4a",
   "metadata": {
    "papermill": {
     "duration": 0.008994,
     "end_time": "2021-08-23T05:21:45.362720",
     "exception": false,
     "start_time": "2021-08-23T05:21:45.353726",
     "status": "completed"
    },
    "tags": []
   },
   "source": [
    "# Exponential cutoff"
   ]
  },
  {
   "cell_type": "code",
   "execution_count": 1,
   "id": "d279c8c6",
   "metadata": {
    "execution": {
     "iopub.execute_input": "2021-08-23T05:21:45.389129Z",
     "iopub.status.busy": "2021-08-23T05:21:45.388238Z",
     "iopub.status.idle": "2021-08-23T05:21:48.022027Z",
     "shell.execute_reply": "2021-08-23T05:21:48.021049Z"
    },
    "nbsphinx": "hidden",
    "papermill": {
     "duration": 2.651231,
     "end_time": "2021-08-23T05:21:48.022290",
     "exception": false,
     "start_time": "2021-08-23T05:21:45.371059",
     "status": "completed"
    },
    "tags": []
   },
   "outputs": [],
   "source": [
    "%%capture\n",
    "\n",
    "import numpy as np\n",
    "\n",
    "import matplotlib.pyplot as plt\n",
    "\n",
    "import warnings\n",
    "warnings.simplefilter(\"ignore\")\n",
    "\n",
    "from astromodels.functions.function import _known_functions\n",
    "\n",
    "\n",
    "from jupyterthemes import jtplot\n",
    "jtplot.style(context=\"talk\", fscale=1, ticks=True, grid=False)\n",
    "%matplotlib inline"
   ]
  },
  {
   "cell_type": "code",
   "execution_count": 2,
   "id": "c1aab56e",
   "metadata": {
    "execution": {
     "iopub.execute_input": "2021-08-23T05:21:48.045428Z",
     "iopub.status.busy": "2021-08-23T05:21:48.044537Z",
     "iopub.status.idle": "2021-08-23T05:21:48.051171Z",
     "shell.execute_reply": "2021-08-23T05:21:48.051745Z"
    },
    "nbsphinx": "hidden",
    "papermill": {
     "duration": 0.021098,
     "end_time": "2021-08-23T05:21:48.052027",
     "exception": false,
     "start_time": "2021-08-23T05:21:48.030929",
     "status": "completed"
    },
    "tags": [
     "parameters"
    ]
   },
   "outputs": [],
   "source": [
    "func_name = \"TbAbs\"\n",
    "\n",
    "x_scale=\"log\"\n",
    "y_scale=\"log\"\n",
    "\n",
    "linear_range = False\n",
    "\n",
    "wide_energy_range = False"
   ]
  },
  {
   "cell_type": "code",
   "execution_count": 3,
   "id": "f8206f97",
   "metadata": {
    "execution": {
     "iopub.execute_input": "2021-08-23T05:21:48.074308Z",
     "iopub.status.busy": "2021-08-23T05:21:48.073430Z",
     "iopub.status.idle": "2021-08-23T05:21:48.079873Z",
     "shell.execute_reply": "2021-08-23T05:21:48.080418Z"
    },
    "papermill": {
     "duration": 0.01989,
     "end_time": "2021-08-23T05:21:48.080696",
     "exception": false,
     "start_time": "2021-08-23T05:21:48.060806",
     "status": "completed"
    },
    "tags": [
     "injected-parameters"
    ]
   },
   "outputs": [],
   "source": [
    "# Parameters\n",
    "func_name = \"Exponential_cutoff\"\n",
    "wide_energy_range = True\n",
    "x_scale = \"log\"\n",
    "y_scale = \"log\"\n",
    "linear_range = False\n"
   ]
  },
  {
   "cell_type": "code",
   "execution_count": 4,
   "id": "b9fa0781",
   "metadata": {
    "execution": {
     "iopub.execute_input": "2021-08-23T05:21:48.105604Z",
     "iopub.status.busy": "2021-08-23T05:21:48.104710Z",
     "iopub.status.idle": "2021-08-23T05:21:48.110987Z",
     "shell.execute_reply": "2021-08-23T05:21:48.111692Z"
    },
    "lines_to_next_cell": 0,
    "nbsphinx": "hidden",
    "papermill": {
     "duration": 0.022421,
     "end_time": "2021-08-23T05:21:48.111960",
     "exception": false,
     "start_time": "2021-08-23T05:21:48.089539",
     "status": "completed"
    },
    "tags": []
   },
   "outputs": [],
   "source": [
    "func = _known_functions[func_name]()\n",
    "\n",
    "if wide_energy_range:\n",
    "\n",
    "    energy_grid = np.geomspace(1e2,1e4,500)\n",
    "    \n",
    "else:\n",
    "    \n",
    "    energy_grid = np.geomspace(2e-1,1e1,1000)\n",
    "\n",
    "if linear_range:\n",
    "\n",
    "\tenergy_grid = np.linspace(-5,5,1000)\n",
    "\n",
    "    \n",
    "blue = \"#4152E3\"\n",
    "red = \"#E3414B\"\n",
    "green = \"#41E39E\""
   ]
  },
  {
   "cell_type": "markdown",
   "id": "d44e2f01",
   "metadata": {
    "lines_to_next_cell": 0,
    "papermill": {
     "duration": 0.00874,
     "end_time": "2021-08-23T05:21:48.129433",
     "exception": false,
     "start_time": "2021-08-23T05:21:48.120693",
     "status": "completed"
    },
    "tags": []
   },
   "source": [
    "## Description"
   ]
  },
  {
   "cell_type": "code",
   "execution_count": 5,
   "id": "cd8fd8ca",
   "metadata": {
    "execution": {
     "iopub.execute_input": "2021-08-23T05:21:48.157406Z",
     "iopub.status.busy": "2021-08-23T05:21:48.156396Z",
     "iopub.status.idle": "2021-08-23T05:21:48.164056Z",
     "shell.execute_reply": "2021-08-23T05:21:48.164641Z"
    },
    "papermill": {
     "duration": 0.026495,
     "end_time": "2021-08-23T05:21:48.164917",
     "exception": false,
     "start_time": "2021-08-23T05:21:48.138422",
     "status": "completed"
    },
    "tags": []
   },
   "outputs": [
    {
     "data": {
      "text/html": [
       "<ul>\n",
       "\n",
       "<li>description: An exponential cutoff</li>\n",
       "\n",
       "<li>formula: $ K \\exp{(-x/xc)} $</li>\n",
       "\n",
       "<li>parameters: \n",
       "<ul>\n",
       "\n",
       "<li>K: \n",
       "<ul>\n",
       "\n",
       "<li>value: 1.0</li>\n",
       "\n",
       "<li>desc: Normalization</li>\n",
       "\n",
       "<li>min_value: None</li>\n",
       "\n",
       "<li>max_value: None</li>\n",
       "\n",
       "<li>unit: </li>\n",
       "\n",
       "<li>is_normalization: True</li>\n",
       "\n",
       "<li>delta: 0.1</li>\n",
       "\n",
       "<li>free: True</li>\n",
       "\n",
       "</ul>\n",
       "\n",
       "</li>\n",
       "\n",
       "<li>xc: \n",
       "<ul>\n",
       "\n",
       "<li>value: 100.0</li>\n",
       "\n",
       "<li>desc: cutoff</li>\n",
       "\n",
       "<li>min_value: 1.0</li>\n",
       "\n",
       "<li>max_value: None</li>\n",
       "\n",
       "<li>unit: </li>\n",
       "\n",
       "<li>is_normalization: False</li>\n",
       "\n",
       "<li>delta: 10.0</li>\n",
       "\n",
       "<li>free: True</li>\n",
       "\n",
       "</ul>\n",
       "\n",
       "</li>\n",
       "\n",
       "</ul>\n",
       "\n",
       "</li>\n",
       "\n",
       "</ul>\n"
      ],
      "text/plain": [
       "  * description: An exponential cutoff\n",
       "  * formula: $ K \\exp{(-x/xc)} $\n",
       "  * parameters:\n",
       "    * K:\n",
       "      * value: 1.0\n",
       "      * desc: Normalization\n",
       "      * min_value: null\n",
       "      * max_value: null\n",
       "      * unit: ''\n",
       "      * is_normalization: true\n",
       "      * delta: 0.1\n",
       "      * free: true\n",
       "    * xc:\n",
       "      * value: 100.0\n",
       "      * desc: cutoff\n",
       "      * min_value: 1.0\n",
       "      * max_value: null\n",
       "      * unit: ''\n",
       "      * is_normalization: false\n",
       "      * delta: 10.0\n",
       "      * free: true"
      ]
     },
     "metadata": {},
     "output_type": "display_data"
    }
   ],
   "source": [
    "func.display()"
   ]
  },
  {
   "cell_type": "markdown",
   "id": "d704bc38",
   "metadata": {
    "papermill": {
     "duration": 0.009562,
     "end_time": "2021-08-23T05:21:48.184057",
     "exception": false,
     "start_time": "2021-08-23T05:21:48.174495",
     "status": "completed"
    },
    "tags": []
   },
   "source": [
    "## Shape \n",
    "\n",
    "The shape of the function. \n",
    "\n",
    "*If this is not a photon model but a prior or linear function then ignore the units as these docs are auto-generated*"
   ]
  },
  {
   "cell_type": "code",
   "execution_count": 6,
   "id": "db2701d3",
   "metadata": {
    "execution": {
     "iopub.execute_input": "2021-08-23T05:21:48.264204Z",
     "iopub.status.busy": "2021-08-23T05:21:48.261647Z",
     "iopub.status.idle": "2021-08-23T05:21:48.984994Z",
     "shell.execute_reply": "2021-08-23T05:21:48.985586Z"
    },
    "papermill": {
     "duration": 0.792217,
     "end_time": "2021-08-23T05:21:48.985863",
     "exception": false,
     "start_time": "2021-08-23T05:21:48.193646",
     "status": "completed"
    },
    "tags": [
     "nbsphinx-thumbnail"
    ]
   },
   "outputs": [
    {
     "data": {
      "image/png": "[encoded data removed]",
      "text/plain": [
       "<Figure size 432x288 with 1 Axes>"
      ]
     },
     "metadata": {
      "needs_background": "light"
     },
     "output_type": "display_data"
    }
   ],
   "source": [
    "fig, ax = plt.subplots()\n",
    "\n",
    "\n",
    "ax.plot(energy_grid, func(energy_grid), color=blue)\n",
    "\n",
    "ax.set_xlabel(\"energy (keV)\")\n",
    "ax.set_ylabel(\"photon flux\")\n",
    "ax.set_xscale(x_scale)\n",
    "ax.set_yscale(y_scale)\n"
   ]
  },
  {
   "cell_type": "markdown",
   "id": "96051dab",
   "metadata": {
    "lines_to_next_cell": 0,
    "papermill": {
     "duration": 0.010333,
     "end_time": "2021-08-23T05:21:49.006754",
     "exception": false,
     "start_time": "2021-08-23T05:21:48.996421",
     "status": "completed"
    },
    "tags": []
   },
   "source": [
    "## F$_{\\nu}$\n",
    "\n",
    "The F$_{\\nu}$ shape of the photon model\n",
    "*if this is not a photon model, please ignore this auto-generated plot*"
   ]
  },
  {
   "cell_type": "code",
   "execution_count": 7,
   "id": "42d1b74d",
   "metadata": {
    "execution": {
     "iopub.execute_input": "2021-08-23T05:21:49.037728Z",
     "iopub.status.busy": "2021-08-23T05:21:49.035860Z",
     "iopub.status.idle": "2021-08-23T05:21:49.603169Z",
     "shell.execute_reply": "2021-08-23T05:21:49.603751Z"
    },
    "papermill": {
     "duration": 0.586009,
     "end_time": "2021-08-23T05:21:49.604031",
     "exception": false,
     "start_time": "2021-08-23T05:21:49.018022",
     "status": "completed"
    },
    "tags": []
   },
   "outputs": [
    {
     "data": {
      "image/png": "[encoded data removed]",
      "text/plain": [
       "<Figure size 432x288 with 1 Axes>"
      ]
     },
     "metadata": {
      "needs_background": "light"
     },
     "output_type": "display_data"
    }
   ],
   "source": [
    "fig, ax = plt.subplots()\n",
    "\n",
    "ax.plot(energy_grid, energy_grid * func(energy_grid), red)\n",
    "\n",
    "\n",
    "ax.set_xlabel(\"energy (keV)\")\n",
    "ax.set_ylabel(r\"energy flux (F$_{\\nu}$)\")\n",
    "ax.set_xscale(x_scale)\n",
    "ax.set_yscale(y_scale)\n",
    "\n"
   ]
  },
  {
   "cell_type": "markdown",
   "id": "98445ad9",
   "metadata": {
    "papermill": {
     "duration": 0.011234,
     "end_time": "2021-08-23T05:21:49.626721",
     "exception": false,
     "start_time": "2021-08-23T05:21:49.615487",
     "status": "completed"
    },
    "tags": []
   },
   "source": [
    "## $\\nu$F$_{\\nu}$\n",
    "\n",
    "The $\\nu$F$_{\\nu}$ shape of the photon model\n",
    "*if this is not a photon model, please ignore this auto-generated plot*"
   ]
  },
  {
   "cell_type": "code",
   "execution_count": 8,
   "id": "9299cf62",
   "metadata": {
    "execution": {
     "iopub.execute_input": "2021-08-23T05:21:49.703621Z",
     "iopub.status.busy": "2021-08-23T05:21:49.655859Z",
     "iopub.status.idle": "2021-08-23T05:21:50.318178Z",
     "shell.execute_reply": "2021-08-23T05:21:50.318818Z"
    },
    "papermill": {
     "duration": 0.681307,
     "end_time": "2021-08-23T05:21:50.319100",
     "exception": false,
     "start_time": "2021-08-23T05:21:49.637793",
     "status": "completed"
    },
    "tags": []
   },
   "outputs": [
    {
     "data": {
      "image/png": "[encoded data removed]",
      "text/plain": [
       "<Figure size 432x288 with 1 Axes>"
      ]
     },
     "metadata": {
      "needs_background": "light"
     },
     "output_type": "display_data"
    }
   ],
   "source": [
    "fig, ax = plt.subplots()\n",
    "\n",
    "ax.plot(energy_grid, energy_grid**2 * func(energy_grid), color=green)\n",
    "\n",
    "\n",
    "ax.set_xlabel(\"energy (keV)\")\n",
    "ax.set_ylabel(r\"$\\nu$F$_{\\nu}$\")\n",
    "ax.set_xscale(x_scale)\n",
    "ax.set_yscale(y_scale)\n"
   ]
  }
 ],
 "metadata": {
  "jupytext": {
   "formats": "ipynb,md"
  },
  "kernelspec": {
   "display_name": "Python 3",
   "language": "python",
   "name": "python3"
  },
  "language_info": {
   "codemirror_mode": {
    "name": "ipython",
    "version": 3
   },
   "file_extension": ".py",
   "mimetype": "text/x-python",
   "name": "python",
   "nbconvert_exporter": "python",
   "pygments_lexer": "ipython3",
   "version": "3.7.11"
  },
  "papermill": {
   "default_parameters": {},
   "duration": 6.746574,
   "end_time": "2021-08-23T05:21:50.902804",
   "environment_variables": {},
   "exception": null,
   "input_path": "Exponential_cutoff.ipynb",
   "output_path": "../docs/notebooks/Exponential_cutoff.ipynb",
   "parameters": {
    "func_name": "Exponential_cutoff",
    "linear_range": false,
    "wide_energy_range": true,
    "x_scale": "log",
    "y_scale": "log"
   },
   "start_time": "2021-08-23T05:21:44.156230",
   "version": "2.3.3"
  }
 },
 "nbformat": 4,
 "nbformat_minor": 5
}
