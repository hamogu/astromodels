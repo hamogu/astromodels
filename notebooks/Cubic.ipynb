{
 "cells": [
  {
   "cell_type": "markdown",
   "id": "67f93bdf",
   "metadata": {
    "papermill": {
     "duration": 0.010098,
     "end_time": "2021-08-23T05:22:40.713963",
     "exception": false,
     "start_time": "2021-08-23T05:22:40.703865",
     "status": "completed"
    },
    "tags": []
   },
   "source": [
    "# Cubic"
   ]
  },
  {
   "cell_type": "code",
   "execution_count": 1,
   "id": "8a3c6b04",
   "metadata": {
    "execution": {
     "iopub.execute_input": "2021-08-23T05:22:40.741522Z",
     "iopub.status.busy": "2021-08-23T05:22:40.740623Z",
     "iopub.status.idle": "2021-08-23T05:22:43.259085Z",
     "shell.execute_reply": "2021-08-23T05:22:43.259697Z"
    },
    "nbsphinx": "hidden",
    "papermill": {
     "duration": 2.537119,
     "end_time": "2021-08-23T05:22:43.260062",
     "exception": false,
     "start_time": "2021-08-23T05:22:40.722943",
     "status": "completed"
    },
    "tags": []
   },
   "outputs": [],
   "source": [
    "%%capture\n",
    "\n",
    "import numpy as np\n",
    "\n",
    "import matplotlib.pyplot as plt\n",
    "\n",
    "import warnings\n",
    "warnings.simplefilter(\"ignore\")\n",
    "\n",
    "from astromodels.functions.function import _known_functions\n",
    "\n",
    "\n",
    "from jupyterthemes import jtplot\n",
    "jtplot.style(context=\"talk\", fscale=1, ticks=True, grid=False)\n",
    "%matplotlib inline"
   ]
  },
  {
   "cell_type": "code",
   "execution_count": 2,
   "id": "cc566573",
   "metadata": {
    "execution": {
     "iopub.execute_input": "2021-08-23T05:22:43.283280Z",
     "iopub.status.busy": "2021-08-23T05:22:43.282343Z",
     "iopub.status.idle": "2021-08-23T05:22:43.288792Z",
     "shell.execute_reply": "2021-08-23T05:22:43.289391Z"
    },
    "nbsphinx": "hidden",
    "papermill": {
     "duration": 0.020849,
     "end_time": "2021-08-23T05:22:43.289678",
     "exception": false,
     "start_time": "2021-08-23T05:22:43.268829",
     "status": "completed"
    },
    "tags": [
     "parameters"
    ]
   },
   "outputs": [],
   "source": [
    "func_name = \"TbAbs\"\n",
    "\n",
    "x_scale=\"log\"\n",
    "y_scale=\"log\"\n",
    "\n",
    "linear_range = False\n",
    "\n",
    "wide_energy_range = False"
   ]
  },
  {
   "cell_type": "code",
   "execution_count": 3,
   "id": "93d9ab25",
   "metadata": {
    "execution": {
     "iopub.execute_input": "2021-08-23T05:22:43.312636Z",
     "iopub.status.busy": "2021-08-23T05:22:43.311743Z",
     "iopub.status.idle": "2021-08-23T05:22:43.318170Z",
     "shell.execute_reply": "2021-08-23T05:22:43.318761Z"
    },
    "papermill": {
     "duration": 0.020493,
     "end_time": "2021-08-23T05:22:43.319033",
     "exception": false,
     "start_time": "2021-08-23T05:22:43.298540",
     "status": "completed"
    },
    "tags": [
     "injected-parameters"
    ]
   },
   "outputs": [],
   "source": [
    "# Parameters\n",
    "func_name = \"Cubic\"\n",
    "wide_energy_range = True\n",
    "x_scale = \"linear\"\n",
    "y_scale = \"linear\"\n",
    "linear_range = True\n"
   ]
  },
  {
   "cell_type": "code",
   "execution_count": 4,
   "id": "bca6ee1a",
   "metadata": {
    "execution": {
     "iopub.execute_input": "2021-08-23T05:22:43.344591Z",
     "iopub.status.busy": "2021-08-23T05:22:43.343682Z",
     "iopub.status.idle": "2021-08-23T05:22:43.350218Z",
     "shell.execute_reply": "2021-08-23T05:22:43.350815Z"
    },
    "lines_to_next_cell": 0,
    "nbsphinx": "hidden",
    "papermill": {
     "duration": 0.023189,
     "end_time": "2021-08-23T05:22:43.351102",
     "exception": false,
     "start_time": "2021-08-23T05:22:43.327913",
     "status": "completed"
    },
    "tags": []
   },
   "outputs": [],
   "source": [
    "func = _known_functions[func_name]()\n",
    "\n",
    "if wide_energy_range:\n",
    "\n",
    "    energy_grid = np.geomspace(1e2,1e4,500)\n",
    "    \n",
    "else:\n",
    "    \n",
    "    energy_grid = np.geomspace(2e-1,1e1,1000)\n",
    "\n",
    "if linear_range:\n",
    "\n",
    "\tenergy_grid = np.linspace(-5,5,1000)\n",
    "\n",
    "    \n",
    "blue = \"#4152E3\"\n",
    "red = \"#E3414B\"\n",
    "green = \"#41E39E\""
   ]
  },
  {
   "cell_type": "markdown",
   "id": "9486ccf7",
   "metadata": {
    "lines_to_next_cell": 0,
    "papermill": {
     "duration": 0.008873,
     "end_time": "2021-08-23T05:22:43.369135",
     "exception": false,
     "start_time": "2021-08-23T05:22:43.360262",
     "status": "completed"
    },
    "tags": []
   },
   "source": [
    "## Description"
   ]
  },
  {
   "cell_type": "code",
   "execution_count": 5,
   "id": "b002760f",
   "metadata": {
    "execution": {
     "iopub.execute_input": "2021-08-23T05:22:43.399288Z",
     "iopub.status.busy": "2021-08-23T05:22:43.398217Z",
     "iopub.status.idle": "2021-08-23T05:22:43.403033Z",
     "shell.execute_reply": "2021-08-23T05:22:43.402116Z"
    },
    "papermill": {
     "duration": 0.025128,
     "end_time": "2021-08-23T05:22:43.403313",
     "exception": false,
     "start_time": "2021-08-23T05:22:43.378185",
     "status": "completed"
    },
    "tags": []
   },
   "outputs": [
    {
     "data": {
      "text/html": [
       "<ul>\n",
       "\n",
       "<li>description: A cubic function</li>\n",
       "\n",
       "<li>formula: $ a + b \\cdot x + c \\cdot x^2 + d \\cdot x^3$</li>\n",
       "\n",
       "<li>parameters: \n",
       "<ul>\n",
       "\n",
       "<li>a: \n",
       "<ul>\n",
       "\n",
       "<li>value: 1.0</li>\n",
       "\n",
       "<li>desc: coefficient</li>\n",
       "\n",
       "<li>min_value: None</li>\n",
       "\n",
       "<li>max_value: None</li>\n",
       "\n",
       "<li>unit: </li>\n",
       "\n",
       "<li>is_normalization: False</li>\n",
       "\n",
       "<li>delta: 0.1</li>\n",
       "\n",
       "<li>free: True</li>\n",
       "\n",
       "</ul>\n",
       "\n",
       "</li>\n",
       "\n",
       "<li>b: \n",
       "<ul>\n",
       "\n",
       "<li>value: 1.0</li>\n",
       "\n",
       "<li>desc: coefficient</li>\n",
       "\n",
       "<li>min_value: None</li>\n",
       "\n",
       "<li>max_value: None</li>\n",
       "\n",
       "<li>unit: </li>\n",
       "\n",
       "<li>is_normalization: False</li>\n",
       "\n",
       "<li>delta: 0.1</li>\n",
       "\n",
       "<li>free: True</li>\n",
       "\n",
       "</ul>\n",
       "\n",
       "</li>\n",
       "\n",
       "<li>c: \n",
       "<ul>\n",
       "\n",
       "<li>value: 1.0</li>\n",
       "\n",
       "<li>desc: coefficient</li>\n",
       "\n",
       "<li>min_value: None</li>\n",
       "\n",
       "<li>max_value: None</li>\n",
       "\n",
       "<li>unit: </li>\n",
       "\n",
       "<li>is_normalization: False</li>\n",
       "\n",
       "<li>delta: 0.1</li>\n",
       "\n",
       "<li>free: True</li>\n",
       "\n",
       "</ul>\n",
       "\n",
       "</li>\n",
       "\n",
       "<li>d: \n",
       "<ul>\n",
       "\n",
       "<li>value: 1.0</li>\n",
       "\n",
       "<li>desc: coefficient</li>\n",
       "\n",
       "<li>min_value: None</li>\n",
       "\n",
       "<li>max_value: None</li>\n",
       "\n",
       "<li>unit: </li>\n",
       "\n",
       "<li>is_normalization: False</li>\n",
       "\n",
       "<li>delta: 0.1</li>\n",
       "\n",
       "<li>free: True</li>\n",
       "\n",
       "</ul>\n",
       "\n",
       "</li>\n",
       "\n",
       "</ul>\n",
       "\n",
       "</li>\n",
       "\n",
       "</ul>\n"
      ],
      "text/plain": [
       "  * description: A cubic function\n",
       "  * formula: $ a + b \\cdot x + c \\cdot x^2 + d \\cdot x^3$\n",
       "  * parameters:\n",
       "    * a:\n",
       "      * value: 1.0\n",
       "      * desc: coefficient\n",
       "      * min_value: null\n",
       "      * max_value: null\n",
       "      * unit: ''\n",
       "      * is_normalization: false\n",
       "      * delta: 0.1\n",
       "      * free: true\n",
       "    * b:\n",
       "      * value: 1.0\n",
       "      * desc: coefficient\n",
       "      * min_value: null\n",
       "      * max_value: null\n",
       "      * unit: ''\n",
       "      * is_normalization: false\n",
       "      * delta: 0.1\n",
       "      * free: true\n",
       "    * c:\n",
       "      * value: 1.0\n",
       "      * desc: coefficient\n",
       "      * min_value: null\n",
       "      * max_value: null\n",
       "      * unit: ''\n",
       "      * is_normalization: false\n",
       "      * delta: 0.1\n",
       "      * free: true\n",
       "    * d:\n",
       "      * value: 1.0\n",
       "      * desc: coefficient\n",
       "      * min_value: null\n",
       "      * max_value: null\n",
       "      * unit: ''\n",
       "      * is_normalization: false\n",
       "      * delta: 0.1\n",
       "      * free: true"
      ]
     },
     "metadata": {},
     "output_type": "display_data"
    }
   ],
   "source": [
    "func.display()"
   ]
  },
  {
   "cell_type": "markdown",
   "id": "24683abf",
   "metadata": {
    "papermill": {
     "duration": 0.00993,
     "end_time": "2021-08-23T05:22:43.423019",
     "exception": false,
     "start_time": "2021-08-23T05:22:43.413089",
     "status": "completed"
    },
    "tags": []
   },
   "source": [
    "## Shape \n",
    "\n",
    "The shape of the function. \n",
    "\n",
    "*If this is not a photon model but a prior or linear function then ignore the units as these docs are auto-generated*"
   ]
  },
  {
   "cell_type": "code",
   "execution_count": 6,
   "id": "ac29a310",
   "metadata": {
    "execution": {
     "iopub.execute_input": "2021-08-23T05:22:43.474063Z",
     "iopub.status.busy": "2021-08-23T05:22:43.452301Z",
     "iopub.status.idle": "2021-08-23T05:22:43.619590Z",
     "shell.execute_reply": "2021-08-23T05:22:43.620177Z"
    },
    "papermill": {
     "duration": 0.187805,
     "end_time": "2021-08-23T05:22:43.620457",
     "exception": false,
     "start_time": "2021-08-23T05:22:43.432652",
     "status": "completed"
    },
    "tags": [
     "nbsphinx-thumbnail"
    ]
   },
   "outputs": [
    {
     "data": {
      "image/png": "[encoded data removed]",
      "text/plain": [
       "<Figure size 432x288 with 1 Axes>"
      ]
     },
     "metadata": {
      "needs_background": "light"
     },
     "output_type": "display_data"
    }
   ],
   "source": [
    "fig, ax = plt.subplots()\n",
    "\n",
    "\n",
    "ax.plot(energy_grid, func(energy_grid), color=blue)\n",
    "\n",
    "ax.set_xlabel(\"energy (keV)\")\n",
    "ax.set_ylabel(\"photon flux\")\n",
    "ax.set_xscale(x_scale)\n",
    "ax.set_yscale(y_scale)\n"
   ]
  },
  {
   "cell_type": "markdown",
   "id": "5d61800c",
   "metadata": {
    "lines_to_next_cell": 0,
    "papermill": {
     "duration": 0.010606,
     "end_time": "2021-08-23T05:22:43.641790",
     "exception": false,
     "start_time": "2021-08-23T05:22:43.631184",
     "status": "completed"
    },
    "tags": []
   },
   "source": [
    "## F$_{\\nu}$\n",
    "\n",
    "The F$_{\\nu}$ shape of the photon model\n",
    "*if this is not a photon model, please ignore this auto-generated plot*"
   ]
  },
  {
   "cell_type": "code",
   "execution_count": 7,
   "id": "a0f3cfc0",
   "metadata": {
    "execution": {
     "iopub.execute_input": "2021-08-23T05:22:43.703287Z",
     "iopub.status.busy": "2021-08-23T05:22:43.670228Z",
     "iopub.status.idle": "2021-08-23T05:22:44.062907Z",
     "shell.execute_reply": "2021-08-23T05:22:44.063498Z"
    },
    "papermill": {
     "duration": 0.411706,
     "end_time": "2021-08-23T05:22:44.063781",
     "exception": false,
     "start_time": "2021-08-23T05:22:43.652075",
     "status": "completed"
    },
    "tags": []
   },
   "outputs": [
    {
     "data": {
      "image/png": "[encoded data removed]",
      "text/plain": [
       "<Figure size 432x288 with 1 Axes>"
      ]
     },
     "metadata": {
      "needs_background": "light"
     },
     "output_type": "display_data"
    }
   ],
   "source": [
    "fig, ax = plt.subplots()\n",
    "\n",
    "ax.plot(energy_grid, energy_grid * func(energy_grid), red)\n",
    "\n",
    "\n",
    "ax.set_xlabel(\"energy (keV)\")\n",
    "ax.set_ylabel(r\"energy flux (F$_{\\nu}$)\")\n",
    "ax.set_xscale(x_scale)\n",
    "ax.set_yscale(y_scale)\n",
    "\n"
   ]
  },
  {
   "cell_type": "markdown",
   "id": "8d2c771e",
   "metadata": {
    "papermill": {
     "duration": 0.01294,
     "end_time": "2021-08-23T05:22:44.090801",
     "exception": false,
     "start_time": "2021-08-23T05:22:44.077861",
     "status": "completed"
    },
    "tags": []
   },
   "source": [
    "## $\\nu$F$_{\\nu}$\n",
    "\n",
    "The $\\nu$F$_{\\nu}$ shape of the photon model\n",
    "*if this is not a photon model, please ignore this auto-generated plot*"
   ]
  },
  {
   "cell_type": "code",
   "execution_count": 8,
   "id": "3e0303d4",
   "metadata": {
    "execution": {
     "iopub.execute_input": "2021-08-23T05:22:44.141096Z",
     "iopub.status.busy": "2021-08-23T05:22:44.120172Z",
     "iopub.status.idle": "2021-08-23T05:22:44.283180Z",
     "shell.execute_reply": "2021-08-23T05:22:44.284153Z"
    },
    "papermill": {
     "duration": 0.181876,
     "end_time": "2021-08-23T05:22:44.284460",
     "exception": false,
     "start_time": "2021-08-23T05:22:44.102584",
     "status": "completed"
    },
    "tags": []
   },
   "outputs": [
    {
     "data": {
      "image/png": "[encoded data removed]",
      "text/plain": [
       "<Figure size 432x288 with 1 Axes>"
      ]
     },
     "metadata": {
      "needs_background": "light"
     },
     "output_type": "display_data"
    }
   ],
   "source": [
    "fig, ax = plt.subplots()\n",
    "\n",
    "ax.plot(energy_grid, energy_grid**2 * func(energy_grid), color=green)\n",
    "\n",
    "\n",
    "ax.set_xlabel(\"energy (keV)\")\n",
    "ax.set_ylabel(r\"$\\nu$F$_{\\nu}$\")\n",
    "ax.set_xscale(x_scale)\n",
    "ax.set_yscale(y_scale)\n"
   ]
  }
 ],
 "metadata": {
  "jupytext": {
   "formats": "ipynb,md"
  },
  "kernelspec": {
   "display_name": "Python 3",
   "language": "python",
   "name": "python3"
  },
  "language_info": {
   "codemirror_mode": {
    "name": "ipython",
    "version": 3
   },
   "file_extension": ".py",
   "mimetype": "text/x-python",
   "name": "python",
   "nbconvert_exporter": "python",
   "pygments_lexer": "ipython3",
   "version": "3.7.11"
  },
  "papermill": {
   "default_parameters": {},
   "duration": 5.033137,
   "end_time": "2021-08-23T05:22:44.746337",
   "environment_variables": {},
   "exception": null,
   "input_path": "Cubic.ipynb",
   "output_path": "../docs/notebooks/Cubic.ipynb",
   "parameters": {
    "func_name": "Cubic",
    "linear_range": true,
    "wide_energy_range": true,
    "x_scale": "linear",
    "y_scale": "linear"
   },
   "start_time": "2021-08-23T05:22:39.713200",
   "version": "2.3.3"
  }
 },
 "nbformat": 4,
 "nbformat_minor": 5
}
