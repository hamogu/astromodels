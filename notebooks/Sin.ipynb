{
 "cells": [
  {
   "cell_type": "markdown",
   "id": "ea417dec",
   "metadata": {
    "papermill": {
     "duration": 0.010467,
     "end_time": "2021-08-23T04:52:20.261216",
     "exception": false,
     "start_time": "2021-08-23T04:52:20.250749",
     "status": "completed"
    },
    "tags": []
   },
   "source": [
    "# Sin"
   ]
  },
  {
   "cell_type": "code",
   "execution_count": 1,
   "id": "fc4ea523",
   "metadata": {
    "execution": {
     "iopub.execute_input": "2021-08-23T04:52:20.328431Z",
     "iopub.status.busy": "2021-08-23T04:52:20.327296Z",
     "iopub.status.idle": "2021-08-23T04:52:23.243207Z",
     "shell.execute_reply": "2021-08-23T04:52:23.242147Z"
    },
    "nbsphinx": "hidden",
    "papermill": {
     "duration": 2.934471,
     "end_time": "2021-08-23T04:52:23.243477",
     "exception": false,
     "start_time": "2021-08-23T04:52:20.309006",
     "status": "completed"
    },
    "tags": []
   },
   "outputs": [],
   "source": [
    "%%capture\n",
    "\n",
    "import numpy as np\n",
    "\n",
    "import matplotlib.pyplot as plt\n",
    "\n",
    "import warnings\n",
    "warnings.simplefilter(\"ignore\")\n",
    "\n",
    "from astromodels.functions.function import _known_functions\n",
    "\n",
    "\n",
    "from jupyterthemes import jtplot\n",
    "jtplot.style(context=\"talk\", fscale=1, ticks=True, grid=False)\n",
    "%matplotlib inline"
   ]
  },
  {
   "cell_type": "code",
   "execution_count": 2,
   "id": "200cb676",
   "metadata": {
    "execution": {
     "iopub.execute_input": "2021-08-23T04:52:23.266299Z",
     "iopub.status.busy": "2021-08-23T04:52:23.265357Z",
     "iopub.status.idle": "2021-08-23T04:52:23.268821Z",
     "shell.execute_reply": "2021-08-23T04:52:23.269489Z"
    },
    "nbsphinx": "hidden",
    "papermill": {
     "duration": 0.017416,
     "end_time": "2021-08-23T04:52:23.269795",
     "exception": false,
     "start_time": "2021-08-23T04:52:23.252379",
     "status": "completed"
    },
    "tags": [
     "parameters"
    ]
   },
   "outputs": [],
   "source": [
    "func_name = \"TbAbs\"\n",
    "\n",
    "x_scale=\"log\"\n",
    "y_scale=\"log\"\n",
    "\n",
    "linear_range = False\n",
    "\n",
    "wide_energy_range = False"
   ]
  },
  {
   "cell_type": "code",
   "execution_count": 3,
   "id": "3c650a63",
   "metadata": {
    "execution": {
     "iopub.execute_input": "2021-08-23T04:52:23.292776Z",
     "iopub.status.busy": "2021-08-23T04:52:23.291884Z",
     "iopub.status.idle": "2021-08-23T04:52:23.295890Z",
     "shell.execute_reply": "2021-08-23T04:52:23.296469Z"
    },
    "papermill": {
     "duration": 0.018209,
     "end_time": "2021-08-23T04:52:23.296755",
     "exception": false,
     "start_time": "2021-08-23T04:52:23.278546",
     "status": "completed"
    },
    "tags": [
     "injected-parameters"
    ]
   },
   "outputs": [],
   "source": [
    "# Parameters\n",
    "func_name = \"Sin\"\n",
    "wide_energy_range = True\n",
    "x_scale = \"linear\"\n",
    "y_scale = \"linear\"\n",
    "linear_range = True\n"
   ]
  },
  {
   "cell_type": "code",
   "execution_count": 4,
   "id": "f6104642",
   "metadata": {
    "execution": {
     "iopub.execute_input": "2021-08-23T04:52:23.322375Z",
     "iopub.status.busy": "2021-08-23T04:52:23.321387Z",
     "iopub.status.idle": "2021-08-23T04:52:23.323937Z",
     "shell.execute_reply": "2021-08-23T04:52:23.324531Z"
    },
    "lines_to_next_cell": 0,
    "nbsphinx": "hidden",
    "papermill": {
     "duration": 0.019124,
     "end_time": "2021-08-23T04:52:23.324818",
     "exception": false,
     "start_time": "2021-08-23T04:52:23.305694",
     "status": "completed"
    },
    "tags": []
   },
   "outputs": [],
   "source": [
    "func = _known_functions[func_name]()\n",
    "\n",
    "if wide_energy_range:\n",
    "\n",
    "    energy_grid = np.geomspace(1e2,1e4,500)\n",
    "    \n",
    "else:\n",
    "    \n",
    "    energy_grid = np.geomspace(2e-1,1e1,1000)\n",
    "\n",
    "if linear_range:\n",
    "\n",
    "\tenergy_grid = np.linspace(-5,5,1000)\n",
    "\n",
    "    \n",
    "blue = \"#4152E3\"\n",
    "red = \"#E3414B\"\n",
    "green = \"#41E39E\""
   ]
  },
  {
   "cell_type": "markdown",
   "id": "d38ee1bc",
   "metadata": {
    "lines_to_next_cell": 0,
    "papermill": {
     "duration": 0.009033,
     "end_time": "2021-08-23T04:52:23.342841",
     "exception": false,
     "start_time": "2021-08-23T04:52:23.333808",
     "status": "completed"
    },
    "tags": []
   },
   "source": [
    "## Description"
   ]
  },
  {
   "cell_type": "code",
   "execution_count": 5,
   "id": "527db5d0",
   "metadata": {
    "execution": {
     "iopub.execute_input": "2021-08-23T04:52:23.371781Z",
     "iopub.status.busy": "2021-08-23T04:52:23.370766Z",
     "iopub.status.idle": "2021-08-23T04:52:23.374561Z",
     "shell.execute_reply": "2021-08-23T04:52:23.375156Z"
    },
    "papermill": {
     "duration": 0.023439,
     "end_time": "2021-08-23T04:52:23.375438",
     "exception": false,
     "start_time": "2021-08-23T04:52:23.351999",
     "status": "completed"
    },
    "tags": []
   },
   "outputs": [
    {
     "data": {
      "text/html": [
       "<ul>\n",
       "\n",
       "<li>description: A sinusodial function</li>\n",
       "\n",
       "<li>formula: $ K~\\sin{(2\\pi f x + \\phi)} $</li>\n",
       "\n",
       "<li>parameters: \n",
       "<ul>\n",
       "\n",
       "<li>K: \n",
       "<ul>\n",
       "\n",
       "<li>value: 1.0</li>\n",
       "\n",
       "<li>desc: Normalization</li>\n",
       "\n",
       "<li>min_value: None</li>\n",
       "\n",
       "<li>max_value: None</li>\n",
       "\n",
       "<li>unit: </li>\n",
       "\n",
       "<li>is_normalization: True</li>\n",
       "\n",
       "<li>delta: 0.1</li>\n",
       "\n",
       "<li>free: True</li>\n",
       "\n",
       "</ul>\n",
       "\n",
       "</li>\n",
       "\n",
       "<li>f: \n",
       "<ul>\n",
       "\n",
       "<li>value: 0.15915494309189535</li>\n",
       "\n",
       "<li>desc: frequency</li>\n",
       "\n",
       "<li>min_value: 0.0</li>\n",
       "\n",
       "<li>max_value: None</li>\n",
       "\n",
       "<li>unit: </li>\n",
       "\n",
       "<li>is_normalization: False</li>\n",
       "\n",
       "<li>delta: 0.015915494309189534</li>\n",
       "\n",
       "<li>free: True</li>\n",
       "\n",
       "</ul>\n",
       "\n",
       "</li>\n",
       "\n",
       "<li>phi: \n",
       "<ul>\n",
       "\n",
       "<li>value: 0.0</li>\n",
       "\n",
       "<li>desc: phase</li>\n",
       "\n",
       "<li>min_value: -3.141592653589793</li>\n",
       "\n",
       "<li>max_value: 3.141592653589793</li>\n",
       "\n",
       "<li>unit: rad</li>\n",
       "\n",
       "<li>is_normalization: False</li>\n",
       "\n",
       "<li>delta: 0.1</li>\n",
       "\n",
       "<li>free: True</li>\n",
       "\n",
       "</ul>\n",
       "\n",
       "</li>\n",
       "\n",
       "</ul>\n",
       "\n",
       "</li>\n",
       "\n",
       "</ul>\n"
      ],
      "text/plain": [
       "  * description: A sinusodial function\n",
       "  * formula: $ K~\\sin{(2\\pi f x + \\phi)} $\n",
       "  * parameters:\n",
       "    * K:\n",
       "      * value: 1.0\n",
       "      * desc: Normalization\n",
       "      * min_value: null\n",
       "      * max_value: null\n",
       "      * unit: ''\n",
       "      * is_normalization: true\n",
       "      * delta: 0.1\n",
       "      * free: true\n",
       "    * f:\n",
       "      * value: 0.15915494309189535\n",
       "      * desc: frequency\n",
       "      * min_value: 0.0\n",
       "      * max_value: null\n",
       "      * unit: ''\n",
       "      * is_normalization: false\n",
       "      * delta: 0.015915494309189534\n",
       "      * free: true\n",
       "    * phi:\n",
       "      * value: 0.0\n",
       "      * desc: phase\n",
       "      * min_value: -3.141592653589793\n",
       "      * max_value: 3.141592653589793\n",
       "      * unit: rad\n",
       "      * is_normalization: false\n",
       "      * delta: 0.1\n",
       "      * free: true"
      ]
     },
     "metadata": {},
     "output_type": "display_data"
    }
   ],
   "source": [
    "func.display()"
   ]
  },
  {
   "cell_type": "markdown",
   "id": "9a7df326",
   "metadata": {
    "papermill": {
     "duration": 0.009816,
     "end_time": "2021-08-23T04:52:23.395122",
     "exception": false,
     "start_time": "2021-08-23T04:52:23.385306",
     "status": "completed"
    },
    "tags": []
   },
   "source": [
    "## Shape \n",
    "\n",
    "The shape of the function. \n",
    "\n",
    "*If this is not a photon model but a prior or linear function then ignore the units as these docs are auto-generated*"
   ]
  },
  {
   "cell_type": "code",
   "execution_count": 6,
   "id": "1eb4cc60",
   "metadata": {
    "execution": {
     "iopub.execute_input": "2021-08-23T04:52:23.442761Z",
     "iopub.status.busy": "2021-08-23T04:52:23.422276Z",
     "iopub.status.idle": "2021-08-23T04:52:23.603007Z",
     "shell.execute_reply": "2021-08-23T04:52:23.603868Z"
    },
    "papermill": {
     "duration": 0.19945,
     "end_time": "2021-08-23T04:52:23.604329",
     "exception": false,
     "start_time": "2021-08-23T04:52:23.404879",
     "status": "completed"
    },
    "tags": [
     "nbsphinx-thumbnail"
    ]
   },
   "outputs": [
    {
     "data": {
      "image/png": "[encoded data removed]",
      "text/plain": [
       "<Figure size 432x288 with 1 Axes>"
      ]
     },
     "metadata": {
      "needs_background": "light"
     },
     "output_type": "display_data"
    }
   ],
   "source": [
    "fig, ax = plt.subplots()\n",
    "\n",
    "\n",
    "ax.plot(energy_grid, func(energy_grid), color=blue)\n",
    "\n",
    "ax.set_xlabel(\"energy (keV)\")\n",
    "ax.set_ylabel(\"photon flux\")\n",
    "ax.set_xscale(x_scale)\n",
    "ax.set_yscale(y_scale)\n"
   ]
  },
  {
   "cell_type": "markdown",
   "id": "34ec28cc",
   "metadata": {
    "lines_to_next_cell": 0,
    "papermill": {
     "duration": 0.01244,
     "end_time": "2021-08-23T04:52:23.630978",
     "exception": false,
     "start_time": "2021-08-23T04:52:23.618538",
     "status": "completed"
    },
    "tags": []
   },
   "source": [
    "## F$_{\\nu}$\n",
    "\n",
    "The F$_{\\nu}$ shape of the photon model\n",
    "*if this is not a photon model, please ignore this auto-generated plot*"
   ]
  },
  {
   "cell_type": "code",
   "execution_count": 7,
   "id": "66443907",
   "metadata": {
    "execution": {
     "iopub.execute_input": "2021-08-23T04:52:23.664732Z",
     "iopub.status.busy": "2021-08-23T04:52:23.660939Z",
     "iopub.status.idle": "2021-08-23T04:52:24.130479Z",
     "shell.execute_reply": "2021-08-23T04:52:24.132099Z"
    },
    "papermill": {
     "duration": 0.490125,
     "end_time": "2021-08-23T04:52:24.132992",
     "exception": false,
     "start_time": "2021-08-23T04:52:23.642867",
     "status": "completed"
    },
    "tags": []
   },
   "outputs": [
    {
     "data": {
      "image/png": "[encoded data removed]",
      "text/plain": [
       "<Figure size 432x288 with 1 Axes>"
      ]
     },
     "metadata": {
      "needs_background": "light"
     },
     "output_type": "display_data"
    }
   ],
   "source": [
    "fig, ax = plt.subplots()\n",
    "\n",
    "ax.plot(energy_grid, energy_grid * func(energy_grid), red)\n",
    "\n",
    "\n",
    "ax.set_xlabel(\"energy (keV)\")\n",
    "ax.set_ylabel(r\"energy flux (F$_{\\nu}$)\")\n",
    "ax.set_xscale(x_scale)\n",
    "ax.set_yscale(y_scale)\n",
    "\n"
   ]
  },
  {
   "cell_type": "markdown",
   "id": "566f8adc",
   "metadata": {
    "papermill": {
     "duration": 0.012521,
     "end_time": "2021-08-23T04:52:24.157949",
     "exception": false,
     "start_time": "2021-08-23T04:52:24.145428",
     "status": "completed"
    },
    "tags": []
   },
   "source": [
    "## $\\nu$F$_{\\nu}$\n",
    "\n",
    "The $\\nu$F$_{\\nu}$ shape of the photon model\n",
    "*if this is not a photon model, please ignore this auto-generated plot*"
   ]
  },
  {
   "cell_type": "code",
   "execution_count": 8,
   "id": "4f9e5a88",
   "metadata": {
    "execution": {
     "iopub.execute_input": "2021-08-23T04:52:24.228562Z",
     "iopub.status.busy": "2021-08-23T04:52:24.207713Z",
     "iopub.status.idle": "2021-08-23T04:52:24.349043Z",
     "shell.execute_reply": "2021-08-23T04:52:24.349645Z"
    },
    "papermill": {
     "duration": 0.180533,
     "end_time": "2021-08-23T04:52:24.349957",
     "exception": false,
     "start_time": "2021-08-23T04:52:24.169424",
     "status": "completed"
    },
    "tags": []
   },
   "outputs": [
    {
     "data": {
      "image/png": "[encoded data removed]",
      "text/plain": [
       "<Figure size 432x288 with 1 Axes>"
      ]
     },
     "metadata": {
      "needs_background": "light"
     },
     "output_type": "display_data"
    }
   ],
   "source": [
    "fig, ax = plt.subplots()\n",
    "\n",
    "ax.plot(energy_grid, energy_grid**2 * func(energy_grid), color=green)\n",
    "\n",
    "\n",
    "ax.set_xlabel(\"energy (keV)\")\n",
    "ax.set_ylabel(r\"$\\nu$F$_{\\nu}$\")\n",
    "ax.set_xscale(x_scale)\n",
    "ax.set_yscale(y_scale)\n"
   ]
  }
 ],
 "metadata": {
  "jupytext": {
   "formats": "ipynb,md"
  },
  "kernelspec": {
   "display_name": "Python 3",
   "language": "python",
   "name": "python3"
  },
  "language_info": {
   "codemirror_mode": {
    "name": "ipython",
    "version": 3
   },
   "file_extension": ".py",
   "mimetype": "text/x-python",
   "name": "python",
   "nbconvert_exporter": "python",
   "pygments_lexer": "ipython3",
   "version": "3.7.11"
  },
  "papermill": {
   "default_parameters": {},
   "duration": 5.585237,
   "end_time": "2021-08-23T04:52:24.842596",
   "environment_variables": {},
   "exception": null,
   "input_path": "Sin.ipynb",
   "output_path": "../docs/notebooks/Sin.ipynb",
   "parameters": {
    "func_name": "Sin",
    "linear_range": true,
    "wide_energy_range": true,
    "x_scale": "linear",
    "y_scale": "linear"
   },
   "start_time": "2021-08-23T04:52:19.257359",
   "version": "2.3.3"
  }
 },
 "nbformat": 4,
 "nbformat_minor": 5
}
