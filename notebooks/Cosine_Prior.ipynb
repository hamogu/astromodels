{
 "cells": [
  {
   "cell_type": "markdown",
   "id": "64d10bc0",
   "metadata": {
    "papermill": {
     "duration": 0.00942,
     "end_time": "2021-08-22T16:55:33.276305",
     "exception": false,
     "start_time": "2021-08-22T16:55:33.266885",
     "status": "completed"
    },
    "tags": []
   },
   "source": [
    "# Cosine Prior"
   ]
  },
  {
   "cell_type": "code",
   "execution_count": 1,
   "id": "4545b5ff",
   "metadata": {
    "execution": {
     "iopub.execute_input": "2021-08-22T16:55:33.304030Z",
     "iopub.status.busy": "2021-08-22T16:55:33.303116Z",
     "iopub.status.idle": "2021-08-22T16:55:35.827311Z",
     "shell.execute_reply": "2021-08-22T16:55:35.827862Z"
    },
    "nbsphinx": "hidden",
    "papermill": {
     "duration": 2.542767,
     "end_time": "2021-08-22T16:55:35.828238",
     "exception": false,
     "start_time": "2021-08-22T16:55:33.285471",
     "status": "completed"
    },
    "tags": []
   },
   "outputs": [],
   "source": [
    "%%capture\n",
    "\n",
    "import numpy as np\n",
    "\n",
    "import matplotlib.pyplot as plt\n",
    "\n",
    "import warnings\n",
    "warnings.simplefilter(\"ignore\")\n",
    "\n",
    "from astromodels.functions.function import _known_functions\n",
    "\n",
    "\n",
    "from jupyterthemes import jtplot\n",
    "jtplot.style(context=\"talk\", fscale=1, ticks=True, grid=False)\n",
    "%matplotlib inline"
   ]
  },
  {
   "cell_type": "code",
   "execution_count": 2,
   "id": "8d29767f",
   "metadata": {
    "execution": {
     "iopub.execute_input": "2021-08-22T16:55:35.850901Z",
     "iopub.status.busy": "2021-08-22T16:55:35.850010Z",
     "iopub.status.idle": "2021-08-22T16:55:35.856586Z",
     "shell.execute_reply": "2021-08-22T16:55:35.857147Z"
    },
    "nbsphinx": "hidden",
    "papermill": {
     "duration": 0.020261,
     "end_time": "2021-08-22T16:55:35.857417",
     "exception": false,
     "start_time": "2021-08-22T16:55:35.837156",
     "status": "completed"
    },
    "tags": [
     "parameters"
    ]
   },
   "outputs": [],
   "source": [
    "func_name = \"TbAbs\"\n",
    "\n",
    "x_scale=\"log\"\n",
    "y_scale=\"log\"\n",
    "\n",
    "linear_range = False\n",
    "\n",
    "wide_energy_range = False"
   ]
  },
  {
   "cell_type": "code",
   "execution_count": 3,
   "id": "f1ab164b",
   "metadata": {
    "execution": {
     "iopub.execute_input": "2021-08-22T16:55:35.880799Z",
     "iopub.status.busy": "2021-08-22T16:55:35.879900Z",
     "iopub.status.idle": "2021-08-22T16:55:35.886332Z",
     "shell.execute_reply": "2021-08-22T16:55:35.886861Z"
    },
    "papermill": {
     "duration": 0.020582,
     "end_time": "2021-08-22T16:55:35.887124",
     "exception": false,
     "start_time": "2021-08-22T16:55:35.866542",
     "status": "completed"
    },
    "tags": [
     "injected-parameters"
    ]
   },
   "outputs": [],
   "source": [
    "# Parameters\n",
    "func_name = \"Cosine_Prior\"\n",
    "wide_energy_range = True\n",
    "x_scale = \"linear\"\n",
    "y_scale = \"linear\"\n",
    "linear_range = True\n"
   ]
  },
  {
   "cell_type": "code",
   "execution_count": 4,
   "id": "62a82a0a",
   "metadata": {
    "execution": {
     "iopub.execute_input": "2021-08-22T16:55:35.912092Z",
     "iopub.status.busy": "2021-08-22T16:55:35.911142Z",
     "iopub.status.idle": "2021-08-22T16:55:35.913629Z",
     "shell.execute_reply": "2021-08-22T16:55:35.914167Z"
    },
    "lines_to_next_cell": 0,
    "nbsphinx": "hidden",
    "papermill": {
     "duration": 0.01831,
     "end_time": "2021-08-22T16:55:35.914433",
     "exception": false,
     "start_time": "2021-08-22T16:55:35.896123",
     "status": "completed"
    },
    "tags": []
   },
   "outputs": [],
   "source": [
    "func = _known_functions[func_name]()\n",
    "\n",
    "if wide_energy_range:\n",
    "\n",
    "    energy_grid = np.geomspace(1e2,1e4,500)\n",
    "    \n",
    "else:\n",
    "    \n",
    "    energy_grid = np.geomspace(2e-1,1e1,1000)\n",
    "\n",
    "if linear_range:\n",
    "\n",
    "\tenergy_grid = np.linspace(-5,5,1000)\n",
    "\n",
    "    \n",
    "blue = \"#4152E3\"\n",
    "red = \"#E3414B\"\n",
    "green = \"#41E39E\""
   ]
  },
  {
   "cell_type": "markdown",
   "id": "5c9d30de",
   "metadata": {
    "lines_to_next_cell": 0,
    "papermill": {
     "duration": 0.008994,
     "end_time": "2021-08-22T16:55:35.932291",
     "exception": false,
     "start_time": "2021-08-22T16:55:35.923297",
     "status": "completed"
    },
    "tags": []
   },
   "source": [
    "## Description"
   ]
  },
  {
   "cell_type": "code",
   "execution_count": 5,
   "id": "8469751e",
   "metadata": {
    "execution": {
     "iopub.execute_input": "2021-08-22T16:55:35.960606Z",
     "iopub.status.busy": "2021-08-22T16:55:35.959600Z",
     "iopub.status.idle": "2021-08-22T16:55:35.963325Z",
     "shell.execute_reply": "2021-08-22T16:55:35.963922Z"
    },
    "papermill": {
     "duration": 0.022895,
     "end_time": "2021-08-22T16:55:35.964197",
     "exception": false,
     "start_time": "2021-08-22T16:55:35.941302",
     "status": "completed"
    },
    "tags": []
   },
   "outputs": [
    {
     "data": {
      "text/html": [
       "<ul>\n",
       "\n",
       "<li>description: A function which is constant on the interval angular interval of cosine</li>\n",
       "\n",
       "<li>formula: $\\cos(x)$</li>\n",
       "\n",
       "<li>parameters: \n",
       "<ul>\n",
       "\n",
       "<li>lower_bound: \n",
       "<ul>\n",
       "\n",
       "<li>value: -90.0</li>\n",
       "\n",
       "<li>desc: Lower bound for the interval</li>\n",
       "\n",
       "<li>min_value: -inf</li>\n",
       "\n",
       "<li>max_value: inf</li>\n",
       "\n",
       "<li>unit: </li>\n",
       "\n",
       "<li>is_normalization: False</li>\n",
       "\n",
       "<li>delta: 9.0</li>\n",
       "\n",
       "<li>free: True</li>\n",
       "\n",
       "</ul>\n",
       "\n",
       "</li>\n",
       "\n",
       "<li>upper_bound: \n",
       "<ul>\n",
       "\n",
       "<li>value: 90.0</li>\n",
       "\n",
       "<li>desc: Upper bound for the interval</li>\n",
       "\n",
       "<li>min_value: -inf</li>\n",
       "\n",
       "<li>max_value: inf</li>\n",
       "\n",
       "<li>unit: </li>\n",
       "\n",
       "<li>is_normalization: False</li>\n",
       "\n",
       "<li>delta: 9.0</li>\n",
       "\n",
       "<li>free: True</li>\n",
       "\n",
       "</ul>\n",
       "\n",
       "</li>\n",
       "\n",
       "<li>value: \n",
       "<ul>\n",
       "\n",
       "<li>value: 1.0</li>\n",
       "\n",
       "<li>desc: Value in the interval</li>\n",
       "\n",
       "<li>min_value: None</li>\n",
       "\n",
       "<li>max_value: None</li>\n",
       "\n",
       "<li>unit: </li>\n",
       "\n",
       "<li>is_normalization: False</li>\n",
       "\n",
       "<li>delta: 0.1</li>\n",
       "\n",
       "<li>free: True</li>\n",
       "\n",
       "</ul>\n",
       "\n",
       "</li>\n",
       "\n",
       "</ul>\n",
       "\n",
       "</li>\n",
       "\n",
       "</ul>\n"
      ],
      "text/plain": [
       "  * description: A function which is constant on the interval angular interval of cosine\n",
       "  * formula: $\\cos(x)$\n",
       "  * parameters:\n",
       "    * lower_bound:\n",
       "      * value: -90.0\n",
       "      * desc: Lower bound for the interval\n",
       "      * min_value: -.inf\n",
       "      * max_value: .inf\n",
       "      * unit: ''\n",
       "      * is_normalization: false\n",
       "      * delta: 9.0\n",
       "      * free: true\n",
       "    * upper_bound:\n",
       "      * value: 90.0\n",
       "      * desc: Upper bound for the interval\n",
       "      * min_value: -.inf\n",
       "      * max_value: .inf\n",
       "      * unit: ''\n",
       "      * is_normalization: false\n",
       "      * delta: 9.0\n",
       "      * free: true\n",
       "    * value:\n",
       "      * value: 1.0\n",
       "      * desc: Value in the interval\n",
       "      * min_value: null\n",
       "      * max_value: null\n",
       "      * unit: ''\n",
       "      * is_normalization: false\n",
       "      * delta: 0.1\n",
       "      * free: true"
      ]
     },
     "metadata": {},
     "output_type": "display_data"
    }
   ],
   "source": [
    "func.display()"
   ]
  },
  {
   "cell_type": "markdown",
   "id": "9eae83f0",
   "metadata": {
    "papermill": {
     "duration": 0.00961,
     "end_time": "2021-08-22T16:55:35.983514",
     "exception": false,
     "start_time": "2021-08-22T16:55:35.973904",
     "status": "completed"
    },
    "tags": []
   },
   "source": [
    "## Shape \n",
    "\n",
    "The shape of the function. \n",
    "\n",
    "*If this is not a photon model but a prior or linear function then ignore the units as these docs are auto-generated*"
   ]
  },
  {
   "cell_type": "code",
   "execution_count": 6,
   "id": "140b9e2b",
   "metadata": {
    "execution": {
     "iopub.execute_input": "2021-08-22T16:55:36.030310Z",
     "iopub.status.busy": "2021-08-22T16:55:36.016295Z",
     "iopub.status.idle": "2021-08-22T16:55:36.194022Z",
     "shell.execute_reply": "2021-08-22T16:55:36.194920Z"
    },
    "papermill": {
     "duration": 0.202066,
     "end_time": "2021-08-22T16:55:36.195201",
     "exception": false,
     "start_time": "2021-08-22T16:55:35.993135",
     "status": "completed"
    },
    "tags": [
     "nbsphinx-thumbnail"
    ]
   },
   "outputs": [
    {
     "data": {
      "image/png": "[encoded data removed]",
      "text/plain": [
       "<Figure size 432x288 with 1 Axes>"
      ]
     },
     "metadata": {
      "needs_background": "light"
     },
     "output_type": "display_data"
    }
   ],
   "source": [
    "fig, ax = plt.subplots()\n",
    "\n",
    "\n",
    "ax.plot(energy_grid, func(energy_grid), color=blue)\n",
    "\n",
    "ax.set_xlabel(\"energy (keV)\")\n",
    "ax.set_ylabel(\"photon flux\")\n",
    "ax.set_xscale(x_scale)\n",
    "ax.set_yscale(y_scale)\n"
   ]
  },
  {
   "cell_type": "markdown",
   "id": "2ec984e2",
   "metadata": {
    "lines_to_next_cell": 0,
    "papermill": {
     "duration": 0.010752,
     "end_time": "2021-08-22T16:55:36.216943",
     "exception": false,
     "start_time": "2021-08-22T16:55:36.206191",
     "status": "completed"
    },
    "tags": []
   },
   "source": [
    "## F$_{\\nu}$\n",
    "\n",
    "The F$_{\\nu}$ shape of the photon model\n",
    "*if this is not a photon model, please ignore this auto-generated plot*"
   ]
  },
  {
   "cell_type": "code",
   "execution_count": 7,
   "id": "97013fa5",
   "metadata": {
    "execution": {
     "iopub.execute_input": "2021-08-22T16:55:36.266066Z",
     "iopub.status.busy": "2021-08-22T16:55:36.265187Z",
     "iopub.status.idle": "2021-08-22T16:55:36.617540Z",
     "shell.execute_reply": "2021-08-22T16:55:36.618416Z"
    },
    "papermill": {
     "duration": 0.391094,
     "end_time": "2021-08-22T16:55:36.618691",
     "exception": false,
     "start_time": "2021-08-22T16:55:36.227597",
     "status": "completed"
    },
    "tags": []
   },
   "outputs": [
    {
     "data": {
      "image/png": "[encoded data removed]",
      "text/plain": [
       "<Figure size 432x288 with 1 Axes>"
      ]
     },
     "metadata": {
      "needs_background": "light"
     },
     "output_type": "display_data"
    }
   ],
   "source": [
    "fig, ax = plt.subplots()\n",
    "\n",
    "ax.plot(energy_grid, energy_grid * func(energy_grid), red)\n",
    "\n",
    "\n",
    "ax.set_xlabel(\"energy (keV)\")\n",
    "ax.set_ylabel(r\"energy flux (F$_{\\nu}$)\")\n",
    "ax.set_xscale(x_scale)\n",
    "ax.set_yscale(y_scale)\n",
    "\n"
   ]
  },
  {
   "cell_type": "markdown",
   "id": "74b32f24",
   "metadata": {
    "papermill": {
     "duration": 0.011488,
     "end_time": "2021-08-22T16:55:36.641866",
     "exception": false,
     "start_time": "2021-08-22T16:55:36.630378",
     "status": "completed"
    },
    "tags": []
   },
   "source": [
    "## $\\nu$F$_{\\nu}$\n",
    "\n",
    "The $\\nu$F$_{\\nu}$ shape of the photon model\n",
    "*if this is not a photon model, please ignore this auto-generated plot*"
   ]
  },
  {
   "cell_type": "code",
   "execution_count": 8,
   "id": "93d1f236",
   "metadata": {
    "execution": {
     "iopub.execute_input": "2021-08-22T16:55:36.693682Z",
     "iopub.status.busy": "2021-08-22T16:55:36.692493Z",
     "iopub.status.idle": "2021-08-22T16:55:36.829983Z",
     "shell.execute_reply": "2021-08-22T16:55:36.830875Z"
    },
    "papermill": {
     "duration": 0.177793,
     "end_time": "2021-08-22T16:55:36.831156",
     "exception": false,
     "start_time": "2021-08-22T16:55:36.653363",
     "status": "completed"
    },
    "tags": []
   },
   "outputs": [
    {
     "data": {
      "image/png": "[encoded data removed]",
      "text/plain": [
       "<Figure size 432x288 with 1 Axes>"
      ]
     },
     "metadata": {
      "needs_background": "light"
     },
     "output_type": "display_data"
    }
   ],
   "source": [
    "fig, ax = plt.subplots()\n",
    "\n",
    "ax.plot(energy_grid, energy_grid**2 * func(energy_grid), color=green)\n",
    "\n",
    "\n",
    "ax.set_xlabel(\"energy (keV)\")\n",
    "ax.set_ylabel(r\"$\\nu$F$_{\\nu}$\")\n",
    "ax.set_xscale(x_scale)\n",
    "ax.set_yscale(y_scale)\n"
   ]
  }
 ],
 "metadata": {
  "jupytext": {
   "formats": "ipynb,md"
  },
  "kernelspec": {
   "display_name": "Python 3",
   "language": "python",
   "name": "python3"
  },
  "language_info": {
   "codemirror_mode": {
    "name": "ipython",
    "version": 3
   },
   "file_extension": ".py",
   "mimetype": "text/x-python",
   "name": "python",
   "nbconvert_exporter": "python",
   "pygments_lexer": "ipython3",
   "version": "3.7.11"
  },
  "papermill": {
   "default_parameters": {},
   "duration": 4.984584,
   "end_time": "2021-08-22T16:55:37.239167",
   "environment_variables": {},
   "exception": null,
   "input_path": "Cosine_Prior.ipynb",
   "output_path": "../docs/notebooks/Cosine_Prior.ipynb",
   "parameters": {
    "func_name": "Cosine_Prior",
    "linear_range": true,
    "wide_energy_range": true,
    "x_scale": "linear",
    "y_scale": "linear"
   },
   "start_time": "2021-08-22T16:55:32.254583",
   "version": "2.3.3"
  }
 },
 "nbformat": 4,
 "nbformat_minor": 5
}
