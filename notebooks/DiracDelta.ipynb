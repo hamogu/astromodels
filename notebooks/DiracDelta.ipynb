{
 "cells": [
  {
   "cell_type": "markdown",
   "id": "abff2cda",
   "metadata": {
    "papermill": {
     "duration": 0.009019,
     "end_time": "2021-08-23T05:21:33.242288",
     "exception": false,
     "start_time": "2021-08-23T05:21:33.233269",
     "status": "completed"
    },
    "tags": []
   },
   "source": [
    "# DiracDelta"
   ]
  },
  {
   "cell_type": "code",
   "execution_count": 1,
   "id": "39ed9876",
   "metadata": {
    "execution": {
     "iopub.execute_input": "2021-08-23T05:21:33.270501Z",
     "iopub.status.busy": "2021-08-23T05:21:33.269510Z",
     "iopub.status.idle": "2021-08-23T05:21:36.108138Z",
     "shell.execute_reply": "2021-08-23T05:21:36.109041Z"
    },
    "nbsphinx": "hidden",
    "papermill": {
     "duration": 2.858276,
     "end_time": "2021-08-23T05:21:36.109426",
     "exception": false,
     "start_time": "2021-08-23T05:21:33.251150",
     "status": "completed"
    },
    "tags": []
   },
   "outputs": [],
   "source": [
    "%%capture\n",
    "\n",
    "import numpy as np\n",
    "\n",
    "import matplotlib.pyplot as plt\n",
    "\n",
    "import warnings\n",
    "warnings.simplefilter(\"ignore\")\n",
    "\n",
    "from astromodels.functions.function import _known_functions\n",
    "\n",
    "\n",
    "from jupyterthemes import jtplot\n",
    "jtplot.style(context=\"talk\", fscale=1, ticks=True, grid=False)\n",
    "%matplotlib inline"
   ]
  },
  {
   "cell_type": "code",
   "execution_count": 2,
   "id": "c635ec97",
   "metadata": {
    "execution": {
     "iopub.execute_input": "2021-08-23T05:21:36.133673Z",
     "iopub.status.busy": "2021-08-23T05:21:36.132770Z",
     "iopub.status.idle": "2021-08-23T05:21:36.135031Z",
     "shell.execute_reply": "2021-08-23T05:21:36.135984Z"
    },
    "nbsphinx": "hidden",
    "papermill": {
     "duration": 0.018009,
     "end_time": "2021-08-23T05:21:36.136270",
     "exception": false,
     "start_time": "2021-08-23T05:21:36.118261",
     "status": "completed"
    },
    "tags": [
     "parameters"
    ]
   },
   "outputs": [],
   "source": [
    "func_name = \"TbAbs\"\n",
    "\n",
    "x_scale=\"log\"\n",
    "y_scale=\"log\"\n",
    "\n",
    "linear_range = False\n",
    "\n",
    "wide_energy_range = False"
   ]
  },
  {
   "cell_type": "code",
   "execution_count": 3,
   "id": "f9a85502",
   "metadata": {
    "execution": {
     "iopub.execute_input": "2021-08-23T05:21:36.159253Z",
     "iopub.status.busy": "2021-08-23T05:21:36.158289Z",
     "iopub.status.idle": "2021-08-23T05:21:36.160805Z",
     "shell.execute_reply": "2021-08-23T05:21:36.161395Z"
    },
    "papermill": {
     "duration": 0.016735,
     "end_time": "2021-08-23T05:21:36.161683",
     "exception": false,
     "start_time": "2021-08-23T05:21:36.144948",
     "status": "completed"
    },
    "tags": [
     "injected-parameters"
    ]
   },
   "outputs": [],
   "source": [
    "# Parameters\n",
    "func_name = \"DiracDelta\"\n",
    "wide_energy_range = True\n",
    "x_scale = \"linear\"\n",
    "y_scale = \"linear\"\n",
    "linear_range = True\n"
   ]
  },
  {
   "cell_type": "code",
   "execution_count": 4,
   "id": "50db70c5",
   "metadata": {
    "execution": {
     "iopub.execute_input": "2021-08-23T05:21:36.187238Z",
     "iopub.status.busy": "2021-08-23T05:21:36.182737Z",
     "iopub.status.idle": "2021-08-23T05:21:36.191405Z",
     "shell.execute_reply": "2021-08-23T05:21:36.192197Z"
    },
    "lines_to_next_cell": 0,
    "nbsphinx": "hidden",
    "papermill": {
     "duration": 0.021763,
     "end_time": "2021-08-23T05:21:36.192494",
     "exception": false,
     "start_time": "2021-08-23T05:21:36.170731",
     "status": "completed"
    },
    "tags": []
   },
   "outputs": [],
   "source": [
    "func = _known_functions[func_name]()\n",
    "\n",
    "if wide_energy_range:\n",
    "\n",
    "    energy_grid = np.geomspace(1e2,1e4,500)\n",
    "    \n",
    "else:\n",
    "    \n",
    "    energy_grid = np.geomspace(2e-1,1e1,1000)\n",
    "\n",
    "if linear_range:\n",
    "\n",
    "\tenergy_grid = np.linspace(-5,5,1000)\n",
    "\n",
    "    \n",
    "blue = \"#4152E3\"\n",
    "red = \"#E3414B\"\n",
    "green = \"#41E39E\""
   ]
  },
  {
   "cell_type": "markdown",
   "id": "8c14cb4b",
   "metadata": {
    "lines_to_next_cell": 0,
    "papermill": {
     "duration": 0.009233,
     "end_time": "2021-08-23T05:21:36.210815",
     "exception": false,
     "start_time": "2021-08-23T05:21:36.201582",
     "status": "completed"
    },
    "tags": []
   },
   "source": [
    "## Description"
   ]
  },
  {
   "cell_type": "code",
   "execution_count": 5,
   "id": "b988124b",
   "metadata": {
    "execution": {
     "iopub.execute_input": "2021-08-23T05:21:36.240346Z",
     "iopub.status.busy": "2021-08-23T05:21:36.239329Z",
     "iopub.status.idle": "2021-08-23T05:21:36.243489Z",
     "shell.execute_reply": "2021-08-23T05:21:36.244212Z"
    },
    "papermill": {
     "duration": 0.02422,
     "end_time": "2021-08-23T05:21:36.244493",
     "exception": false,
     "start_time": "2021-08-23T05:21:36.220273",
     "status": "completed"
    },
    "tags": []
   },
   "outputs": [
    {
     "data": {
      "text/html": [
       "<ul>\n",
       "\n",
       "<li>description: return  at zero_point</li>\n",
       "\n",
       "<li>formula: $ value $</li>\n",
       "\n",
       "<li>parameters: \n",
       "<ul>\n",
       "\n",
       "<li>value: \n",
       "<ul>\n",
       "\n",
       "<li>value: 0.0</li>\n",
       "\n",
       "<li>desc: Constant value</li>\n",
       "\n",
       "<li>min_value: None</li>\n",
       "\n",
       "<li>max_value: None</li>\n",
       "\n",
       "<li>unit: </li>\n",
       "\n",
       "<li>is_normalization: False</li>\n",
       "\n",
       "<li>delta: 0.1</li>\n",
       "\n",
       "<li>free: True</li>\n",
       "\n",
       "</ul>\n",
       "\n",
       "</li>\n",
       "\n",
       "<li>zero_point: \n",
       "<ul>\n",
       "\n",
       "<li>value: 0.0</li>\n",
       "\n",
       "<li>desc: value at which function is non-zero</li>\n",
       "\n",
       "<li>min_value: None</li>\n",
       "\n",
       "<li>max_value: None</li>\n",
       "\n",
       "<li>unit: </li>\n",
       "\n",
       "<li>is_normalization: False</li>\n",
       "\n",
       "<li>delta: 0.1</li>\n",
       "\n",
       "<li>free: False</li>\n",
       "\n",
       "</ul>\n",
       "\n",
       "</li>\n",
       "\n",
       "</ul>\n",
       "\n",
       "</li>\n",
       "\n",
       "</ul>\n"
      ],
      "text/plain": [
       "  * description: return  at zero_point\n",
       "  * formula: $ value $\n",
       "  * parameters:\n",
       "    * value:\n",
       "      * value: 0.0\n",
       "      * desc: Constant value\n",
       "      * min_value: null\n",
       "      * max_value: null\n",
       "      * unit: ''\n",
       "      * is_normalization: false\n",
       "      * delta: 0.1\n",
       "      * free: true\n",
       "    * zero_point:\n",
       "      * value: 0.0\n",
       "      * desc: value at which function is non-zero\n",
       "      * min_value: null\n",
       "      * max_value: null\n",
       "      * unit: ''\n",
       "      * is_normalization: false\n",
       "      * delta: 0.1\n",
       "      * free: false"
      ]
     },
     "metadata": {},
     "output_type": "display_data"
    }
   ],
   "source": [
    "func.display()"
   ]
  },
  {
   "cell_type": "markdown",
   "id": "adf7c4e6",
   "metadata": {
    "papermill": {
     "duration": 0.009587,
     "end_time": "2021-08-23T05:21:36.263756",
     "exception": false,
     "start_time": "2021-08-23T05:21:36.254169",
     "status": "completed"
    },
    "tags": []
   },
   "source": [
    "## Shape \n",
    "\n",
    "The shape of the function. \n",
    "\n",
    "*If this is not a photon model but a prior or linear function then ignore the units as these docs are auto-generated*"
   ]
  },
  {
   "cell_type": "code",
   "execution_count": 6,
   "id": "8ef923df",
   "metadata": {
    "execution": {
     "iopub.execute_input": "2021-08-23T05:21:36.307939Z",
     "iopub.status.busy": "2021-08-23T05:21:36.306922Z",
     "iopub.status.idle": "2021-08-23T05:21:36.457294Z",
     "shell.execute_reply": "2021-08-23T05:21:36.455814Z"
    },
    "papermill": {
     "duration": 0.184182,
     "end_time": "2021-08-23T05:21:36.457548",
     "exception": false,
     "start_time": "2021-08-23T05:21:36.273366",
     "status": "completed"
    },
    "tags": [
     "nbsphinx-thumbnail"
    ]
   },
   "outputs": [
    {
     "data": {
      "image/png": "[encoded data removed]",
      "text/plain": [
       "<Figure size 432x288 with 1 Axes>"
      ]
     },
     "metadata": {
      "needs_background": "light"
     },
     "output_type": "display_data"
    }
   ],
   "source": [
    "fig, ax = plt.subplots()\n",
    "\n",
    "\n",
    "ax.plot(energy_grid, func(energy_grid), color=blue)\n",
    "\n",
    "ax.set_xlabel(\"energy (keV)\")\n",
    "ax.set_ylabel(\"photon flux\")\n",
    "ax.set_xscale(x_scale)\n",
    "ax.set_yscale(y_scale)\n"
   ]
  },
  {
   "cell_type": "markdown",
   "id": "bea7fff2",
   "metadata": {
    "lines_to_next_cell": 0,
    "papermill": {
     "duration": 0.010625,
     "end_time": "2021-08-23T05:21:36.478710",
     "exception": false,
     "start_time": "2021-08-23T05:21:36.468085",
     "status": "completed"
    },
    "tags": []
   },
   "source": [
    "## F$_{\\nu}$\n",
    "\n",
    "The F$_{\\nu}$ shape of the photon model\n",
    "*if this is not a photon model, please ignore this auto-generated plot*"
   ]
  },
  {
   "cell_type": "code",
   "execution_count": 7,
   "id": "73a78b0b",
   "metadata": {
    "execution": {
     "iopub.execute_input": "2021-08-23T05:21:36.547874Z",
     "iopub.status.busy": "2021-08-23T05:21:36.527640Z",
     "iopub.status.idle": "2021-08-23T05:21:36.892773Z",
     "shell.execute_reply": "2021-08-23T05:21:36.893975Z"
    },
    "papermill": {
     "duration": 0.405,
     "end_time": "2021-08-23T05:21:36.894346",
     "exception": false,
     "start_time": "2021-08-23T05:21:36.489346",
     "status": "completed"
    },
    "tags": []
   },
   "outputs": [
    {
     "data": {
      "image/png": "[encoded data removed]",
      "text/plain": [
       "<Figure size 432x288 with 1 Axes>"
      ]
     },
     "metadata": {
      "needs_background": "light"
     },
     "output_type": "display_data"
    }
   ],
   "source": [
    "fig, ax = plt.subplots()\n",
    "\n",
    "ax.plot(energy_grid, energy_grid * func(energy_grid), red)\n",
    "\n",
    "\n",
    "ax.set_xlabel(\"energy (keV)\")\n",
    "ax.set_ylabel(r\"energy flux (F$_{\\nu}$)\")\n",
    "ax.set_xscale(x_scale)\n",
    "ax.set_yscale(y_scale)\n",
    "\n"
   ]
  },
  {
   "cell_type": "markdown",
   "id": "f1b34bbe",
   "metadata": {
    "papermill": {
     "duration": 0.011385,
     "end_time": "2021-08-23T05:21:36.917305",
     "exception": false,
     "start_time": "2021-08-23T05:21:36.905920",
     "status": "completed"
    },
    "tags": []
   },
   "source": [
    "## $\\nu$F$_{\\nu}$\n",
    "\n",
    "The $\\nu$F$_{\\nu}$ shape of the photon model\n",
    "*if this is not a photon model, please ignore this auto-generated plot*"
   ]
  },
  {
   "cell_type": "code",
   "execution_count": 8,
   "id": "0f689f3b",
   "metadata": {
    "execution": {
     "iopub.execute_input": "2021-08-23T05:21:36.966935Z",
     "iopub.status.busy": "2021-08-23T05:21:36.946295Z",
     "iopub.status.idle": "2021-08-23T05:21:37.099336Z",
     "shell.execute_reply": "2021-08-23T05:21:37.099927Z"
    },
    "papermill": {
     "duration": 0.171869,
     "end_time": "2021-08-23T05:21:37.100215",
     "exception": false,
     "start_time": "2021-08-23T05:21:36.928346",
     "status": "completed"
    },
    "tags": []
   },
   "outputs": [
    {
     "data": {
      "image/png": "[encoded data removed]",
      "text/plain": [
       "<Figure size 432x288 with 1 Axes>"
      ]
     },
     "metadata": {
      "needs_background": "light"
     },
     "output_type": "display_data"
    }
   ],
   "source": [
    "fig, ax = plt.subplots()\n",
    "\n",
    "ax.plot(energy_grid, energy_grid**2 * func(energy_grid), color=green)\n",
    "\n",
    "\n",
    "ax.set_xlabel(\"energy (keV)\")\n",
    "ax.set_ylabel(r\"$\\nu$F$_{\\nu}$\")\n",
    "ax.set_xscale(x_scale)\n",
    "ax.set_yscale(y_scale)\n"
   ]
  }
 ],
 "metadata": {
  "jupytext": {
   "formats": "ipynb,md"
  },
  "kernelspec": {
   "display_name": "Python 3",
   "language": "python",
   "name": "python3"
  },
  "language_info": {
   "codemirror_mode": {
    "name": "ipython",
    "version": 3
   },
   "file_extension": ".py",
   "mimetype": "text/x-python",
   "name": "python",
   "nbconvert_exporter": "python",
   "pygments_lexer": "ipython3",
   "version": "3.7.11"
  },
  "papermill": {
   "default_parameters": {},
   "duration": 5.310874,
   "end_time": "2021-08-23T05:21:37.565798",
   "environment_variables": {},
   "exception": null,
   "input_path": "DiracDelta.ipynb",
   "output_path": "../docs/notebooks/DiracDelta.ipynb",
   "parameters": {
    "func_name": "DiracDelta",
    "linear_range": true,
    "wide_energy_range": true,
    "x_scale": "linear",
    "y_scale": "linear"
   },
   "start_time": "2021-08-23T05:21:32.254924",
   "version": "2.3.3"
  }
 },
 "nbformat": 4,
 "nbformat_minor": 5
}
