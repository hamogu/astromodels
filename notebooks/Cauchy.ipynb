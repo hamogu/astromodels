{
 "cells": [
  {
   "cell_type": "markdown",
   "id": "cf890c2c",
   "metadata": {
    "papermill": {
     "duration": 0.009331,
     "end_time": "2021-08-22T17:31:48.616394",
     "exception": false,
     "start_time": "2021-08-22T17:31:48.607063",
     "status": "completed"
    },
    "tags": []
   },
   "source": [
    "# Cauchy"
   ]
  },
  {
   "cell_type": "code",
   "execution_count": 1,
   "id": "5138f737",
   "metadata": {
    "execution": {
     "iopub.execute_input": "2021-08-22T17:31:48.643761Z",
     "iopub.status.busy": "2021-08-22T17:31:48.642705Z",
     "iopub.status.idle": "2021-08-22T17:31:51.063585Z",
     "shell.execute_reply": "2021-08-22T17:31:51.064338Z"
    },
    "nbsphinx": "hidden",
    "papermill": {
     "duration": 2.439715,
     "end_time": "2021-08-22T17:31:51.064692",
     "exception": false,
     "start_time": "2021-08-22T17:31:48.624977",
     "status": "completed"
    },
    "tags": []
   },
   "outputs": [],
   "source": [
    "%%capture\n",
    "\n",
    "import numpy as np\n",
    "\n",
    "import matplotlib.pyplot as plt\n",
    "\n",
    "import warnings\n",
    "warnings.simplefilter(\"ignore\")\n",
    "\n",
    "from astromodels.functions.function import _known_functions\n",
    "\n",
    "\n",
    "from jupyterthemes import jtplot\n",
    "jtplot.style(context=\"talk\", fscale=1, ticks=True, grid=False)\n",
    "%matplotlib inline"
   ]
  },
  {
   "cell_type": "code",
   "execution_count": 2,
   "id": "1092403b",
   "metadata": {
    "execution": {
     "iopub.execute_input": "2021-08-22T17:31:51.086514Z",
     "iopub.status.busy": "2021-08-22T17:31:51.085663Z",
     "iopub.status.idle": "2021-08-22T17:31:51.092133Z",
     "shell.execute_reply": "2021-08-22T17:31:51.092710Z"
    },
    "nbsphinx": "hidden",
    "papermill": {
     "duration": 0.019778,
     "end_time": "2021-08-22T17:31:51.092979",
     "exception": false,
     "start_time": "2021-08-22T17:31:51.073201",
     "status": "completed"
    },
    "tags": [
     "parameters"
    ]
   },
   "outputs": [],
   "source": [
    "func_name = \"TbAbs\"\n",
    "\n",
    "x_scale=\"log\"\n",
    "y_scale=\"log\"\n",
    "\n",
    "linear_range = False\n",
    "\n",
    "wide_energy_range = False"
   ]
  },
  {
   "cell_type": "code",
   "execution_count": 3,
   "id": "bdb450b0",
   "metadata": {
    "execution": {
     "iopub.execute_input": "2021-08-22T17:31:51.114685Z",
     "iopub.status.busy": "2021-08-22T17:31:51.113810Z",
     "iopub.status.idle": "2021-08-22T17:31:51.120192Z",
     "shell.execute_reply": "2021-08-22T17:31:51.120746Z"
    },
    "papermill": {
     "duration": 0.019604,
     "end_time": "2021-08-22T17:31:51.121006",
     "exception": false,
     "start_time": "2021-08-22T17:31:51.101402",
     "status": "completed"
    },
    "tags": [
     "injected-parameters"
    ]
   },
   "outputs": [],
   "source": [
    "# Parameters\n",
    "func_name = \"Cauchy\"\n",
    "wide_energy_range = True\n",
    "x_scale = \"linear\"\n",
    "y_scale = \"linear\"\n",
    "linear_range = True\n"
   ]
  },
  {
   "cell_type": "code",
   "execution_count": 4,
   "id": "a1716690",
   "metadata": {
    "execution": {
     "iopub.execute_input": "2021-08-22T17:31:51.144681Z",
     "iopub.status.busy": "2021-08-22T17:31:51.143817Z",
     "iopub.status.idle": "2021-08-22T17:31:51.150253Z",
     "shell.execute_reply": "2021-08-22T17:31:51.150815Z"
    },
    "lines_to_next_cell": 0,
    "nbsphinx": "hidden",
    "papermill": {
     "duration": 0.021589,
     "end_time": "2021-08-22T17:31:51.151067",
     "exception": false,
     "start_time": "2021-08-22T17:31:51.129478",
     "status": "completed"
    },
    "tags": []
   },
   "outputs": [],
   "source": [
    "func = _known_functions[func_name]()\n",
    "\n",
    "if wide_energy_range:\n",
    "\n",
    "    energy_grid = np.geomspace(1e2,1e4,500)\n",
    "    \n",
    "else:\n",
    "    \n",
    "    energy_grid = np.geomspace(2e-1,1e1,1000)\n",
    "\n",
    "if linear_range:\n",
    "\n",
    "\tenergy_grid = np.linspace(-5,5,1000)\n",
    "\n",
    "    \n",
    "blue = \"#4152E3\"\n",
    "red = \"#E3414B\"\n",
    "green = \"#41E39E\""
   ]
  },
  {
   "cell_type": "markdown",
   "id": "8848c015",
   "metadata": {
    "lines_to_next_cell": 0,
    "papermill": {
     "duration": 0.008677,
     "end_time": "2021-08-22T17:31:51.168211",
     "exception": false,
     "start_time": "2021-08-22T17:31:51.159534",
     "status": "completed"
    },
    "tags": []
   },
   "source": [
    "## Description"
   ]
  },
  {
   "cell_type": "code",
   "execution_count": 5,
   "id": "a6d9a5a7",
   "metadata": {
    "execution": {
     "iopub.execute_input": "2021-08-22T17:31:51.195575Z",
     "iopub.status.busy": "2021-08-22T17:31:51.194638Z",
     "iopub.status.idle": "2021-08-22T17:31:51.202305Z",
     "shell.execute_reply": "2021-08-22T17:31:51.202878Z"
    },
    "papermill": {
     "duration": 0.026022,
     "end_time": "2021-08-22T17:31:51.203131",
     "exception": false,
     "start_time": "2021-08-22T17:31:51.177109",
     "status": "completed"
    },
    "tags": []
   },
   "outputs": [
    {
     "data": {
      "text/html": [
       "<ul>\n",
       "\n",
       "<li>description: The Cauchy distribution</li>\n",
       "\n",
       "<li>formula: $ K \\frac{1}{ \\gamma \\pi} \\left[ \\frac{\\gamma^2}{(x-x_0)^2 + \\gamma^2}  \\right] $</li>\n",
       "\n",
       "<li>parameters: \n",
       "<ul>\n",
       "\n",
       "<li>K: \n",
       "<ul>\n",
       "\n",
       "<li>value: 1.0</li>\n",
       "\n",
       "<li>desc: Integral between -inf and +inf. Fix this to 1 to obtain a Cauchy distribution</li>\n",
       "\n",
       "<li>min_value: None</li>\n",
       "\n",
       "<li>max_value: None</li>\n",
       "\n",
       "<li>unit: </li>\n",
       "\n",
       "<li>is_normalization: False</li>\n",
       "\n",
       "<li>delta: 0.1</li>\n",
       "\n",
       "<li>free: True</li>\n",
       "\n",
       "</ul>\n",
       "\n",
       "</li>\n",
       "\n",
       "<li>x0: \n",
       "<ul>\n",
       "\n",
       "<li>value: 0.0</li>\n",
       "\n",
       "<li>desc: Central value</li>\n",
       "\n",
       "<li>min_value: None</li>\n",
       "\n",
       "<li>max_value: None</li>\n",
       "\n",
       "<li>unit: </li>\n",
       "\n",
       "<li>is_normalization: False</li>\n",
       "\n",
       "<li>delta: 0.1</li>\n",
       "\n",
       "<li>free: True</li>\n",
       "\n",
       "</ul>\n",
       "\n",
       "</li>\n",
       "\n",
       "<li>gamma: \n",
       "<ul>\n",
       "\n",
       "<li>value: 1.0</li>\n",
       "\n",
       "<li>desc: standard deviation</li>\n",
       "\n",
       "<li>min_value: 1e-12</li>\n",
       "\n",
       "<li>max_value: None</li>\n",
       "\n",
       "<li>unit: </li>\n",
       "\n",
       "<li>is_normalization: False</li>\n",
       "\n",
       "<li>delta: 0.1</li>\n",
       "\n",
       "<li>free: True</li>\n",
       "\n",
       "</ul>\n",
       "\n",
       "</li>\n",
       "\n",
       "</ul>\n",
       "\n",
       "</li>\n",
       "\n",
       "</ul>\n"
      ],
      "text/plain": [
       "  * description: The Cauchy distribution\n",
       "  * formula: $ K \\frac{1}{ \\gamma \\pi} \\left[ \\frac{\\gamma^2}{(x-x_0)^2 + \\gamma^2}  \\right]\n",
       "    * $\n",
       "  * parameters:\n",
       "    * K:\n",
       "      * value: 1.0\n",
       "      * desc: Integral between -inf and +inf. Fix this to 1 to obtain a Cauchy distribution\n",
       "      * min_value: null\n",
       "      * max_value: null\n",
       "      * unit: ''\n",
       "      * is_normalization: false\n",
       "      * delta: 0.1\n",
       "      * free: true\n",
       "    * x0:\n",
       "      * value: 0.0\n",
       "      * desc: Central value\n",
       "      * min_value: null\n",
       "      * max_value: null\n",
       "      * unit: ''\n",
       "      * is_normalization: false\n",
       "      * delta: 0.1\n",
       "      * free: true\n",
       "    * gamma:\n",
       "      * value: 1.0\n",
       "      * desc: standard deviation\n",
       "      * min_value: 1.0e-12\n",
       "      * max_value: null\n",
       "      * unit: ''\n",
       "      * is_normalization: false\n",
       "      * delta: 0.1\n",
       "      * free: true"
      ]
     },
     "metadata": {},
     "output_type": "display_data"
    }
   ],
   "source": [
    "func.display()"
   ]
  },
  {
   "cell_type": "markdown",
   "id": "9d91cadd",
   "metadata": {
    "papermill": {
     "duration": 0.009449,
     "end_time": "2021-08-22T17:31:51.221876",
     "exception": false,
     "start_time": "2021-08-22T17:31:51.212427",
     "status": "completed"
    },
    "tags": []
   },
   "source": [
    "## Shape \n",
    "\n",
    "The shape of the function. \n",
    "\n",
    "*If this is not a photon model but a prior or linear function then ignore the units as these docs are auto-generated*"
   ]
  },
  {
   "cell_type": "code",
   "execution_count": 6,
   "id": "92b84242",
   "metadata": {
    "execution": {
     "iopub.execute_input": "2021-08-22T17:31:51.300820Z",
     "iopub.status.busy": "2021-08-22T17:31:51.291523Z",
     "iopub.status.idle": "2021-08-22T17:31:51.413039Z",
     "shell.execute_reply": "2021-08-22T17:31:51.413628Z"
    },
    "papermill": {
     "duration": 0.182508,
     "end_time": "2021-08-22T17:31:51.413907",
     "exception": false,
     "start_time": "2021-08-22T17:31:51.231399",
     "status": "completed"
    },
    "tags": [
     "nbsphinx-thumbnail"
    ]
   },
   "outputs": [
    {
     "data": {
      "image/png": "[encoded data removed]",
      "text/plain": [
       "<Figure size 432x288 with 1 Axes>"
      ]
     },
     "metadata": {
      "needs_background": "light"
     },
     "output_type": "display_data"
    }
   ],
   "source": [
    "fig, ax = plt.subplots()\n",
    "\n",
    "\n",
    "ax.plot(energy_grid, func(energy_grid), color=blue)\n",
    "\n",
    "ax.set_xlabel(\"energy (keV)\")\n",
    "ax.set_ylabel(\"photon flux\")\n",
    "ax.set_xscale(x_scale)\n",
    "ax.set_yscale(y_scale)\n"
   ]
  },
  {
   "cell_type": "markdown",
   "id": "7d1ba0c5",
   "metadata": {
    "lines_to_next_cell": 0,
    "papermill": {
     "duration": 0.010302,
     "end_time": "2021-08-22T17:31:51.434872",
     "exception": false,
     "start_time": "2021-08-22T17:31:51.424570",
     "status": "completed"
    },
    "tags": []
   },
   "source": [
    "## F$_{\\nu}$\n",
    "\n",
    "The F$_{\\nu}$ shape of the photon model\n",
    "*if this is not a photon model, please ignore this auto-generated plot*"
   ]
  },
  {
   "cell_type": "code",
   "execution_count": 7,
   "id": "2928df69",
   "metadata": {
    "execution": {
     "iopub.execute_input": "2021-08-22T17:31:51.504232Z",
     "iopub.status.busy": "2021-08-22T17:31:51.462223Z",
     "iopub.status.idle": "2021-08-22T17:31:51.838482Z",
     "shell.execute_reply": "2021-08-22T17:31:51.839105Z"
    },
    "papermill": {
     "duration": 0.394123,
     "end_time": "2021-08-22T17:31:51.839384",
     "exception": false,
     "start_time": "2021-08-22T17:31:51.445261",
     "status": "completed"
    },
    "tags": []
   },
   "outputs": [
    {
     "data": {
      "image/png": "[encoded data removed]",
      "text/plain": [
       "<Figure size 432x288 with 1 Axes>"
      ]
     },
     "metadata": {
      "needs_background": "light"
     },
     "output_type": "display_data"
    }
   ],
   "source": [
    "fig, ax = plt.subplots()\n",
    "\n",
    "ax.plot(energy_grid, energy_grid * func(energy_grid), red)\n",
    "\n",
    "\n",
    "ax.set_xlabel(\"energy (keV)\")\n",
    "ax.set_ylabel(r\"energy flux (F$_{\\nu}$)\")\n",
    "ax.set_xscale(x_scale)\n",
    "ax.set_yscale(y_scale)\n",
    "\n"
   ]
  },
  {
   "cell_type": "markdown",
   "id": "7051f41e",
   "metadata": {
    "papermill": {
     "duration": 0.011479,
     "end_time": "2021-08-22T17:31:51.862643",
     "exception": false,
     "start_time": "2021-08-22T17:31:51.851164",
     "status": "completed"
    },
    "tags": []
   },
   "source": [
    "## $\\nu$F$_{\\nu}$\n",
    "\n",
    "The $\\nu$F$_{\\nu}$ shape of the photon model\n",
    "*if this is not a photon model, please ignore this auto-generated plot*"
   ]
  },
  {
   "cell_type": "code",
   "execution_count": 8,
   "id": "429716cf",
   "metadata": {
    "execution": {
     "iopub.execute_input": "2021-08-22T17:31:51.916978Z",
     "iopub.status.busy": "2021-08-22T17:31:51.904163Z",
     "iopub.status.idle": "2021-08-22T17:31:52.051603Z",
     "shell.execute_reply": "2021-08-22T17:31:52.052267Z"
    },
    "papermill": {
     "duration": 0.178163,
     "end_time": "2021-08-22T17:31:52.052553",
     "exception": false,
     "start_time": "2021-08-22T17:31:51.874390",
     "status": "completed"
    },
    "tags": []
   },
   "outputs": [
    {
     "data": {
      "image/png": "[encoded data removed]",
      "text/plain": [
       "<Figure size 432x288 with 1 Axes>"
      ]
     },
     "metadata": {
      "needs_background": "light"
     },
     "output_type": "display_data"
    }
   ],
   "source": [
    "fig, ax = plt.subplots()\n",
    "\n",
    "ax.plot(energy_grid, energy_grid**2 * func(energy_grid), color=green)\n",
    "\n",
    "\n",
    "ax.set_xlabel(\"energy (keV)\")\n",
    "ax.set_ylabel(r\"$\\nu$F$_{\\nu}$\")\n",
    "ax.set_xscale(x_scale)\n",
    "ax.set_yscale(y_scale)\n"
   ]
  }
 ],
 "metadata": {
  "jupytext": {
   "formats": "ipynb,md"
  },
  "kernelspec": {
   "display_name": "Python 3",
   "language": "python",
   "name": "python3"
  },
  "language_info": {
   "codemirror_mode": {
    "name": "ipython",
    "version": 3
   },
   "file_extension": ".py",
   "mimetype": "text/x-python",
   "name": "python",
   "nbconvert_exporter": "python",
   "pygments_lexer": "ipython3",
   "version": "3.7.11"
  },
  "papermill": {
   "default_parameters": {},
   "duration": 4.871058,
   "end_time": "2021-08-22T17:31:52.622490",
   "environment_variables": {},
   "exception": null,
   "input_path": "Cauchy.ipynb",
   "output_path": "../docs/notebooks/Cauchy.ipynb",
   "parameters": {
    "func_name": "Cauchy",
    "linear_range": true,
    "wide_energy_range": true,
    "x_scale": "linear",
    "y_scale": "linear"
   },
   "start_time": "2021-08-22T17:31:47.751432",
   "version": "2.3.3"
  }
 },
 "nbformat": 4,
 "nbformat_minor": 5
}
