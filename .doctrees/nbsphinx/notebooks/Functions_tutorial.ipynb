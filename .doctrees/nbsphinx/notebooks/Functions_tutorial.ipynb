{
 "cells": [
  {
   "cell_type": "markdown",
   "id": "8245aaf3",
   "metadata": {},
   "source": [
    "# Functions tutorial\n",
    "\n",
    "In astromodels functions can be used as spectral shapes for sources, or to describe time-dependence, phase-dependence, or links among parameters.\n",
    "\n",
    "To get the list of available functions just do:"
   ]
  },
  {
   "cell_type": "code",
   "execution_count": 1,
   "id": "31c07f7d",
   "metadata": {
    "execution": {
     "iopub.execute_input": "2021-08-23T07:38:06.758772Z",
     "iopub.status.busy": "2021-08-23T07:38:06.753534Z",
     "iopub.status.idle": "2021-08-23T07:38:08.973569Z",
     "shell.execute_reply": "2021-08-23T07:38:08.974106Z"
    }
   },
   "outputs": [],
   "source": [
    "%%capture\n",
    "from astromodels import *"
   ]
  },
  {
   "cell_type": "code",
   "execution_count": 2,
   "id": "b64cec05",
   "metadata": {
    "execution": {
     "iopub.execute_input": "2021-08-23T07:38:08.989602Z",
     "iopub.status.busy": "2021-08-23T07:38:08.988683Z",
     "iopub.status.idle": "2021-08-23T07:38:08.992197Z",
     "shell.execute_reply": "2021-08-23T07:38:08.992759Z"
    }
   },
   "outputs": [
    {
     "data": {
      "text/html": [
       "<div><table id=\"table4786761296\">\n",
       "<thead><tr><th>name</th><th>Description</th></tr></thead>\n",
       "<tr><td>Asymm_Gaussian_on_sphere</td><td>A bidimensional Gaussian function on a sphere (in spherical coordinates)\n",
       "see https://en.wikipedia.org/wiki/Gaussian_function#Two-dimensional_Gaussian_function</td></tr>\n",
       "<tr><td>Band</td><td>Band model from Band et al., 1993, parametrized with the peak energy</td></tr>\n",
       "<tr><td>Band_Calderone</td><td>The Band model from Band et al. 1993, implemented however in a way which reduces the covariances between the parameters (Calderone et al., MNRAS, 448, 403C, 2015)</td></tr>\n",
       "<tr><td>Band_grbm</td><td>Band model from Band et al., 1993, parametrized with the cutoff energy</td></tr>\n",
       "<tr><td>Blackbody</td><td>A blackbody function</td></tr>\n",
       "<tr><td>Broken_powerlaw</td><td>A broken power law function</td></tr>\n",
       "<tr><td>Cauchy</td><td>The Cauchy distribution</td></tr>\n",
       "<tr><td>Constant</td><td>Return k</td></tr>\n",
       "<tr><td>Continuous_injection_diffusion</td><td>Positron and electrons diffusing away from the accelerator</td></tr>\n",
       "<tr><td>Continuous_injection_diffusion_ellipse</td><td>Positron and electrons diffusing away from the accelerator</td></tr>\n",
       "<tr><td>...</td><td>...</td></tr>\n",
       "<tr><td>SmoothlyBrokenPowerLaw</td><td>A Smoothly Broken Power Law</td></tr>\n",
       "<tr><td>SpatialTemplate_2D</td><td>User input Spatial Template.  Expected to be normalized to 1/sr</td></tr>\n",
       "<tr><td>StepFunction</td><td>A function which is constant on the interval lower_bound - upper_bound and 0 outside the interval. The extremes of the interval are counted as part of the interval.</td></tr>\n",
       "<tr><td>StepFunctionUpper</td><td>A function which is constant on the interval lower_bound - upper_bound and 0 outside the interval. The upper interval is open.</td></tr>\n",
       "<tr><td>Super_cutoff_powerlaw</td><td>A power law with a super-exponential cutoff</td></tr>\n",
       "<tr><td>TbAbs</td><td>Photometric absorption (Tbabs implementation), f(E) = exp(- NH * sigma(E)) contributed by Dominique Eckert</td></tr>\n",
       "<tr><td>TemplateModel</td><td>A template model</td></tr>\n",
       "<tr><td>Truncated_gaussian</td><td>A  truncated Gaussian function defined on the interval between the lower_bound (a) and upper_bound (b)</td></tr>\n",
       "<tr><td>Uniform_prior</td><td>A function which is constant on the interval lower_bound - upper_bound and 0 outside the interval. The extremes of the interval are counted as part of the interval.</td></tr>\n",
       "<tr><td>WAbs</td><td>Photometric absorption (Wabs implementation), f(E) = exp(- NH * sigma(E)) contributed by Dominique Eckert</td></tr>\n",
       "<tr><td>_ComplexTestFunction</td><td>A useless function to be used during automatic tests</td></tr>\n",
       "</table></div>"
      ],
      "text/plain": [
       "                 name                  ...\n",
       "-------------------------------------- ...\n",
       "              Asymm_Gaussian_on_sphere ...\n",
       "                                  Band ...\n",
       "                        Band_Calderone ...\n",
       "                             Band_grbm ...\n",
       "                             Blackbody ...\n",
       "                       Broken_powerlaw ...\n",
       "                                Cauchy ...\n",
       "                              Constant ...\n",
       "        Continuous_injection_diffusion ...\n",
       "Continuous_injection_diffusion_ellipse ...\n",
       "                                   ... ...\n",
       "                SmoothlyBrokenPowerLaw ...\n",
       "                    SpatialTemplate_2D ...\n",
       "                          StepFunction ...\n",
       "                     StepFunctionUpper ...\n",
       "                 Super_cutoff_powerlaw ...\n",
       "                                 TbAbs ...\n",
       "                         TemplateModel ...\n",
       "                    Truncated_gaussian ...\n",
       "                         Uniform_prior ...\n",
       "                                  WAbs ...\n",
       "                  _ComplexTestFunction ..."
      ]
     },
     "execution_count": 2,
     "metadata": {},
     "output_type": "execute_result"
    }
   ],
   "source": [
    "list_functions()"
   ]
  },
  {
   "cell_type": "markdown",
   "id": "b0bac5bf",
   "metadata": {},
   "source": [
    "If you need more info about a function, you can obtain it by using:"
   ]
  },
  {
   "cell_type": "code",
   "execution_count": 3,
   "id": "9413cd5f",
   "metadata": {
    "execution": {
     "iopub.execute_input": "2021-08-23T07:38:08.997877Z",
     "iopub.status.busy": "2021-08-23T07:38:08.996985Z",
     "iopub.status.idle": "2021-08-23T07:38:09.003809Z",
     "shell.execute_reply": "2021-08-23T07:38:09.004384Z"
    }
   },
   "outputs": [
    {
     "data": {
      "text/html": [
       "<ul>\n",
       "\n",
       "<li>description: A Gaussian function</li>\n",
       "\n",
       "<li>formula: $ K \\frac{1}{\\sigma \\sqrt{2 \\pi}}\\exp{\\frac{(x-\\mu)^2}{2~(\\sigma)^2}} $</li>\n",
       "\n",
       "<li>default parameters: \n",
       "<ul>\n",
       "\n",
       "<li>F: \n",
       "<ul>\n",
       "\n",
       "<li>value: 1.0</li>\n",
       "\n",
       "<li>desc: Integral between -inf and +inf. Fix this to 1 to obtain a Normal distribution</li>\n",
       "\n",
       "<li>min_value: None</li>\n",
       "\n",
       "<li>max_value: None</li>\n",
       "\n",
       "<li>unit: </li>\n",
       "\n",
       "<li>is_normalization: False</li>\n",
       "\n",
       "<li>delta: 0.1</li>\n",
       "\n",
       "<li>free: True</li>\n",
       "\n",
       "</ul>\n",
       "\n",
       "</li>\n",
       "\n",
       "<li>mu: \n",
       "<ul>\n",
       "\n",
       "<li>value: 0.0</li>\n",
       "\n",
       "<li>desc: Central value</li>\n",
       "\n",
       "<li>min_value: None</li>\n",
       "\n",
       "<li>max_value: None</li>\n",
       "\n",
       "<li>unit: </li>\n",
       "\n",
       "<li>is_normalization: False</li>\n",
       "\n",
       "<li>delta: 0.1</li>\n",
       "\n",
       "<li>free: True</li>\n",
       "\n",
       "</ul>\n",
       "\n",
       "</li>\n",
       "\n",
       "<li>sigma: \n",
       "<ul>\n",
       "\n",
       "<li>value: 1.0</li>\n",
       "\n",
       "<li>desc: standard deviation</li>\n",
       "\n",
       "<li>min_value: 1e-12</li>\n",
       "\n",
       "<li>max_value: None</li>\n",
       "\n",
       "<li>unit: </li>\n",
       "\n",
       "<li>is_normalization: False</li>\n",
       "\n",
       "<li>delta: 0.1</li>\n",
       "\n",
       "<li>free: True</li>\n",
       "\n",
       "</ul>\n",
       "\n",
       "</li>\n",
       "\n",
       "</ul>\n",
       "\n",
       "</li>\n",
       "\n",
       "</ul>\n"
      ],
      "text/plain": [
       "<IPython.core.display.HTML object>"
      ]
     },
     "metadata": {},
     "output_type": "display_data"
    }
   ],
   "source": [
    "Gaussian.info()"
   ]
  },
  {
   "cell_type": "markdown",
   "id": "f323f40d",
   "metadata": {},
   "source": [
    "Note that you don’t need to create an instance in order to call the info() method."
   ]
  },
  {
   "cell_type": "markdown",
   "id": "d261255e",
   "metadata": {},
   "source": [
    "## Creating functions\n",
    "\n",
    "Functions can be created in two different ways. We can create an instance with the default values for the parameters like this:"
   ]
  },
  {
   "cell_type": "code",
   "execution_count": 4,
   "id": "13789bd0",
   "metadata": {
    "execution": {
     "iopub.execute_input": "2021-08-23T07:38:09.010283Z",
     "iopub.status.busy": "2021-08-23T07:38:09.009433Z",
     "iopub.status.idle": "2021-08-23T07:38:09.012964Z",
     "shell.execute_reply": "2021-08-23T07:38:09.013532Z"
    }
   },
   "outputs": [],
   "source": [
    "powerlaw_instance = Powerlaw()"
   ]
  },
  {
   "cell_type": "markdown",
   "id": "d9ee8952",
   "metadata": {},
   "source": [
    "or we can specify on construction specific values for the parameters:"
   ]
  },
  {
   "cell_type": "code",
   "execution_count": 5,
   "id": "0bae502a",
   "metadata": {
    "execution": {
     "iopub.execute_input": "2021-08-23T07:38:09.019196Z",
     "iopub.status.busy": "2021-08-23T07:38:09.018352Z",
     "iopub.status.idle": "2021-08-23T07:38:09.021217Z",
     "shell.execute_reply": "2021-08-23T07:38:09.021782Z"
    }
   },
   "outputs": [],
   "source": [
    "powerlaw_instance = Powerlaw(K=0.01, index=-2.2)"
   ]
  },
  {
   "cell_type": "markdown",
   "id": "74caf259",
   "metadata": {},
   "source": [
    "If you don’t remember the names of the parameters just call the .info() method as in powerlaw.info() as demonstrated above."
   ]
  },
  {
   "cell_type": "markdown",
   "id": "cfea84cf",
   "metadata": {},
   "source": [
    "## Getting information about an instance\n",
    "\n",
    "Using the ```.display()``` method we get a representation of the instance which exploits the features of the environment we are using. If we are running inside a IPython notebook, a rich representation with the formula of the function will be displayed (if available). Otherwise, in a normal terminal, the latex formula will not be rendered:"
   ]
  },
  {
   "cell_type": "code",
   "execution_count": 6,
   "id": "66536324",
   "metadata": {
    "execution": {
     "iopub.execute_input": "2021-08-23T07:38:09.030794Z",
     "iopub.status.busy": "2021-08-23T07:38:09.029820Z",
     "iopub.status.idle": "2021-08-23T07:38:09.034571Z",
     "shell.execute_reply": "2021-08-23T07:38:09.033880Z"
    }
   },
   "outputs": [
    {
     "data": {
      "text/html": [
       "<ul>\n",
       "\n",
       "<li>description: A simple power-law</li>\n",
       "\n",
       "<li>formula: $ K~\\frac{x}{piv}^{index} $</li>\n",
       "\n",
       "<li>parameters: \n",
       "<ul>\n",
       "\n",
       "<li>K: \n",
       "<ul>\n",
       "\n",
       "<li>value: 0.01</li>\n",
       "\n",
       "<li>desc: Normalization (differential flux at the pivot value)</li>\n",
       "\n",
       "<li>min_value: 1e-30</li>\n",
       "\n",
       "<li>max_value: 1000.0</li>\n",
       "\n",
       "<li>unit: </li>\n",
       "\n",
       "<li>is_normalization: True</li>\n",
       "\n",
       "<li>delta: 0.1</li>\n",
       "\n",
       "<li>free: True</li>\n",
       "\n",
       "</ul>\n",
       "\n",
       "</li>\n",
       "\n",
       "<li>piv: \n",
       "<ul>\n",
       "\n",
       "<li>value: 1.0</li>\n",
       "\n",
       "<li>desc: Pivot value</li>\n",
       "\n",
       "<li>min_value: None</li>\n",
       "\n",
       "<li>max_value: None</li>\n",
       "\n",
       "<li>unit: </li>\n",
       "\n",
       "<li>is_normalization: False</li>\n",
       "\n",
       "<li>delta: 0.1</li>\n",
       "\n",
       "<li>free: False</li>\n",
       "\n",
       "</ul>\n",
       "\n",
       "</li>\n",
       "\n",
       "<li>index: \n",
       "<ul>\n",
       "\n",
       "<li>value: -2.2</li>\n",
       "\n",
       "<li>desc: Photon index</li>\n",
       "\n",
       "<li>min_value: -10.0</li>\n",
       "\n",
       "<li>max_value: 10.0</li>\n",
       "\n",
       "<li>unit: </li>\n",
       "\n",
       "<li>is_normalization: False</li>\n",
       "\n",
       "<li>delta: 0.20099999999999998</li>\n",
       "\n",
       "<li>free: True</li>\n",
       "\n",
       "</ul>\n",
       "\n",
       "</li>\n",
       "\n",
       "</ul>\n",
       "\n",
       "</li>\n",
       "\n",
       "</ul>\n"
      ],
      "text/plain": [
       "  * description: A simple power-law\n",
       "  * formula: $ K~\\frac{x}{piv}^{index} $\n",
       "  * parameters:\n",
       "    * K:\n",
       "      * value: 0.01\n",
       "      * desc: Normalization (differential flux at the pivot value)\n",
       "      * min_value: 1.0e-30\n",
       "      * max_value: 1000.0\n",
       "      * unit: ''\n",
       "      * is_normalization: true\n",
       "      * delta: 0.1\n",
       "      * free: true\n",
       "    * piv:\n",
       "      * value: 1.0\n",
       "      * desc: Pivot value\n",
       "      * min_value: null\n",
       "      * max_value: null\n",
       "      * unit: ''\n",
       "      * is_normalization: false\n",
       "      * delta: 0.1\n",
       "      * free: false\n",
       "    * index:\n",
       "      * value: -2.2\n",
       "      * desc: Photon index\n",
       "      * min_value: -10.0\n",
       "      * max_value: 10.0\n",
       "      * unit: ''\n",
       "      * is_normalization: false\n",
       "      * delta: 0.20099999999999998\n",
       "      * free: true"
      ]
     },
     "metadata": {},
     "output_type": "display_data"
    }
   ],
   "source": [
    "powerlaw_instance.display()"
   ]
  },
  {
   "cell_type": "markdown",
   "id": "6680a0d0",
   "metadata": {},
   "source": [
    "It is also possible to get the text-only representation by simply printing the object like this:"
   ]
  },
  {
   "cell_type": "code",
   "execution_count": 7,
   "id": "b604788b",
   "metadata": {
    "execution": {
     "iopub.execute_input": "2021-08-23T07:38:09.041942Z",
     "iopub.status.busy": "2021-08-23T07:38:09.041064Z",
     "iopub.status.idle": "2021-08-23T07:38:09.048378Z",
     "shell.execute_reply": "2021-08-23T07:38:09.048940Z"
    }
   },
   "outputs": [
    {
     "name": "stdout",
     "output_type": "stream",
     "text": [
      "  * description: A simple power-law\n",
      "  * formula: $ K~\\frac{x}{piv}^{index} $\n",
      "  * parameters:\n",
      "    * K:\n",
      "      * value: 0.01\n",
      "      * desc: Normalization (differential flux at the pivot value)\n",
      "      * min_value: 1.0e-30\n",
      "      * max_value: 1000.0\n",
      "      * unit: ''\n",
      "      * is_normalization: true\n",
      "      * delta: 0.1\n",
      "      * free: true\n",
      "    * piv:\n",
      "      * value: 1.0\n",
      "      * desc: Pivot value\n",
      "      * min_value: null\n",
      "      * max_value: null\n",
      "      * unit: ''\n",
      "      * is_normalization: false\n",
      "      * delta: 0.1\n",
      "      * free: false\n",
      "    * index:\n",
      "      * value: -2.2\n",
      "      * desc: Photon index\n",
      "      * min_value: -10.0\n",
      "      * max_value: 10.0\n",
      "      * unit: ''\n",
      "      * is_normalization: false\n",
      "      * delta: 0.20099999999999998\n",
      "      * free: true\n",
      "\n"
     ]
    }
   ],
   "source": [
    "print(powerlaw_instance)"
   ]
  },
  {
   "cell_type": "markdown",
   "id": "7903791b",
   "metadata": {},
   "source": [
    "<div class=\"alert alert-info\">\n",
    "\n",
    "**Note:** the ```.display()``` method of an instance displays the current values of the parameters, while the .info() method demonstrated above (for which you don’t need an instance) displays the default values of the parameters.\n",
    "\n",
    "</div>\n",
    "\n"
   ]
  },
  {
   "cell_type": "markdown",
   "id": "74e61583",
   "metadata": {},
   "source": [
    "## Modifying parameters\n",
    "\n",
    "Modifying a parameter of a function is easy:"
   ]
  },
  {
   "cell_type": "code",
   "execution_count": 8,
   "id": "55cf01d7",
   "metadata": {
    "execution": {
     "iopub.execute_input": "2021-08-23T07:38:09.056979Z",
     "iopub.status.busy": "2021-08-23T07:38:09.056029Z",
     "iopub.status.idle": "2021-08-23T07:38:09.059730Z",
     "shell.execute_reply": "2021-08-23T07:38:09.060293Z"
    }
   },
   "outputs": [
    {
     "data": {
      "text/html": [
       "Parameter K = 1.2 []\n",
       "(min_value = 0.5, max_value = 15.0, delta = 0.25, free = True)"
      ],
      "text/plain": [
       "Parameter K = 1.2 []\n",
       "(min_value = 0.5, max_value = 15.0, delta = 0.25, free = True)"
      ]
     },
     "metadata": {},
     "output_type": "display_data"
    }
   ],
   "source": [
    "# Modify current value\n",
    "\n",
    "powerlaw_instance.K = 1.2\n",
    "\n",
    "# Modify minimum\n",
    "powerlaw_instance.K.min_value = 0.5\n",
    "\n",
    "# Modify maximum\n",
    "powerlaw_instance.K.max_value = 15\n",
    "\n",
    "# We can also modify minimum and maximum at the same time\n",
    "powerlaw_instance.K.bounds = (0.5, 15)\n",
    "\n",
    "# Modifying the delta for the parameter\n",
    "# (which can be used by downstream software for fitting, for example)\n",
    "powerlaw_instance.K.delta = 0.25\n",
    "\n",
    "# Fix the parameter\n",
    "powerlaw_instance.K.fix = True\n",
    "\n",
    "# or equivalently\n",
    "powerlaw_instance.K.free = False\n",
    "\n",
    "# Free it again\n",
    "powerlaw_instance.K.fix = False\n",
    "\n",
    "# or equivalently\n",
    "powerlaw_instance.K.free = True\n",
    "\n",
    "# We can verify what we just did by printing again the whole function as shown above,\n",
    "# or simply printing the parameter:\n",
    "powerlaw_instance.K.display()"
   ]
  },
  {
   "cell_type": "markdown",
   "id": "5014d702",
   "metadata": {},
   "source": [
    "## Using physical units\n",
    "\n",
    "Astromodels uses the facility defined in astropy.units to make easier to convert between units during interactive analysis, when assigning to parameters. In order for functions to be aware of their units, they must be part of a ```Source``. Let's create one:"
   ]
  },
  {
   "cell_type": "code",
   "execution_count": 9,
   "id": "ff376c22",
   "metadata": {
    "execution": {
     "iopub.execute_input": "2021-08-23T07:38:09.065594Z",
     "iopub.status.busy": "2021-08-23T07:38:09.064472Z",
     "iopub.status.idle": "2021-08-23T07:38:09.072042Z",
     "shell.execute_reply": "2021-08-23T07:38:09.072621Z"
    }
   },
   "outputs": [],
   "source": [
    "powerlaw_instance = Powerlaw()\n",
    "\n",
    "point_source = PointSource(\"my_point_source\",ra=0,dec=0, spectral_shape=powerlaw_instance)"
   ]
  },
  {
   "cell_type": "markdown",
   "id": "b027fd26",
   "metadata": {},
   "source": [
    "Now we can see the units"
   ]
  },
  {
   "cell_type": "code",
   "execution_count": 10,
   "id": "276a54ce",
   "metadata": {
    "execution": {
     "iopub.execute_input": "2021-08-23T07:38:09.080559Z",
     "iopub.status.busy": "2021-08-23T07:38:09.079561Z",
     "iopub.status.idle": "2021-08-23T07:38:09.087235Z",
     "shell.execute_reply": "2021-08-23T07:38:09.087895Z"
    }
   },
   "outputs": [
    {
     "data": {
      "text/html": [
       "<ul>\n",
       "\n",
       "<li>description: A simple power-law</li>\n",
       "\n",
       "<li>formula: $ K~\\frac{x}{piv}^{index} $</li>\n",
       "\n",
       "<li>parameters: \n",
       "<ul>\n",
       "\n",
       "<li>K: \n",
       "<ul>\n",
       "\n",
       "<li>value: 1.0</li>\n",
       "\n",
       "<li>desc: Normalization (differential flux at the pivot value)</li>\n",
       "\n",
       "<li>min_value: 1e-30</li>\n",
       "\n",
       "<li>max_value: 1000.0</li>\n",
       "\n",
       "<li>unit: keV-1 s-1 cm-2</li>\n",
       "\n",
       "<li>is_normalization: True</li>\n",
       "\n",
       "<li>delta: 0.1</li>\n",
       "\n",
       "<li>free: True</li>\n",
       "\n",
       "</ul>\n",
       "\n",
       "</li>\n",
       "\n",
       "<li>piv: \n",
       "<ul>\n",
       "\n",
       "<li>value: 1.0</li>\n",
       "\n",
       "<li>desc: Pivot value</li>\n",
       "\n",
       "<li>min_value: None</li>\n",
       "\n",
       "<li>max_value: None</li>\n",
       "\n",
       "<li>unit: keV</li>\n",
       "\n",
       "<li>is_normalization: False</li>\n",
       "\n",
       "<li>delta: 0.1</li>\n",
       "\n",
       "<li>free: False</li>\n",
       "\n",
       "</ul>\n",
       "\n",
       "</li>\n",
       "\n",
       "<li>index: \n",
       "<ul>\n",
       "\n",
       "<li>value: -2.01</li>\n",
       "\n",
       "<li>desc: Photon index</li>\n",
       "\n",
       "<li>min_value: -10.0</li>\n",
       "\n",
       "<li>max_value: 10.0</li>\n",
       "\n",
       "<li>unit: </li>\n",
       "\n",
       "<li>is_normalization: False</li>\n",
       "\n",
       "<li>delta: 0.20099999999999998</li>\n",
       "\n",
       "<li>free: True</li>\n",
       "\n",
       "</ul>\n",
       "\n",
       "</li>\n",
       "\n",
       "</ul>\n",
       "\n",
       "</li>\n",
       "\n",
       "</ul>\n"
      ],
      "text/plain": [
       "  * description: A simple power-law\n",
       "  * formula: $ K~\\frac{x}{piv}^{index} $\n",
       "  * parameters:\n",
       "    * K:\n",
       "      * value: 1.0\n",
       "      * desc: Normalization (differential flux at the pivot value)\n",
       "      * min_value: 1.0e-30\n",
       "      * max_value: 1000.0\n",
       "      * unit: keV-1 s-1 cm-2\n",
       "      * is_normalization: true\n",
       "      * delta: 0.1\n",
       "      * free: true\n",
       "    * piv:\n",
       "      * value: 1.0\n",
       "      * desc: Pivot value\n",
       "      * min_value: null\n",
       "      * max_value: null\n",
       "      * unit: keV\n",
       "      * is_normalization: false\n",
       "      * delta: 0.1\n",
       "      * free: false\n",
       "    * index:\n",
       "      * value: -2.01\n",
       "      * desc: Photon index\n",
       "      * min_value: -10.0\n",
       "      * max_value: 10.0\n",
       "      * unit: ''\n",
       "      * is_normalization: false\n",
       "      * delta: 0.20099999999999998\n",
       "      * free: true"
      ]
     },
     "metadata": {},
     "output_type": "display_data"
    }
   ],
   "source": [
    "powerlaw_instance.display()"
   ]
  },
  {
   "cell_type": "code",
   "execution_count": 11,
   "id": "e0470f43",
   "metadata": {
    "execution": {
     "iopub.execute_input": "2021-08-23T07:38:09.093020Z",
     "iopub.status.busy": "2021-08-23T07:38:09.092041Z",
     "iopub.status.idle": "2021-08-23T07:38:09.095589Z",
     "shell.execute_reply": "2021-08-23T07:38:09.096147Z"
    }
   },
   "outputs": [
    {
     "data": {
      "text/latex": [
       "$\\mathrm{keV}$"
      ],
      "text/plain": [
       "Unit(\"keV\")"
      ]
     },
     "execution_count": 11,
     "metadata": {},
     "output_type": "execute_result"
    }
   ],
   "source": [
    "powerlaw_instance.x_unit"
   ]
  },
  {
   "cell_type": "code",
   "execution_count": 12,
   "id": "615826e1",
   "metadata": {
    "execution": {
     "iopub.execute_input": "2021-08-23T07:38:09.101184Z",
     "iopub.status.busy": "2021-08-23T07:38:09.100272Z",
     "iopub.status.idle": "2021-08-23T07:38:09.103791Z",
     "shell.execute_reply": "2021-08-23T07:38:09.104357Z"
    }
   },
   "outputs": [
    {
     "data": {
      "text/latex": [
       "$\\mathrm{\\frac{1}{keV\\,s\\,cm^{2}}}$"
      ],
      "text/plain": [
       "Unit(\"1 / (cm2 keV s)\")"
      ]
     },
     "execution_count": 12,
     "metadata": {},
     "output_type": "execute_result"
    }
   ],
   "source": [
    "powerlaw_instance.y_unit"
   ]
  },
  {
   "cell_type": "code",
   "execution_count": 13,
   "id": "f6a6b3d4",
   "metadata": {
    "execution": {
     "iopub.execute_input": "2021-08-23T07:38:09.110638Z",
     "iopub.status.busy": "2021-08-23T07:38:09.109785Z",
     "iopub.status.idle": "2021-08-23T07:38:09.117579Z",
     "shell.execute_reply": "2021-08-23T07:38:09.118163Z"
    }
   },
   "outputs": [
    {
     "name": "stdout",
     "output_type": "stream",
     "text": [
      "Parameter K = 0.1223 [1 / (cm2 keV s)]\n",
      "(min_value = 1e-30, max_value = 1000.0, delta = 0.1, free = True)\n",
      "Parameter K = 1.2230000000000013e-08 [1 / (cm2 keV s)]\n",
      "(min_value = 1e-30, max_value = 1000.0, delta = 0.1, free = True)\n"
     ]
    }
   ],
   "source": [
    "import astropy.units as u\n",
    "\n",
    "# Express the differential flux at the pivot energy in 1 / (MeV cm2 s)\n",
    "\n",
    "powerlaw_instance.K = (122.3 / (u.MeV * u.cm * u.cm * u.s))\n",
    "\n",
    "print(powerlaw_instance.K)\n",
    "\n",
    "# Express the differential flux at the pivot energy in 1 / (GeV m2 s)\n",
    "powerlaw_instance.K = (122.3 / (u.GeV * u.m * u.m * u.s))\n",
    "\n",
    "\n",
    "print(powerlaw_instance.K)"
   ]
  },
  {
   "cell_type": "markdown",
   "id": "81aa0690",
   "metadata": {},
   "source": [
    "We see that astromodels does the unit conversion for us in the background!\n",
    "\n",
    "However, astropy units are **very slow** and we would not want to deal with them or set parameters with units during a fit. Thus, if you do not specify units when setting a parameter, the value is assumed to have the units specified in the construction of the function. "
   ]
  },
  {
   "cell_type": "code",
   "execution_count": 14,
   "id": "09d8056c",
   "metadata": {
    "execution": {
     "iopub.execute_input": "2021-08-23T07:38:09.260397Z",
     "iopub.status.busy": "2021-08-23T07:38:09.178001Z",
     "iopub.status.idle": "2021-08-23T07:38:22.954619Z",
     "shell.execute_reply": "2021-08-23T07:38:22.955209Z"
    }
   },
   "outputs": [
    {
     "name": "stdout",
     "output_type": "stream",
     "text": [
      "17.1 µs ± 492 ns per loop (mean ± std. dev. of 7 runs, 100000 loops each)\n"
     ]
    }
   ],
   "source": [
    "%timeit powerlaw_instance.K = 1"
   ]
  },
  {
   "cell_type": "code",
   "execution_count": 15,
   "id": "c39989cc",
   "metadata": {
    "execution": {
     "iopub.execute_input": "2021-08-23T07:38:23.097065Z",
     "iopub.status.busy": "2021-08-23T07:38:22.999687Z",
     "iopub.status.idle": "2021-08-23T07:38:25.916183Z",
     "shell.execute_reply": "2021-08-23T07:38:25.917144Z"
    }
   },
   "outputs": [
    {
     "name": "stdout",
     "output_type": "stream",
     "text": [
      "363 µs ± 54 µs per loop (mean ± std. dev. of 7 runs, 1000 loops each)\n"
     ]
    }
   ],
   "source": [
    "%timeit powerlaw_instance.K = (122.3 / (u.MeV * u.cm * u.cm * u.s))"
   ]
  },
  {
   "cell_type": "markdown",
   "id": "3319a9a8",
   "metadata": {},
   "source": [
    "As you can see using **astropy.units requires about 10x more than using a plain assignment**. In an interactive analysis you are unlikely to notice the difference, but if you use units in a loop or during a fit this slow-down will add up an become very noticeable. **Note that this is a feature of astropy.units, not of astromodels.**"
   ]
  },
  {
   "cell_type": "markdown",
   "id": "3e0056f1",
   "metadata": {},
   "source": [
    "## Composing functions\n",
    "\n",
    "We can create arbitrary complex functions by combining “primitive” functions using the normal math operators:"
   ]
  },
  {
   "cell_type": "code",
   "execution_count": 16,
   "id": "8bc7eafe",
   "metadata": {
    "execution": {
     "iopub.execute_input": "2021-08-23T07:38:25.923267Z",
     "iopub.status.busy": "2021-08-23T07:38:25.921877Z",
     "iopub.status.idle": "2021-08-23T07:38:25.926604Z",
     "shell.execute_reply": "2021-08-23T07:38:25.927176Z"
    }
   },
   "outputs": [
    {
     "name": "stdout",
     "output_type": "stream",
     "text": [
      "(Gaussian{1} + Powerlaw{2})\n"
     ]
    }
   ],
   "source": [
    "composite = Gaussian() + Powerlaw()\n",
    "\n",
    "# Instead of the usual .display(), which would print all the many parameters,\n",
    "# let's print just the description of the new composite functions:\n",
    "print(composite.description)"
   ]
  },
  {
   "cell_type": "markdown",
   "id": "25c75354",
   "metadata": {},
   "source": [
    "These expressions can be as complex as needed. For example:"
   ]
  },
  {
   "cell_type": "code",
   "execution_count": 17,
   "id": "ca125242",
   "metadata": {
    "execution": {
     "iopub.execute_input": "2021-08-23T07:38:25.934207Z",
     "iopub.status.busy": "2021-08-23T07:38:25.933145Z",
     "iopub.status.idle": "2021-08-23T07:38:25.937142Z",
     "shell.execute_reply": "2021-08-23T07:38:25.937876Z"
    }
   },
   "outputs": [
    {
     "name": "stdout",
     "output_type": "stream",
     "text": [
      "((Sin{1} * 3) + (((Powerlaw{2} ** 2) * (Gaussian{3} + 5)) / 3.0))\n"
     ]
    }
   ],
   "source": [
    "crazy_function = 3 * Sin() + Powerlaw()**2 * (5+Gaussian()) / 3.0\n",
    "\n",
    "print(crazy_function.description)"
   ]
  },
  {
   "cell_type": "markdown",
   "id": "0db18465",
   "metadata": {},
   "source": [
    "The numbers between ```{}``` enumerate the unique functions which constitute a composite function. This is useful because composite functions can be created starting from pre-existing instances of functions, in which case the same instance can be used more than once. For example:"
   ]
  },
  {
   "cell_type": "code",
   "execution_count": 18,
   "id": "cd572556",
   "metadata": {
    "execution": {
     "iopub.execute_input": "2021-08-23T07:38:25.944770Z",
     "iopub.status.busy": "2021-08-23T07:38:25.943865Z",
     "iopub.status.idle": "2021-08-23T07:38:25.947117Z",
     "shell.execute_reply": "2021-08-23T07:38:25.948040Z"
    }
   },
   "outputs": [
    {
     "name": "stdout",
     "output_type": "stream",
     "text": [
      "((Powerlaw{1} * 2) + ((Powerlaw{1} + 3) * Sin{2}))\n"
     ]
    }
   ],
   "source": [
    "a_powerlaw = Powerlaw()\n",
    "a_sin = Sin()\n",
    "\n",
    "another_composite = 2 * a_powerlaw + (3 + a_powerlaw) * a_sin\n",
    "\n",
    "print(another_composite.description)"
   ]
  },
  {
   "cell_type": "markdown",
   "id": "79e30616",
   "metadata": {},
   "source": [
    "In this case the same instance of a power law has been used twice. Changing the value of the parameters for “a_powerlaw” will affect also the second part of the expression. Instead, by doing this:"
   ]
  },
  {
   "cell_type": "code",
   "execution_count": 19,
   "id": "36d7e1c4",
   "metadata": {
    "execution": {
     "iopub.execute_input": "2021-08-23T07:38:25.954750Z",
     "iopub.status.busy": "2021-08-23T07:38:25.953838Z",
     "iopub.status.idle": "2021-08-23T07:38:25.957183Z",
     "shell.execute_reply": "2021-08-23T07:38:25.958050Z"
    }
   },
   "outputs": [
    {
     "name": "stdout",
     "output_type": "stream",
     "text": [
      "((Powerlaw{1} * 2) + ((Powerlaw{2} + 3) * Sin{3}))\n"
     ]
    }
   ],
   "source": [
    "another_composite2 = 2 * Powerlaw() + (3 + Powerlaw()) * Sin()\n",
    "\n",
    "print(another_composite2.description)"
   ]
  },
  {
   "cell_type": "markdown",
   "id": "a9a2d44c",
   "metadata": {},
   "source": [
    "we will end up with two independent sets of parameters for the two power laws. The difference can be seen immediately from the number of parameters of the two composite functions:"
   ]
  },
  {
   "cell_type": "code",
   "execution_count": 20,
   "id": "ad343da6",
   "metadata": {
    "execution": {
     "iopub.execute_input": "2021-08-23T07:38:25.963781Z",
     "iopub.status.busy": "2021-08-23T07:38:25.962867Z",
     "iopub.status.idle": "2021-08-23T07:38:25.965810Z",
     "shell.execute_reply": "2021-08-23T07:38:25.966839Z"
    }
   },
   "outputs": [
    {
     "name": "stdout",
     "output_type": "stream",
     "text": [
      "6\n",
      "9\n"
     ]
    }
   ],
   "source": [
    "print(len(another_composite.parameters)) # 6 parameters\n",
    "print(len(another_composite2.parameters)) # 9 parameters"
   ]
  },
  {
   "cell_type": "markdown",
   "id": "e7e20c15",
   "metadata": {},
   "source": [
    "## Creating custom functions"
   ]
  },
  {
   "cell_type": "code",
   "execution_count": null,
   "id": "f4c880b8",
   "metadata": {},
   "outputs": [],
   "source": []
  }
 ],
 "metadata": {
  "jupytext": {
   "formats": "ipynb,md"
  },
  "kernelspec": {
   "display_name": "Python 3",
   "language": "python",
   "name": "python3"
  },
  "language_info": {
   "codemirror_mode": {
    "name": "ipython",
    "version": 3
   },
   "file_extension": ".py",
   "mimetype": "text/x-python",
   "name": "python",
   "nbconvert_exporter": "python",
   "pygments_lexer": "ipython3",
   "version": "3.7.11"
  }
 },
 "nbformat": 4,
 "nbformat_minor": 5
}
