{
 "cells": [
  {
   "cell_type": "markdown",
   "id": "22581ebd",
   "metadata": {
    "papermill": {
     "duration": 0.009015,
     "end_time": "2021-08-23T05:23:46.846067",
     "exception": false,
     "start_time": "2021-08-23T05:23:46.837052",
     "status": "completed"
    },
    "tags": []
   },
   "source": [
    "# Broken powerlaw"
   ]
  },
  {
   "cell_type": "code",
   "execution_count": 1,
   "id": "6d2e1e2c",
   "metadata": {
    "execution": {
     "iopub.execute_input": "2021-08-23T05:23:46.872643Z",
     "iopub.status.busy": "2021-08-23T05:23:46.871757Z",
     "iopub.status.idle": "2021-08-23T05:23:49.417611Z",
     "shell.execute_reply": "2021-08-23T05:23:49.418239Z"
    },
    "nbsphinx": "hidden",
    "papermill": {
     "duration": 2.564041,
     "end_time": "2021-08-23T05:23:49.418616",
     "exception": false,
     "start_time": "2021-08-23T05:23:46.854575",
     "status": "completed"
    },
    "tags": []
   },
   "outputs": [],
   "source": [
    "%%capture\n",
    "\n",
    "import numpy as np\n",
    "\n",
    "import matplotlib.pyplot as plt\n",
    "\n",
    "import warnings\n",
    "warnings.simplefilter(\"ignore\")\n",
    "\n",
    "from astromodels.functions.function import _known_functions\n",
    "\n",
    "\n",
    "from jupyterthemes import jtplot\n",
    "jtplot.style(context=\"talk\", fscale=1, ticks=True, grid=False)\n",
    "%matplotlib inline"
   ]
  },
  {
   "cell_type": "code",
   "execution_count": 2,
   "id": "d18f7477",
   "metadata": {
    "execution": {
     "iopub.execute_input": "2021-08-23T05:23:49.441606Z",
     "iopub.status.busy": "2021-08-23T05:23:49.440729Z",
     "iopub.status.idle": "2021-08-23T05:23:49.447030Z",
     "shell.execute_reply": "2021-08-23T05:23:49.447797Z"
    },
    "nbsphinx": "hidden",
    "papermill": {
     "duration": 0.02065,
     "end_time": "2021-08-23T05:23:49.448085",
     "exception": false,
     "start_time": "2021-08-23T05:23:49.427435",
     "status": "completed"
    },
    "tags": [
     "parameters"
    ]
   },
   "outputs": [],
   "source": [
    "func_name = \"TbAbs\"\n",
    "\n",
    "x_scale=\"log\"\n",
    "y_scale=\"log\"\n",
    "\n",
    "linear_range = False\n",
    "\n",
    "wide_energy_range = False"
   ]
  },
  {
   "cell_type": "code",
   "execution_count": 3,
   "id": "f5d9c995",
   "metadata": {
    "execution": {
     "iopub.execute_input": "2021-08-23T05:23:49.470926Z",
     "iopub.status.busy": "2021-08-23T05:23:49.470024Z",
     "iopub.status.idle": "2021-08-23T05:23:49.476600Z",
     "shell.execute_reply": "2021-08-23T05:23:49.477216Z"
    },
    "papermill": {
     "duration": 0.020754,
     "end_time": "2021-08-23T05:23:49.477493",
     "exception": false,
     "start_time": "2021-08-23T05:23:49.456739",
     "status": "completed"
    },
    "tags": [
     "injected-parameters"
    ]
   },
   "outputs": [],
   "source": [
    "# Parameters\n",
    "func_name = \"Broken_powerlaw\"\n",
    "wide_energy_range = True\n",
    "x_scale = \"log\"\n",
    "y_scale = \"log\"\n",
    "linear_range = False\n"
   ]
  },
  {
   "cell_type": "code",
   "execution_count": 4,
   "id": "4bd2715b",
   "metadata": {
    "execution": {
     "iopub.execute_input": "2021-08-23T05:23:49.503174Z",
     "iopub.status.busy": "2021-08-23T05:23:49.502256Z",
     "iopub.status.idle": "2021-08-23T05:23:49.508818Z",
     "shell.execute_reply": "2021-08-23T05:23:49.509353Z"
    },
    "lines_to_next_cell": 0,
    "nbsphinx": "hidden",
    "papermill": {
     "duration": 0.023152,
     "end_time": "2021-08-23T05:23:49.509637",
     "exception": false,
     "start_time": "2021-08-23T05:23:49.486485",
     "status": "completed"
    },
    "tags": []
   },
   "outputs": [],
   "source": [
    "func = _known_functions[func_name]()\n",
    "\n",
    "if wide_energy_range:\n",
    "\n",
    "    energy_grid = np.geomspace(1e2,1e4,500)\n",
    "    \n",
    "else:\n",
    "    \n",
    "    energy_grid = np.geomspace(2e-1,1e1,1000)\n",
    "\n",
    "if linear_range:\n",
    "\n",
    "\tenergy_grid = np.linspace(-5,5,1000)\n",
    "\n",
    "    \n",
    "blue = \"#4152E3\"\n",
    "red = \"#E3414B\"\n",
    "green = \"#41E39E\""
   ]
  },
  {
   "cell_type": "markdown",
   "id": "fea7019c",
   "metadata": {
    "lines_to_next_cell": 0,
    "papermill": {
     "duration": 0.008736,
     "end_time": "2021-08-23T05:23:49.527102",
     "exception": false,
     "start_time": "2021-08-23T05:23:49.518366",
     "status": "completed"
    },
    "tags": []
   },
   "source": [
    "## Description"
   ]
  },
  {
   "cell_type": "code",
   "execution_count": 5,
   "id": "68c58a8e",
   "metadata": {
    "execution": {
     "iopub.execute_input": "2021-08-23T05:23:49.557698Z",
     "iopub.status.busy": "2021-08-23T05:23:49.556755Z",
     "iopub.status.idle": "2021-08-23T05:23:49.564761Z",
     "shell.execute_reply": "2021-08-23T05:23:49.565365Z"
    },
    "papermill": {
     "duration": 0.029509,
     "end_time": "2021-08-23T05:23:49.565645",
     "exception": false,
     "start_time": "2021-08-23T05:23:49.536136",
     "status": "completed"
    },
    "tags": []
   },
   "outputs": [
    {
     "data": {
      "text/html": [
       "<ul>\n",
       "\n",
       "<li>description: A broken power law function</li>\n",
       "\n",
       "<li>formula: $ f(x)= K~\\begin{cases}\\left( \\frac{x}{x_{b}} \\right)^{\\alpha} & x < x_{b} \\\\ \\left( \\frac{x}{x_{b}} \\right)^{\\beta} & x \\ge x_{b} \\end{cases} $</li>\n",
       "\n",
       "<li>parameters: \n",
       "<ul>\n",
       "\n",
       "<li>K: \n",
       "<ul>\n",
       "\n",
       "<li>value: 1.0</li>\n",
       "\n",
       "<li>desc: Normalization (differential flux at x_b)</li>\n",
       "\n",
       "<li>min_value: None</li>\n",
       "\n",
       "<li>max_value: None</li>\n",
       "\n",
       "<li>unit: </li>\n",
       "\n",
       "<li>is_normalization: True</li>\n",
       "\n",
       "<li>delta: 0.1</li>\n",
       "\n",
       "<li>free: True</li>\n",
       "\n",
       "</ul>\n",
       "\n",
       "</li>\n",
       "\n",
       "<li>xb: \n",
       "<ul>\n",
       "\n",
       "<li>value: 10.0</li>\n",
       "\n",
       "<li>desc: Break point</li>\n",
       "\n",
       "<li>min_value: 1.0</li>\n",
       "\n",
       "<li>max_value: None</li>\n",
       "\n",
       "<li>unit: </li>\n",
       "\n",
       "<li>is_normalization: False</li>\n",
       "\n",
       "<li>delta: 1.0</li>\n",
       "\n",
       "<li>free: True</li>\n",
       "\n",
       "</ul>\n",
       "\n",
       "</li>\n",
       "\n",
       "<li>alpha: \n",
       "<ul>\n",
       "\n",
       "<li>value: -1.5</li>\n",
       "\n",
       "<li>desc: Index before the break xb</li>\n",
       "\n",
       "<li>min_value: -10.0</li>\n",
       "\n",
       "<li>max_value: 10.0</li>\n",
       "\n",
       "<li>unit: </li>\n",
       "\n",
       "<li>is_normalization: False</li>\n",
       "\n",
       "<li>delta: 0.15000000000000002</li>\n",
       "\n",
       "<li>free: True</li>\n",
       "\n",
       "</ul>\n",
       "\n",
       "</li>\n",
       "\n",
       "<li>beta: \n",
       "<ul>\n",
       "\n",
       "<li>value: -2.5</li>\n",
       "\n",
       "<li>desc: Index after the break xb</li>\n",
       "\n",
       "<li>min_value: -10.0</li>\n",
       "\n",
       "<li>max_value: 10.0</li>\n",
       "\n",
       "<li>unit: </li>\n",
       "\n",
       "<li>is_normalization: False</li>\n",
       "\n",
       "<li>delta: 0.25</li>\n",
       "\n",
       "<li>free: True</li>\n",
       "\n",
       "</ul>\n",
       "\n",
       "</li>\n",
       "\n",
       "<li>piv: \n",
       "<ul>\n",
       "\n",
       "<li>value: 1.0</li>\n",
       "\n",
       "<li>desc: Pivot energy</li>\n",
       "\n",
       "<li>min_value: None</li>\n",
       "\n",
       "<li>max_value: None</li>\n",
       "\n",
       "<li>unit: </li>\n",
       "\n",
       "<li>is_normalization: False</li>\n",
       "\n",
       "<li>delta: 0.1</li>\n",
       "\n",
       "<li>free: False</li>\n",
       "\n",
       "</ul>\n",
       "\n",
       "</li>\n",
       "\n",
       "</ul>\n",
       "\n",
       "</li>\n",
       "\n",
       "</ul>\n"
      ],
      "text/plain": [
       "  * description: A broken power law function\n",
       "  * formula: $ f(x)= K~\\begin{cases}\\left( \\frac{x}{x_{b}} \\right)^{\\alpha} & x < x_{b}\n",
       "    * \\\\ \\left( \\frac{x}{x_{b}} \\right)^{\\beta} & x \\ge x_{b} \\end{cases} $\n",
       "  * parameters:\n",
       "    * K:\n",
       "      * value: 1.0\n",
       "      * desc: Normalization (differential flux at x_b)\n",
       "      * min_value: null\n",
       "      * max_value: null\n",
       "      * unit: ''\n",
       "      * is_normalization: true\n",
       "      * delta: 0.1\n",
       "      * free: true\n",
       "    * xb:\n",
       "      * value: 10.0\n",
       "      * desc: Break point\n",
       "      * min_value: 1.0\n",
       "      * max_value: null\n",
       "      * unit: ''\n",
       "      * is_normalization: false\n",
       "      * delta: 1.0\n",
       "      * free: true\n",
       "    * alpha:\n",
       "      * value: -1.5\n",
       "      * desc: Index before the break xb\n",
       "      * min_value: -10.0\n",
       "      * max_value: 10.0\n",
       "      * unit: ''\n",
       "      * is_normalization: false\n",
       "      * delta: 0.15000000000000002\n",
       "      * free: true\n",
       "    * beta:\n",
       "      * value: -2.5\n",
       "      * desc: Index after the break xb\n",
       "      * min_value: -10.0\n",
       "      * max_value: 10.0\n",
       "      * unit: ''\n",
       "      * is_normalization: false\n",
       "      * delta: 0.25\n",
       "      * free: true\n",
       "    * piv:\n",
       "      * value: 1.0\n",
       "      * desc: Pivot energy\n",
       "      * min_value: null\n",
       "      * max_value: null\n",
       "      * unit: ''\n",
       "      * is_normalization: false\n",
       "      * delta: 0.1\n",
       "      * free: false"
      ]
     },
     "metadata": {},
     "output_type": "display_data"
    }
   ],
   "source": [
    "func.display()"
   ]
  },
  {
   "cell_type": "markdown",
   "id": "d58a8826",
   "metadata": {
    "papermill": {
     "duration": 0.009452,
     "end_time": "2021-08-23T05:23:49.584995",
     "exception": false,
     "start_time": "2021-08-23T05:23:49.575543",
     "status": "completed"
    },
    "tags": []
   },
   "source": [
    "## Shape \n",
    "\n",
    "The shape of the function. \n",
    "\n",
    "*If this is not a photon model but a prior or linear function then ignore the units as these docs are auto-generated*"
   ]
  },
  {
   "cell_type": "code",
   "execution_count": 6,
   "id": "6a6c7c7d",
   "metadata": {
    "execution": {
     "iopub.execute_input": "2021-08-23T05:23:49.635593Z",
     "iopub.status.busy": "2021-08-23T05:23:49.634661Z",
     "iopub.status.idle": "2021-08-23T05:23:51.220216Z",
     "shell.execute_reply": "2021-08-23T05:23:51.221151Z"
    },
    "papermill": {
     "duration": 1.626896,
     "end_time": "2021-08-23T05:23:51.221469",
     "exception": false,
     "start_time": "2021-08-23T05:23:49.594573",
     "status": "completed"
    },
    "tags": [
     "nbsphinx-thumbnail"
    ]
   },
   "outputs": [
    {
     "data": {
      "image/png": "[encoded data removed]",
      "text/plain": [
       "<Figure size 432x288 with 1 Axes>"
      ]
     },
     "metadata": {
      "needs_background": "light"
     },
     "output_type": "display_data"
    }
   ],
   "source": [
    "fig, ax = plt.subplots()\n",
    "\n",
    "\n",
    "ax.plot(energy_grid, func(energy_grid), color=blue)\n",
    "\n",
    "ax.set_xlabel(\"energy (keV)\")\n",
    "ax.set_ylabel(\"photon flux\")\n",
    "ax.set_xscale(x_scale)\n",
    "ax.set_yscale(y_scale)\n"
   ]
  },
  {
   "cell_type": "markdown",
   "id": "b9fac547",
   "metadata": {
    "lines_to_next_cell": 0,
    "papermill": {
     "duration": 0.010645,
     "end_time": "2021-08-23T05:23:51.243310",
     "exception": false,
     "start_time": "2021-08-23T05:23:51.232665",
     "status": "completed"
    },
    "tags": []
   },
   "source": [
    "## F$_{\\nu}$\n",
    "\n",
    "The F$_{\\nu}$ shape of the photon model\n",
    "*if this is not a photon model, please ignore this auto-generated plot*"
   ]
  },
  {
   "cell_type": "code",
   "execution_count": 7,
   "id": "bda9c7a1",
   "metadata": {
    "execution": {
     "iopub.execute_input": "2021-08-23T05:23:51.277850Z",
     "iopub.status.busy": "2021-08-23T05:23:51.276873Z",
     "iopub.status.idle": "2021-08-23T05:23:52.025266Z",
     "shell.execute_reply": "2021-08-23T05:23:52.025810Z"
    },
    "papermill": {
     "duration": 0.772116,
     "end_time": "2021-08-23T05:23:52.026140",
     "exception": false,
     "start_time": "2021-08-23T05:23:51.254024",
     "status": "completed"
    },
    "tags": []
   },
   "outputs": [
    {
     "data": {
      "image/png": "[encoded data removed]",
      "text/plain": [
       "<Figure size 432x288 with 1 Axes>"
      ]
     },
     "metadata": {
      "needs_background": "light"
     },
     "output_type": "display_data"
    }
   ],
   "source": [
    "fig, ax = plt.subplots()\n",
    "\n",
    "ax.plot(energy_grid, energy_grid * func(energy_grid), red)\n",
    "\n",
    "\n",
    "ax.set_xlabel(\"energy (keV)\")\n",
    "ax.set_ylabel(r\"energy flux (F$_{\\nu}$)\")\n",
    "ax.set_xscale(x_scale)\n",
    "ax.set_yscale(y_scale)\n",
    "\n"
   ]
  },
  {
   "cell_type": "markdown",
   "id": "4afffd22",
   "metadata": {
    "papermill": {
     "duration": 0.011907,
     "end_time": "2021-08-23T05:23:52.051215",
     "exception": false,
     "start_time": "2021-08-23T05:23:52.039308",
     "status": "completed"
    },
    "tags": []
   },
   "source": [
    "## $\\nu$F$_{\\nu}$\n",
    "\n",
    "The $\\nu$F$_{\\nu}$ shape of the photon model\n",
    "*if this is not a photon model, please ignore this auto-generated plot*"
   ]
  },
  {
   "cell_type": "code",
   "execution_count": 8,
   "id": "7935e499",
   "metadata": {
    "execution": {
     "iopub.execute_input": "2021-08-23T05:23:52.082692Z",
     "iopub.status.busy": "2021-08-23T05:23:52.081791Z",
     "iopub.status.idle": "2021-08-23T05:23:52.768524Z",
     "shell.execute_reply": "2021-08-23T05:23:52.769136Z"
    },
    "papermill": {
     "duration": 0.706576,
     "end_time": "2021-08-23T05:23:52.769439",
     "exception": false,
     "start_time": "2021-08-23T05:23:52.062863",
     "status": "completed"
    },
    "tags": []
   },
   "outputs": [
    {
     "data": {
      "image/png": "[encoded data removed]",
      "text/plain": [
       "<Figure size 432x288 with 1 Axes>"
      ]
     },
     "metadata": {
      "needs_background": "light"
     },
     "output_type": "display_data"
    }
   ],
   "source": [
    "fig, ax = plt.subplots()\n",
    "\n",
    "ax.plot(energy_grid, energy_grid**2 * func(energy_grid), color=green)\n",
    "\n",
    "\n",
    "ax.set_xlabel(\"energy (keV)\")\n",
    "ax.set_ylabel(r\"$\\nu$F$_{\\nu}$\")\n",
    "ax.set_xscale(x_scale)\n",
    "ax.set_yscale(y_scale)\n"
   ]
  }
 ],
 "metadata": {
  "jupytext": {
   "formats": "ipynb,md"
  },
  "kernelspec": {
   "display_name": "Python 3",
   "language": "python",
   "name": "python3"
  },
  "language_info": {
   "codemirror_mode": {
    "name": "ipython",
    "version": 3
   },
   "file_extension": ".py",
   "mimetype": "text/x-python",
   "name": "python",
   "nbconvert_exporter": "python",
   "pygments_lexer": "ipython3",
   "version": "3.7.11"
  },
  "papermill": {
   "default_parameters": {},
   "duration": 7.479597,
   "end_time": "2021-08-23T05:23:53.402496",
   "environment_variables": {},
   "exception": null,
   "input_path": "Broken_powerlaw.ipynb",
   "output_path": "../docs/notebooks/Broken_powerlaw.ipynb",
   "parameters": {
    "func_name": "Broken_powerlaw",
    "linear_range": false,
    "wide_energy_range": true,
    "x_scale": "log",
    "y_scale": "log"
   },
   "start_time": "2021-08-23T05:23:45.922899",
   "version": "2.3.3"
  }
 },
 "nbformat": 4,
 "nbformat_minor": 5
}
