{
 "cells": [
  {
   "cell_type": "markdown",
   "id": "46d56c5a",
   "metadata": {
    "papermill": {
     "duration": 0.009829,
     "end_time": "2021-08-22T16:54:00.531188",
     "exception": false,
     "start_time": "2021-08-22T16:54:00.521359",
     "status": "completed"
    },
    "tags": []
   },
   "source": [
    "# SmoothlyBrokenPowerLaw"
   ]
  },
  {
   "cell_type": "code",
   "execution_count": 1,
   "id": "9dd34ee2",
   "metadata": {
    "execution": {
     "iopub.execute_input": "2021-08-22T16:54:00.558340Z",
     "iopub.status.busy": "2021-08-22T16:54:00.557472Z",
     "iopub.status.idle": "2021-08-22T16:54:03.099898Z",
     "shell.execute_reply": "2021-08-22T16:54:03.099212Z"
    },
    "nbsphinx": "hidden",
    "papermill": {
     "duration": 2.560445,
     "end_time": "2021-08-22T16:54:03.100197",
     "exception": false,
     "start_time": "2021-08-22T16:54:00.539752",
     "status": "completed"
    },
    "tags": []
   },
   "outputs": [],
   "source": [
    "%%capture\n",
    "\n",
    "import numpy as np\n",
    "\n",
    "import matplotlib.pyplot as plt\n",
    "\n",
    "import warnings\n",
    "warnings.simplefilter(\"ignore\")\n",
    "\n",
    "from astromodels.functions.function import _known_functions\n",
    "\n",
    "\n",
    "from jupyterthemes import jtplot\n",
    "jtplot.style(context=\"talk\", fscale=1, ticks=True, grid=False)\n",
    "%matplotlib inline"
   ]
  },
  {
   "cell_type": "code",
   "execution_count": 2,
   "id": "1936690e",
   "metadata": {
    "execution": {
     "iopub.execute_input": "2021-08-22T16:54:03.122518Z",
     "iopub.status.busy": "2021-08-22T16:54:03.121642Z",
     "iopub.status.idle": "2021-08-22T16:54:03.128019Z",
     "shell.execute_reply": "2021-08-22T16:54:03.128541Z"
    },
    "nbsphinx": "hidden",
    "papermill": {
     "duration": 0.019768,
     "end_time": "2021-08-22T16:54:03.128807",
     "exception": false,
     "start_time": "2021-08-22T16:54:03.109039",
     "status": "completed"
    },
    "tags": [
     "parameters"
    ]
   },
   "outputs": [],
   "source": [
    "func_name = \"TbAbs\"\n",
    "\n",
    "x_scale=\"log\"\n",
    "y_scale=\"log\"\n",
    "\n",
    "linear_range = False\n",
    "\n",
    "wide_energy_range = False"
   ]
  },
  {
   "cell_type": "code",
   "execution_count": 3,
   "id": "ad0f6f88",
   "metadata": {
    "execution": {
     "iopub.execute_input": "2021-08-22T16:54:03.150833Z",
     "iopub.status.busy": "2021-08-22T16:54:03.149958Z",
     "iopub.status.idle": "2021-08-22T16:54:03.156483Z",
     "shell.execute_reply": "2021-08-22T16:54:03.157007Z"
    },
    "papermill": {
     "duration": 0.019859,
     "end_time": "2021-08-22T16:54:03.157270",
     "exception": false,
     "start_time": "2021-08-22T16:54:03.137411",
     "status": "completed"
    },
    "tags": [
     "injected-parameters"
    ]
   },
   "outputs": [],
   "source": [
    "# Parameters\n",
    "func_name = \"SmoothlyBrokenPowerLaw\"\n",
    "wide_energy_range = True\n",
    "x_scale = \"log\"\n",
    "y_scale = \"log\"\n",
    "linear_range = False\n"
   ]
  },
  {
   "cell_type": "code",
   "execution_count": 4,
   "id": "be7e7169",
   "metadata": {
    "execution": {
     "iopub.execute_input": "2021-08-22T16:54:03.182266Z",
     "iopub.status.busy": "2021-08-22T16:54:03.181384Z",
     "iopub.status.idle": "2021-08-22T16:54:03.188082Z",
     "shell.execute_reply": "2021-08-22T16:54:03.188601Z"
    },
    "lines_to_next_cell": 0,
    "nbsphinx": "hidden",
    "papermill": {
     "duration": 0.022789,
     "end_time": "2021-08-22T16:54:03.188867",
     "exception": false,
     "start_time": "2021-08-22T16:54:03.166078",
     "status": "completed"
    },
    "tags": []
   },
   "outputs": [],
   "source": [
    "func = _known_functions[func_name]()\n",
    "\n",
    "if wide_energy_range:\n",
    "\n",
    "    energy_grid = np.geomspace(1e2,1e4,500)\n",
    "    \n",
    "else:\n",
    "    \n",
    "    energy_grid = np.geomspace(2e-1,1e1,1000)\n",
    "\n",
    "if linear_range:\n",
    "\n",
    "\tenergy_grid = np.linspace(-5,5,1000)\n",
    "\n",
    "    \n",
    "blue = \"#4152E3\"\n",
    "red = \"#E3414B\"\n",
    "green = \"#41E39E\""
   ]
  },
  {
   "cell_type": "markdown",
   "id": "abd2a702",
   "metadata": {
    "lines_to_next_cell": 0,
    "papermill": {
     "duration": 0.008749,
     "end_time": "2021-08-22T16:54:03.206460",
     "exception": false,
     "start_time": "2021-08-22T16:54:03.197711",
     "status": "completed"
    },
    "tags": []
   },
   "source": [
    "## Description"
   ]
  },
  {
   "cell_type": "code",
   "execution_count": 5,
   "id": "297b8b68",
   "metadata": {
    "execution": {
     "iopub.execute_input": "2021-08-22T16:54:03.237038Z",
     "iopub.status.busy": "2021-08-22T16:54:03.235898Z",
     "iopub.status.idle": "2021-08-22T16:54:03.239533Z",
     "shell.execute_reply": "2021-08-22T16:54:03.240244Z"
    },
    "papermill": {
     "duration": 0.024917,
     "end_time": "2021-08-22T16:54:03.240511",
     "exception": false,
     "start_time": "2021-08-22T16:54:03.215594",
     "status": "completed"
    },
    "tags": []
   },
   "outputs": [
    {
     "data": {
      "text/html": [
       "<ul>\n",
       "\n",
       "<li>description: A Smoothly Broken Power Law</li>\n",
       "\n",
       "<li>formula: $n.a.$</li>\n",
       "\n",
       "<li>parameters: \n",
       "<ul>\n",
       "\n",
       "<li>K: \n",
       "<ul>\n",
       "\n",
       "<li>value: 1.0</li>\n",
       "\n",
       "<li>desc: normalization</li>\n",
       "\n",
       "<li>min_value: 0.0</li>\n",
       "\n",
       "<li>max_value: None</li>\n",
       "\n",
       "<li>unit: </li>\n",
       "\n",
       "<li>is_normalization: True</li>\n",
       "\n",
       "<li>delta: 0.1</li>\n",
       "\n",
       "<li>free: True</li>\n",
       "\n",
       "</ul>\n",
       "\n",
       "</li>\n",
       "\n",
       "<li>alpha: \n",
       "<ul>\n",
       "\n",
       "<li>value: -1.0</li>\n",
       "\n",
       "<li>desc: power law index below the break</li>\n",
       "\n",
       "<li>min_value: -1.5</li>\n",
       "\n",
       "<li>max_value: 2.0</li>\n",
       "\n",
       "<li>unit: </li>\n",
       "\n",
       "<li>is_normalization: False</li>\n",
       "\n",
       "<li>delta: 0.1</li>\n",
       "\n",
       "<li>free: True</li>\n",
       "\n",
       "</ul>\n",
       "\n",
       "</li>\n",
       "\n",
       "<li>break_energy: \n",
       "<ul>\n",
       "\n",
       "<li>value: 300.0</li>\n",
       "\n",
       "<li>desc: location of the peak</li>\n",
       "\n",
       "<li>min_value: 10.0</li>\n",
       "\n",
       "<li>max_value: None</li>\n",
       "\n",
       "<li>unit: </li>\n",
       "\n",
       "<li>is_normalization: False</li>\n",
       "\n",
       "<li>delta: 30.0</li>\n",
       "\n",
       "<li>free: True</li>\n",
       "\n",
       "</ul>\n",
       "\n",
       "</li>\n",
       "\n",
       "<li>break_scale: \n",
       "<ul>\n",
       "\n",
       "<li>value: 0.5</li>\n",
       "\n",
       "<li>desc: smoothness of the break</li>\n",
       "\n",
       "<li>min_value: 0.0</li>\n",
       "\n",
       "<li>max_value: 10.0</li>\n",
       "\n",
       "<li>unit: </li>\n",
       "\n",
       "<li>is_normalization: False</li>\n",
       "\n",
       "<li>delta: 0.05</li>\n",
       "\n",
       "<li>free: False</li>\n",
       "\n",
       "</ul>\n",
       "\n",
       "</li>\n",
       "\n",
       "<li>beta: \n",
       "<ul>\n",
       "\n",
       "<li>value: -2.0</li>\n",
       "\n",
       "<li>desc: power law index above the break</li>\n",
       "\n",
       "<li>min_value: -5.0</li>\n",
       "\n",
       "<li>max_value: -1.6</li>\n",
       "\n",
       "<li>unit: </li>\n",
       "\n",
       "<li>is_normalization: False</li>\n",
       "\n",
       "<li>delta: 0.2</li>\n",
       "\n",
       "<li>free: True</li>\n",
       "\n",
       "</ul>\n",
       "\n",
       "</li>\n",
       "\n",
       "<li>pivot: \n",
       "<ul>\n",
       "\n",
       "<li>value: 100.0</li>\n",
       "\n",
       "<li>desc: where the spectrum is normalized</li>\n",
       "\n",
       "<li>min_value: None</li>\n",
       "\n",
       "<li>max_value: None</li>\n",
       "\n",
       "<li>unit: </li>\n",
       "\n",
       "<li>is_normalization: False</li>\n",
       "\n",
       "<li>delta: 10.0</li>\n",
       "\n",
       "<li>free: False</li>\n",
       "\n",
       "</ul>\n",
       "\n",
       "</li>\n",
       "\n",
       "</ul>\n",
       "\n",
       "</li>\n",
       "\n",
       "</ul>\n"
      ],
      "text/plain": [
       "  * description: A Smoothly Broken Power Law\n",
       "  * formula: $n.a.$\n",
       "  * parameters:\n",
       "    * K:\n",
       "      * value: 1.0\n",
       "      * desc: normalization\n",
       "      * min_value: 0.0\n",
       "      * max_value: null\n",
       "      * unit: ''\n",
       "      * is_normalization: true\n",
       "      * delta: 0.1\n",
       "      * free: true\n",
       "    * alpha:\n",
       "      * value: -1.0\n",
       "      * desc: power law index below the break\n",
       "      * min_value: -1.5\n",
       "      * max_value: 2.0\n",
       "      * unit: ''\n",
       "      * is_normalization: false\n",
       "      * delta: 0.1\n",
       "      * free: true\n",
       "    * break_energy:\n",
       "      * value: 300.0\n",
       "      * desc: location of the peak\n",
       "      * min_value: 10.0\n",
       "      * max_value: null\n",
       "      * unit: ''\n",
       "      * is_normalization: false\n",
       "      * delta: 30.0\n",
       "      * free: true\n",
       "    * break_scale:\n",
       "      * value: 0.5\n",
       "      * desc: smoothness of the break\n",
       "      * min_value: 0.0\n",
       "      * max_value: 10.0\n",
       "      * unit: ''\n",
       "      * is_normalization: false\n",
       "      * delta: 0.05\n",
       "      * free: false\n",
       "    * beta:\n",
       "      * value: -2.0\n",
       "      * desc: power law index above the break\n",
       "      * min_value: -5.0\n",
       "      * max_value: -1.6\n",
       "      * unit: ''\n",
       "      * is_normalization: false\n",
       "      * delta: 0.2\n",
       "      * free: true\n",
       "    * pivot:\n",
       "      * value: 100.0\n",
       "      * desc: where the spectrum is normalized\n",
       "      * min_value: null\n",
       "      * max_value: null\n",
       "      * unit: ''\n",
       "      * is_normalization: false\n",
       "      * delta: 10.0\n",
       "      * free: false"
      ]
     },
     "metadata": {},
     "output_type": "display_data"
    }
   ],
   "source": [
    "func.display()"
   ]
  },
  {
   "cell_type": "markdown",
   "id": "575159c1",
   "metadata": {
    "papermill": {
     "duration": 0.009621,
     "end_time": "2021-08-22T16:54:03.259950",
     "exception": false,
     "start_time": "2021-08-22T16:54:03.250329",
     "status": "completed"
    },
    "tags": []
   },
   "source": [
    "## Shape \n",
    "\n",
    "The shape of the function. \n",
    "\n",
    "*If this is not a photon model but a prior or linear function then ignore the units as these docs are auto-generated*"
   ]
  },
  {
   "cell_type": "code",
   "execution_count": 6,
   "id": "bec4ef4f",
   "metadata": {
    "execution": {
     "iopub.execute_input": "2021-08-22T16:54:03.308710Z",
     "iopub.status.busy": "2021-08-22T16:54:03.307820Z",
     "iopub.status.idle": "2021-08-22T16:54:04.847173Z",
     "shell.execute_reply": "2021-08-22T16:54:04.848068Z"
    },
    "papermill": {
     "duration": 1.578706,
     "end_time": "2021-08-22T16:54:04.848355",
     "exception": false,
     "start_time": "2021-08-22T16:54:03.269649",
     "status": "completed"
    },
    "tags": [
     "nbsphinx-thumbnail"
    ]
   },
   "outputs": [
    {
     "data": {
      "image/png": "[encoded data removed]",
      "text/plain": [
       "<Figure size 432x288 with 1 Axes>"
      ]
     },
     "metadata": {
      "needs_background": "light"
     },
     "output_type": "display_data"
    }
   ],
   "source": [
    "fig, ax = plt.subplots()\n",
    "\n",
    "\n",
    "ax.plot(energy_grid, func(energy_grid), color=blue)\n",
    "\n",
    "ax.set_xlabel(\"energy (keV)\")\n",
    "ax.set_ylabel(\"photon flux\")\n",
    "ax.set_xscale(x_scale)\n",
    "ax.set_yscale(y_scale)\n"
   ]
  },
  {
   "cell_type": "markdown",
   "id": "ac7f5216",
   "metadata": {
    "lines_to_next_cell": 0,
    "papermill": {
     "duration": 0.011312,
     "end_time": "2021-08-22T16:54:04.871744",
     "exception": false,
     "start_time": "2021-08-22T16:54:04.860432",
     "status": "completed"
    },
    "tags": []
   },
   "source": [
    "## F$_{\\nu}$\n",
    "\n",
    "The F$_{\\nu}$ shape of the photon model\n",
    "*if this is not a photon model, please ignore this auto-generated plot*"
   ]
  },
  {
   "cell_type": "code",
   "execution_count": 7,
   "id": "f7584fb6",
   "metadata": {
    "execution": {
     "iopub.execute_input": "2021-08-22T16:54:05.035584Z",
     "iopub.status.busy": "2021-08-22T16:54:04.906236Z",
     "iopub.status.idle": "2021-08-22T16:54:05.483394Z",
     "shell.execute_reply": "2021-08-22T16:54:05.484292Z"
    },
    "papermill": {
     "duration": 0.601857,
     "end_time": "2021-08-22T16:54:05.484573",
     "exception": false,
     "start_time": "2021-08-22T16:54:04.882716",
     "status": "completed"
    },
    "tags": []
   },
   "outputs": [
    {
     "data": {
      "image/png": "[encoded data removed]",
      "text/plain": [
       "<Figure size 432x288 with 1 Axes>"
      ]
     },
     "metadata": {
      "needs_background": "light"
     },
     "output_type": "display_data"
    }
   ],
   "source": [
    "fig, ax = plt.subplots()\n",
    "\n",
    "ax.plot(energy_grid, energy_grid * func(energy_grid), red)\n",
    "\n",
    "\n",
    "ax.set_xlabel(\"energy (keV)\")\n",
    "ax.set_ylabel(r\"energy flux (F$_{\\nu}$)\")\n",
    "ax.set_xscale(x_scale)\n",
    "ax.set_yscale(y_scale)\n",
    "\n"
   ]
  },
  {
   "cell_type": "markdown",
   "id": "bb773317",
   "metadata": {
    "papermill": {
     "duration": 0.011609,
     "end_time": "2021-08-22T16:54:05.508109",
     "exception": false,
     "start_time": "2021-08-22T16:54:05.496500",
     "status": "completed"
    },
    "tags": []
   },
   "source": [
    "## $\\nu$F$_{\\nu}$\n",
    "\n",
    "The $\\nu$F$_{\\nu}$ shape of the photon model\n",
    "*if this is not a photon model, please ignore this auto-generated plot*"
   ]
  },
  {
   "cell_type": "code",
   "execution_count": 8,
   "id": "9eff4f76",
   "metadata": {
    "execution": {
     "iopub.execute_input": "2021-08-22T16:54:05.572527Z",
     "iopub.status.busy": "2021-08-22T16:54:05.536858Z",
     "iopub.status.idle": "2021-08-22T16:54:06.094319Z",
     "shell.execute_reply": "2021-08-22T16:54:06.095185Z"
    },
    "papermill": {
     "duration": 0.575214,
     "end_time": "2021-08-22T16:54:06.095467",
     "exception": false,
     "start_time": "2021-08-22T16:54:05.520253",
     "status": "completed"
    },
    "tags": []
   },
   "outputs": [
    {
     "data": {
      "image/png": "[encoded data removed]",
      "text/plain": [
       "<Figure size 432x288 with 1 Axes>"
      ]
     },
     "metadata": {
      "needs_background": "light"
     },
     "output_type": "display_data"
    }
   ],
   "source": [
    "fig, ax = plt.subplots()\n",
    "\n",
    "ax.plot(energy_grid, energy_grid**2 * func(energy_grid), color=green)\n",
    "\n",
    "\n",
    "ax.set_xlabel(\"energy (keV)\")\n",
    "ax.set_ylabel(r\"$\\nu$F$_{\\nu}$\")\n",
    "ax.set_xscale(x_scale)\n",
    "ax.set_yscale(y_scale)\n"
   ]
  }
 ],
 "metadata": {
  "jupytext": {
   "formats": "ipynb,md"
  },
  "kernelspec": {
   "display_name": "Python 3",
   "language": "python",
   "name": "python3"
  },
  "language_info": {
   "codemirror_mode": {
    "name": "ipython",
    "version": 3
   },
   "file_extension": ".py",
   "mimetype": "text/x-python",
   "name": "python",
   "nbconvert_exporter": "python",
   "pygments_lexer": "ipython3",
   "version": "3.7.11"
  },
  "papermill": {
   "default_parameters": {},
   "duration": 7.022179,
   "end_time": "2021-08-22T16:54:06.647088",
   "environment_variables": {},
   "exception": null,
   "input_path": "SmoothlyBrokenPowerLaw.ipynb",
   "output_path": "../docs/notebooks/SmoothlyBrokenPowerLaw.ipynb",
   "parameters": {
    "func_name": "SmoothlyBrokenPowerLaw",
    "linear_range": false,
    "wide_energy_range": true,
    "x_scale": "log",
    "y_scale": "log"
   },
   "start_time": "2021-08-22T16:53:59.624909",
   "version": "2.3.3"
  }
 },
 "nbformat": 4,
 "nbformat_minor": 5
}
