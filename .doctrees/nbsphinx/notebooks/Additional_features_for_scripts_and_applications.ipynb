{
 "cells": [
  {
   "cell_type": "markdown",
   "id": "2b46f7c4",
   "metadata": {},
   "source": [
    "# Additional features for scripts and applications\n",
    "\n",
    "In this document we describe some features of the astromodels package which are useful for non-interactive environment such as scripts or applications\n",
    "\n",
    "First let’s import astromodels and let’s load a model from a file, which we will use as example:"
   ]
  },
  {
   "cell_type": "code",
   "execution_count": 1,
   "id": "f0736490",
   "metadata": {
    "execution": {
     "iopub.execute_input": "2021-08-23T07:37:39.852050Z",
     "iopub.status.busy": "2021-08-23T07:37:39.850817Z",
     "iopub.status.idle": "2021-08-23T07:37:55.681486Z",
     "shell.execute_reply": "2021-08-23T07:37:55.682070Z"
    }
   },
   "outputs": [
    {
     "name": "stdout",
     "output_type": "stream",
     "text": [
      "[\u001b[35mWARNING \u001b[0m]\u001b[35m The naima package is not available. Models that depend on it will not be available\u001b[0m\n"
     ]
    },
    {
     "name": "stdout",
     "output_type": "stream",
     "text": [
      "[\u001b[35mWARNING \u001b[0m]\u001b[35m The GSL library or the pygsl wrapper cannot be loaded. Models that depend on it will not be available.\u001b[0m\n"
     ]
    }
   ],
   "source": [
    "from astromodels import *"
   ]
  },
  {
   "cell_type": "code",
   "execution_count": 2,
   "id": "57b4468a",
   "metadata": {
    "execution": {
     "iopub.execute_input": "2021-08-23T07:37:55.687955Z",
     "iopub.status.busy": "2021-08-23T07:37:55.687094Z",
     "iopub.status.idle": "2021-08-23T07:37:55.720622Z",
     "shell.execute_reply": "2021-08-23T07:37:55.721206Z"
    }
   },
   "outputs": [],
   "source": [
    "my_model = load_model(\"my_model.yml\")"
   ]
  },
  {
   "cell_type": "markdown",
   "id": "3131cb3b",
   "metadata": {},
   "source": [
    "## Get dictionaries of point and extended sources\n",
    "\n",
    "If you don’t know the details (such as names) of the sources contained in the model, you can obtain dictionaries of point sources and extended sources like:"
   ]
  },
  {
   "cell_type": "code",
   "execution_count": 3,
   "id": "bd19219e",
   "metadata": {
    "execution": {
     "iopub.execute_input": "2021-08-23T07:37:55.726908Z",
     "iopub.status.busy": "2021-08-23T07:37:55.726018Z",
     "iopub.status.idle": "2021-08-23T07:37:55.729397Z",
     "shell.execute_reply": "2021-08-23T07:37:55.729955Z"
    }
   },
   "outputs": [
    {
     "name": "stdout",
     "output_type": "stream",
     "text": [
      "odict_keys(['source_1', 'source_2'])\n",
      "odict_keys([])\n"
     ]
    }
   ],
   "source": [
    "point_sources = my_model.point_sources\n",
    "extended_sources = my_model.extended_sources\n",
    "\n",
    "# Print the names of the point sources\n",
    "print(point_sources.keys())\n",
    "\n",
    "# Print the names of the extended sources\n",
    "print(extended_sources.keys())"
   ]
  },
  {
   "cell_type": "markdown",
   "id": "4fdbab85",
   "metadata": {},
   "source": [
    "You can use these dictionaries as usual. For example, you can loop over all point sources and print their position:"
   ]
  },
  {
   "cell_type": "code",
   "execution_count": 4,
   "id": "7573a151",
   "metadata": {
    "execution": {
     "iopub.execute_input": "2021-08-23T07:37:55.735134Z",
     "iopub.status.busy": "2021-08-23T07:37:55.734255Z",
     "iopub.status.idle": "2021-08-23T07:37:55.737772Z",
     "shell.execute_reply": "2021-08-23T07:37:55.738278Z"
    }
   },
   "outputs": [
    {
     "name": "stdout",
     "output_type": "stream",
     "text": [
      "The model contain point source source_1 at Sky direction (R.A., Dec.) = (125.60000, -75.30000) (J2000)\n",
      "The model contain point source source_2 at Sky direction (l, b) = (11.25000, -22.50000) (J2000)\n"
     ]
    }
   ],
   "source": [
    "for source_name, point_source in point_sources.items():\n",
    "\n",
    "    print(\"The model contain point source %s at %s\" % (source_name, point_source.position))"
   ]
  },
  {
   "cell_type": "markdown",
   "id": "734c5416",
   "metadata": {},
   "source": [
    "## Accessing components and spectral shapes with no previous information\n",
    "\n",
    "Similarly you can access components and their spectral shapes (i.e., functions) without knowing the names in advance. A dictionary containing the components of a given source can be obtained with:"
   ]
  },
  {
   "cell_type": "code",
   "execution_count": 5,
   "id": "c6594ebc",
   "metadata": {
    "execution": {
     "iopub.execute_input": "2021-08-23T07:37:55.743066Z",
     "iopub.status.busy": "2021-08-23T07:37:55.742163Z",
     "iopub.status.idle": "2021-08-23T07:37:55.746106Z",
     "shell.execute_reply": "2021-08-23T07:37:55.745491Z"
    }
   },
   "outputs": [
    {
     "name": "stdout",
     "output_type": "stream",
     "text": [
      "odict_keys(['synchrotron', 'IC'])\n"
     ]
    }
   ],
   "source": [
    "components = my_model.source_2.components\n",
    "print(components.keys())"
   ]
  },
  {
   "cell_type": "markdown",
   "id": "6d1f4b40",
   "metadata": {},
   "source": [
    "So now we can loop over all the sources and print their components:"
   ]
  },
  {
   "cell_type": "code",
   "execution_count": 6,
   "id": "dcc568ca",
   "metadata": {
    "execution": {
     "iopub.execute_input": "2021-08-23T07:37:55.773335Z",
     "iopub.status.busy": "2021-08-23T07:37:55.771647Z",
     "iopub.status.idle": "2021-08-23T07:37:55.777809Z",
     "shell.execute_reply": "2021-08-23T07:37:55.778506Z"
    }
   },
   "outputs": [
    {
     "name": "stdout",
     "output_type": "stream",
     "text": [
      "Point source source_1 has components odict_keys(['main'])\n",
      "Point source source_2 has components odict_keys(['synchrotron', 'IC'])\n"
     ]
    }
   ],
   "source": [
    "for source_name, point_source in my_model.point_sources.items():\n",
    "\n",
    "    print(\"Point source %s has components %s\" % (source_name, point_source.components.keys()))"
   ]
  },
  {
   "cell_type": "markdown",
   "id": "42f0ed87",
   "metadata": {},
   "source": [
    "With a fully-qualified path, you would need to know the name of the function to access its parameters. Instead, you can use the generic name “shape”. For example these two statements point to the same function instance:"
   ]
  },
  {
   "cell_type": "code",
   "execution_count": 7,
   "id": "7472fcdb",
   "metadata": {
    "execution": {
     "iopub.execute_input": "2021-08-23T07:37:55.792517Z",
     "iopub.status.busy": "2021-08-23T07:37:55.791084Z",
     "iopub.status.idle": "2021-08-23T07:37:55.796334Z",
     "shell.execute_reply": "2021-08-23T07:37:55.797610Z"
    }
   },
   "outputs": [
    {
     "data": {
      "text/plain": [
       "True"
      ]
     },
     "execution_count": 7,
     "metadata": {},
     "output_type": "execute_result"
    }
   ],
   "source": [
    "my_model.source_1.spectrum.main.Powerlaw == my_model.source_1.spectrum.main.shape\n"
   ]
  },
  {
   "cell_type": "markdown",
   "id": "e6165f4f",
   "metadata": {},
   "source": [
    "Once you have a function instance, you can obtain a dictionary of its parameters as:"
   ]
  },
  {
   "cell_type": "code",
   "execution_count": 8,
   "id": "8c6c788d",
   "metadata": {
    "execution": {
     "iopub.execute_input": "2021-08-23T07:37:55.803938Z",
     "iopub.status.busy": "2021-08-23T07:37:55.802946Z",
     "iopub.status.idle": "2021-08-23T07:37:55.806318Z",
     "shell.execute_reply": "2021-08-23T07:37:55.807507Z"
    }
   },
   "outputs": [
    {
     "name": "stdout",
     "output_type": "stream",
     "text": [
      "odict_keys(['K', 'piv', 'index'])\n"
     ]
    }
   ],
   "source": [
    "parameters = my_model.source_1.spectrum.main.Powerlaw.parameters\n",
    "print(parameters.keys())"
   ]
  },
  {
   "cell_type": "markdown",
   "id": "45187a0e",
   "metadata": {},
   "source": [
    "Putting it all together, let’s loop over all sources in our model, then over each component in each source, then over each parameter in each component:"
   ]
  },
  {
   "cell_type": "code",
   "execution_count": 9,
   "id": "30b77469",
   "metadata": {
    "execution": {
     "iopub.execute_input": "2021-08-23T07:37:55.815324Z",
     "iopub.status.busy": "2021-08-23T07:37:55.814269Z",
     "iopub.status.idle": "2021-08-23T07:37:55.818038Z",
     "shell.execute_reply": "2021-08-23T07:37:55.818647Z"
    }
   },
   "outputs": [
    {
     "name": "stdout",
     "output_type": "stream",
     "text": [
      "Found source source_1\n",
      "  Position of point source: Sky direction (R.A., Dec.) = (125.60000, -75.30000) (J2000)\n",
      "    Found component main\n",
      "      Found parameter K\n",
      "      Found parameter piv\n",
      "      Found parameter index\n",
      "Found source source_2\n",
      "  Position of point source: Sky direction (l, b) = (11.25000, -22.50000) (J2000)\n",
      "    Found component synchrotron\n",
      "      Found parameter K\n",
      "      Found parameter piv\n",
      "      Found parameter index\n",
      "    Found component IC\n",
      "      Found parameter K\n",
      "      Found parameter piv\n",
      "      Found parameter index\n"
     ]
    }
   ],
   "source": [
    "for source_name, point_source in my_model.point_sources.items():\n",
    "\n",
    "    print(\"Found source %s\" % source_name)\n",
    "\n",
    "    print(\"  Position of point source: %s\" % point_source.position)\n",
    "\n",
    "    for component_name, component in point_source.components.items():\n",
    "\n",
    "        print(\"    Found component %s\" % component_name)\n",
    "\n",
    "        for parameter_name, parameter in component.shape.parameters.items():\n",
    "\n",
    "            print(\"      Found parameter %s\" % parameter_name)"
   ]
  },
  {
   "cell_type": "markdown",
   "id": "6e9465e6",
   "metadata": {},
   "source": [
    "Let’s now plot the differential flux between 1 and 100 keV of all components from all sources:\n",
    "\n"
   ]
  },
  {
   "cell_type": "code",
   "execution_count": 10,
   "id": "4217b3c1",
   "metadata": {
    "execution": {
     "iopub.execute_input": "2021-08-23T07:37:55.833024Z",
     "iopub.status.busy": "2021-08-23T07:37:55.831559Z",
     "iopub.status.idle": "2021-08-23T07:38:01.284259Z",
     "shell.execute_reply": "2021-08-23T07:38:01.284875Z"
    }
   },
   "outputs": [
    {
     "data": {
      "text/plain": [
       "Text(0, 0.5, 'Flux (ph cm$^{-2}$ s$^{-1}$ keV$^{-1}$')"
      ]
     },
     "execution_count": 10,
     "metadata": {},
     "output_type": "execute_result"
    },
    {
     "data": {
      "image/png": "[encoded data removed]",
      "text/plain": [
       "<Figure size 748.8x655.2 with 1 Axes>"
      ]
     },
     "metadata": {},
     "output_type": "display_data"
    }
   ],
   "source": [
    "import numpy as np\n",
    "import matplotlib.pyplot as plt\n",
    "%matplotlib inline\n",
    "from jupyterthemes import jtplot\n",
    "jtplot.style(context=\"talk\", fscale=1, ticks=True, grid=False)\n",
    "\n",
    "fig, ax = plt.subplots()\n",
    "\n",
    "\n",
    "# Prepare 100 energies logarithmicall spaced between 1 and 100 keV\n",
    "energies = np.geomspace(1,100,100)\n",
    "\n",
    "# Now loop over all point sources and plot them\n",
    "for source_name, point_source in my_model.point_sources.items():\n",
    "\n",
    "    # Plot the sum of all components for this source\n",
    "\n",
    "    ax.loglog(energies, point_source(energies),label=source_name)\n",
    "\n",
    "    # If there is more than one component, plot them also separately\n",
    "\n",
    "    if len(point_source.components) > 1:\n",
    "\n",
    "        for component_name, component in point_source.components.items():\n",
    "\n",
    "            ax.loglog(energies,component.shape(energies),'--',label=\"%s of %s\" %(component_name, source_name))\n",
    "\n",
    "# Add a legend\n",
    "ax.legend(loc=0,frameon=False)\n",
    "\n",
    "ax.set_xlabel(\"Energy (keV)\")\n",
    "ax.set_ylabel(r\"Flux (ph cm$^{-2}$ s$^{-1}$ keV$^{-1}$\")"
   ]
  },
  {
   "cell_type": "markdown",
   "id": "36a5a45b",
   "metadata": {},
   "source": [
    "## Getting the path of an element and using it programmatically\n",
    "\n",
    "Whenever you have an element from the model, you can get its fully-qualified path by using the .path property. This for example will print the path of all the parameters in the model:"
   ]
  },
  {
   "cell_type": "code",
   "execution_count": 11,
   "id": "095529dd",
   "metadata": {
    "execution": {
     "iopub.execute_input": "2021-08-23T07:38:01.291438Z",
     "iopub.status.busy": "2021-08-23T07:38:01.290422Z",
     "iopub.status.idle": "2021-08-23T07:38:01.293588Z",
     "shell.execute_reply": "2021-08-23T07:38:01.294344Z"
    }
   },
   "outputs": [
    {
     "name": "stdout",
     "output_type": "stream",
     "text": [
      "source_1.spectrum.main.Powerlaw.K\n",
      "source_1.spectrum.main.Powerlaw.piv\n",
      "source_1.spectrum.main.Powerlaw.index\n",
      "source_2.spectrum.synchrotron.Powerlaw.K\n",
      "source_2.spectrum.synchrotron.Powerlaw.piv\n",
      "source_2.spectrum.synchrotron.Powerlaw.index\n",
      "source_2.spectrum.IC.Powerlaw.K\n",
      "source_2.spectrum.IC.Powerlaw.piv\n",
      "source_2.spectrum.IC.Powerlaw.index\n"
     ]
    }
   ],
   "source": [
    "for source_name, point_source in my_model.point_sources.items():\n",
    "\n",
    "    for component_name, component in point_source.components.items():\n",
    "\n",
    "        for parameter_name, parameter in component.shape.parameters.items():\n",
    "\n",
    "            print(parameter.path)"
   ]
  },
  {
   "cell_type": "markdown",
   "id": "18379a4f",
   "metadata": {},
   "source": [
    "If you have a path of an element in a string, you can use it to access the element by using the [] operator of the Model class like this:"
   ]
  },
  {
   "cell_type": "code",
   "execution_count": 12,
   "id": "be248672",
   "metadata": {
    "execution": {
     "iopub.execute_input": "2021-08-23T07:38:01.300202Z",
     "iopub.status.busy": "2021-08-23T07:38:01.299280Z",
     "iopub.status.idle": "2021-08-23T07:38:01.302863Z",
     "shell.execute_reply": "2021-08-23T07:38:01.303491Z"
    }
   },
   "outputs": [
    {
     "name": "stdout",
     "output_type": "stream",
     "text": [
      "Parameter K = 0.8 [1 / (cm2 keV s)]\n",
      "(min_value = 1e-30, max_value = 1000.0, delta = 0.1, free = True)\n"
     ]
    }
   ],
   "source": [
    "my_path = 'source_2.spectrum.IC.Powerlaw.K'\n",
    "\n",
    "K = my_model[my_path]\n",
    "\n",
    "print(K)"
   ]
  },
  {
   "cell_type": "markdown",
   "id": "3bcf8ff0",
   "metadata": {},
   "source": [
    "## Alternative way of accessing the information in the model\n",
    "\n",
    "We present here an alternative way to get information from the model without using dictionaries, and using instead source IDs. A source ID is just an ordinal number, separate for point sources and extended sources. Hence, the first point source has ID 0, the second point source has ID 1, and so on. Similarly, the first extended source has ID 0, the second has ID 1 and so on:"
   ]
  },
  {
   "cell_type": "code",
   "execution_count": 13,
   "id": "f41e1090",
   "metadata": {
    "execution": {
     "iopub.execute_input": "2021-08-23T07:38:01.309755Z",
     "iopub.status.busy": "2021-08-23T07:38:01.308820Z",
     "iopub.status.idle": "2021-08-23T07:38:01.312734Z",
     "shell.execute_reply": "2021-08-23T07:38:01.313289Z"
    }
   },
   "outputs": [
    {
     "name": "stdout",
     "output_type": "stream",
     "text": [
      "The first point source is called source_1\n",
      "The second point source is called source_2\n",
      "Point source ID 0 has name source_1\n",
      "Point source ID 1 has name source_2\n"
     ]
    }
   ],
   "source": [
    "# Get the number of point sources and of extended sources\n",
    "\n",
    "n_pts = my_model.get_number_of_point_sources()\n",
    "n_ext = my_model.get_number_of_extended_sources()\n",
    "\n",
    "# Get the name of the first point source\n",
    "\n",
    "print(\"The first point source is called %s\" % my_model.get_point_source_name(0))\n",
    "print(\"The second point source is called %s\" % my_model.get_point_source_name(1))\n",
    "\n",
    "# Of course you can achieve the same in a loop\n",
    "\n",
    "for id in range(n_pts):\n",
    "\n",
    "    print(\"Point source ID %s has name %s\" % (id, my_model.get_point_source_name(id)))"
   ]
  },
  {
   "cell_type": "markdown",
   "id": "af59e7f2",
   "metadata": {},
   "source": [
    "Once you have the ID of a source, you can obtain information about it with these methods of the Model class:"
   ]
  },
  {
   "cell_type": "code",
   "execution_count": 14,
   "id": "e3c3f115",
   "metadata": {
    "execution": {
     "iopub.execute_input": "2021-08-23T07:38:01.334016Z",
     "iopub.status.busy": "2021-08-23T07:38:01.333150Z",
     "iopub.status.idle": "2021-08-23T07:38:01.336256Z",
     "shell.execute_reply": "2021-08-23T07:38:01.337187Z"
    }
   },
   "outputs": [],
   "source": [
    "src_id = 1\n",
    "\n",
    "src_name = my_model.get_point_source_name(src_id)\n",
    "\n",
    "ra, dec = my_model.get_point_source_position(src_id) # This will always return ra,dec\n",
    "\n",
    "# Prepare 100 energies logarithmically spaced between 1 and 100 keV\n",
    "energies = np.logspace(0,2,100)\n",
    "\n",
    "differential_flux = my_model.get_point_source_fluxes(src_id, energies)\n",
    "\n",
    "# Similar methods exist for extended sources (to be completed)"
   ]
  },
  {
   "cell_type": "markdown",
   "id": "ae7b5fcb",
   "metadata": {},
   "source": [
    "Depending on your application you might find these methods more convenient that interrogating the sources directly. Note however that some features are not available through this interface. For example, it is not possible to get information about different components through these methods."
   ]
  },
  {
   "cell_type": "code",
   "execution_count": null,
   "id": "97184591",
   "metadata": {},
   "outputs": [],
   "source": []
  }
 ],
 "metadata": {
  "jupytext": {
   "formats": "ipynb,md"
  },
  "kernelspec": {
   "display_name": "Python 3",
   "language": "python",
   "name": "python3"
  },
  "language_info": {
   "codemirror_mode": {
    "name": "ipython",
    "version": 3
   },
   "file_extension": ".py",
   "mimetype": "text/x-python",
   "name": "python",
   "nbconvert_exporter": "python",
   "pygments_lexer": "ipython3",
   "version": "3.7.11"
  }
 },
 "nbformat": 4,
 "nbformat_minor": 5
}
