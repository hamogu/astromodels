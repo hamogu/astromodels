{
 "cells": [
  {
   "cell_type": "markdown",
   "id": "4d205fe7",
   "metadata": {
    "papermill": {
     "duration": 0.009983,
     "end_time": "2021-08-22T16:52:52.777009",
     "exception": false,
     "start_time": "2021-08-22T16:52:52.767026",
     "status": "completed"
    },
    "tags": []
   },
   "source": [
    "# Line"
   ]
  },
  {
   "cell_type": "code",
   "execution_count": 1,
   "id": "79772727",
   "metadata": {
    "execution": {
     "iopub.execute_input": "2021-08-22T16:52:52.804734Z",
     "iopub.status.busy": "2021-08-22T16:52:52.803640Z",
     "iopub.status.idle": "2021-08-22T16:52:55.271109Z",
     "shell.execute_reply": "2021-08-22T16:52:55.271706Z"
    },
    "nbsphinx": "hidden",
    "papermill": {
     "duration": 2.486317,
     "end_time": "2021-08-22T16:52:55.272062",
     "exception": false,
     "start_time": "2021-08-22T16:52:52.785745",
     "status": "completed"
    },
    "tags": []
   },
   "outputs": [],
   "source": [
    "%%capture\n",
    "\n",
    "import numpy as np\n",
    "\n",
    "import matplotlib.pyplot as plt\n",
    "\n",
    "import warnings\n",
    "warnings.simplefilter(\"ignore\")\n",
    "\n",
    "from astromodels.functions.function import _known_functions\n",
    "\n",
    "\n",
    "from jupyterthemes import jtplot\n",
    "jtplot.style(context=\"talk\", fscale=1, ticks=True, grid=False)\n",
    "%matplotlib inline"
   ]
  },
  {
   "cell_type": "code",
   "execution_count": 2,
   "id": "e2f9b3c2",
   "metadata": {
    "execution": {
     "iopub.execute_input": "2021-08-22T16:52:55.294383Z",
     "iopub.status.busy": "2021-08-22T16:52:55.293503Z",
     "iopub.status.idle": "2021-08-22T16:52:55.300088Z",
     "shell.execute_reply": "2021-08-22T16:52:55.300787Z"
    },
    "nbsphinx": "hidden",
    "papermill": {
     "duration": 0.020266,
     "end_time": "2021-08-22T16:52:55.301041",
     "exception": false,
     "start_time": "2021-08-22T16:52:55.280775",
     "status": "completed"
    },
    "tags": [
     "parameters"
    ]
   },
   "outputs": [],
   "source": [
    "func_name = \"TbAbs\"\n",
    "\n",
    "x_scale=\"log\"\n",
    "y_scale=\"log\"\n",
    "\n",
    "linear_range = False\n",
    "\n",
    "wide_energy_range = False"
   ]
  },
  {
   "cell_type": "code",
   "execution_count": 3,
   "id": "756c3033",
   "metadata": {
    "execution": {
     "iopub.execute_input": "2021-08-22T16:52:55.323018Z",
     "iopub.status.busy": "2021-08-22T16:52:55.322133Z",
     "iopub.status.idle": "2021-08-22T16:52:55.329435Z",
     "shell.execute_reply": "2021-08-22T16:52:55.328894Z"
    },
    "papermill": {
     "duration": 0.020086,
     "end_time": "2021-08-22T16:52:55.329671",
     "exception": false,
     "start_time": "2021-08-22T16:52:55.309585",
     "status": "completed"
    },
    "tags": [
     "injected-parameters"
    ]
   },
   "outputs": [],
   "source": [
    "# Parameters\n",
    "func_name = \"Line\"\n",
    "wide_energy_range = True\n",
    "x_scale = \"linear\"\n",
    "y_scale = \"linear\"\n",
    "linear_range = True\n"
   ]
  },
  {
   "cell_type": "code",
   "execution_count": 4,
   "id": "d954643a",
   "metadata": {
    "execution": {
     "iopub.execute_input": "2021-08-22T16:52:55.355230Z",
     "iopub.status.busy": "2021-08-22T16:52:55.354235Z",
     "iopub.status.idle": "2021-08-22T16:52:55.360183Z",
     "shell.execute_reply": "2021-08-22T16:52:55.361570Z"
    },
    "lines_to_next_cell": 0,
    "nbsphinx": "hidden",
    "papermill": {
     "duration": 0.02358,
     "end_time": "2021-08-22T16:52:55.361921",
     "exception": false,
     "start_time": "2021-08-22T16:52:55.338341",
     "status": "completed"
    },
    "tags": []
   },
   "outputs": [],
   "source": [
    "func = _known_functions[func_name]()\n",
    "\n",
    "if wide_energy_range:\n",
    "\n",
    "    energy_grid = np.geomspace(1e2,1e4,500)\n",
    "    \n",
    "else:\n",
    "    \n",
    "    energy_grid = np.geomspace(2e-1,1e1,1000)\n",
    "\n",
    "if linear_range:\n",
    "\n",
    "\tenergy_grid = np.linspace(-5,5,1000)\n",
    "\n",
    "    \n",
    "blue = \"#4152E3\"\n",
    "red = \"#E3414B\"\n",
    "green = \"#41E39E\""
   ]
  },
  {
   "cell_type": "markdown",
   "id": "19b90f82",
   "metadata": {
    "lines_to_next_cell": 0,
    "papermill": {
     "duration": 0.009104,
     "end_time": "2021-08-22T16:52:55.380260",
     "exception": false,
     "start_time": "2021-08-22T16:52:55.371156",
     "status": "completed"
    },
    "tags": []
   },
   "source": [
    "## Description"
   ]
  },
  {
   "cell_type": "code",
   "execution_count": 5,
   "id": "bbfd12a5",
   "metadata": {
    "execution": {
     "iopub.execute_input": "2021-08-22T16:52:55.407821Z",
     "iopub.status.busy": "2021-08-22T16:52:55.406863Z",
     "iopub.status.idle": "2021-08-22T16:52:55.411297Z",
     "shell.execute_reply": "2021-08-22T16:52:55.412181Z"
    },
    "papermill": {
     "duration": 0.023071,
     "end_time": "2021-08-22T16:52:55.412445",
     "exception": false,
     "start_time": "2021-08-22T16:52:55.389374",
     "status": "completed"
    },
    "tags": []
   },
   "outputs": [
    {
     "data": {
      "text/html": [
       "<ul>\n",
       "\n",
       "<li>description: A linear function</li>\n",
       "\n",
       "<li>formula: $ b * x + a $</li>\n",
       "\n",
       "<li>parameters: \n",
       "<ul>\n",
       "\n",
       "<li>a: \n",
       "<ul>\n",
       "\n",
       "<li>value: 0.0</li>\n",
       "\n",
       "<li>desc: intercept</li>\n",
       "\n",
       "<li>min_value: None</li>\n",
       "\n",
       "<li>max_value: None</li>\n",
       "\n",
       "<li>unit: </li>\n",
       "\n",
       "<li>is_normalization: False</li>\n",
       "\n",
       "<li>delta: 0.1</li>\n",
       "\n",
       "<li>free: True</li>\n",
       "\n",
       "</ul>\n",
       "\n",
       "</li>\n",
       "\n",
       "<li>b: \n",
       "<ul>\n",
       "\n",
       "<li>value: 1.0</li>\n",
       "\n",
       "<li>desc: coeff</li>\n",
       "\n",
       "<li>min_value: None</li>\n",
       "\n",
       "<li>max_value: None</li>\n",
       "\n",
       "<li>unit: </li>\n",
       "\n",
       "<li>is_normalization: False</li>\n",
       "\n",
       "<li>delta: 0.1</li>\n",
       "\n",
       "<li>free: True</li>\n",
       "\n",
       "</ul>\n",
       "\n",
       "</li>\n",
       "\n",
       "</ul>\n",
       "\n",
       "</li>\n",
       "\n",
       "</ul>\n"
      ],
      "text/plain": [
       "  * description: A linear function\n",
       "  * formula: $ b * x + a $\n",
       "  * parameters:\n",
       "    * a:\n",
       "      * value: 0.0\n",
       "      * desc: intercept\n",
       "      * min_value: null\n",
       "      * max_value: null\n",
       "      * unit: ''\n",
       "      * is_normalization: false\n",
       "      * delta: 0.1\n",
       "      * free: true\n",
       "    * b:\n",
       "      * value: 1.0\n",
       "      * desc: coeff\n",
       "      * min_value: null\n",
       "      * max_value: null\n",
       "      * unit: ''\n",
       "      * is_normalization: false\n",
       "      * delta: 0.1\n",
       "      * free: true"
      ]
     },
     "metadata": {},
     "output_type": "display_data"
    }
   ],
   "source": [
    "func.display()"
   ]
  },
  {
   "cell_type": "markdown",
   "id": "a8fd3086",
   "metadata": {
    "papermill": {
     "duration": 0.009416,
     "end_time": "2021-08-22T16:52:55.431404",
     "exception": false,
     "start_time": "2021-08-22T16:52:55.421988",
     "status": "completed"
    },
    "tags": []
   },
   "source": [
    "## Shape \n",
    "\n",
    "The shape of the function. \n",
    "\n",
    "*If this is not a photon model but a prior or linear function then ignore the units as these docs are auto-generated*"
   ]
  },
  {
   "cell_type": "code",
   "execution_count": 6,
   "id": "7fe44e5a",
   "metadata": {
    "execution": {
     "iopub.execute_input": "2021-08-22T16:52:55.472225Z",
     "iopub.status.busy": "2021-08-22T16:52:55.471329Z",
     "iopub.status.idle": "2021-08-22T16:52:55.611140Z",
     "shell.execute_reply": "2021-08-22T16:52:55.612034Z"
    },
    "papermill": {
     "duration": 0.171409,
     "end_time": "2021-08-22T16:52:55.612310",
     "exception": false,
     "start_time": "2021-08-22T16:52:55.440901",
     "status": "completed"
    },
    "tags": [
     "nbsphinx-thumbnail"
    ]
   },
   "outputs": [
    {
     "data": {
      "image/png": "[encoded data removed]",
      "text/plain": [
       "<Figure size 432x288 with 1 Axes>"
      ]
     },
     "metadata": {
      "needs_background": "light"
     },
     "output_type": "display_data"
    }
   ],
   "source": [
    "fig, ax = plt.subplots()\n",
    "\n",
    "\n",
    "ax.plot(energy_grid, func(energy_grid), color=blue)\n",
    "\n",
    "ax.set_xlabel(\"energy (keV)\")\n",
    "ax.set_ylabel(\"photon flux\")\n",
    "ax.set_xscale(x_scale)\n",
    "ax.set_yscale(y_scale)\n"
   ]
  },
  {
   "cell_type": "markdown",
   "id": "4f270507",
   "metadata": {
    "lines_to_next_cell": 0,
    "papermill": {
     "duration": 0.010419,
     "end_time": "2021-08-22T16:52:55.633461",
     "exception": false,
     "start_time": "2021-08-22T16:52:55.623042",
     "status": "completed"
    },
    "tags": []
   },
   "source": [
    "## F$_{\\nu}$\n",
    "\n",
    "The F$_{\\nu}$ shape of the photon model\n",
    "*if this is not a photon model, please ignore this auto-generated plot*"
   ]
  },
  {
   "cell_type": "code",
   "execution_count": 7,
   "id": "f4283e4b",
   "metadata": {
    "execution": {
     "iopub.execute_input": "2021-08-22T16:52:55.667030Z",
     "iopub.status.busy": "2021-08-22T16:52:55.656908Z",
     "iopub.status.idle": "2021-08-22T16:52:56.029852Z",
     "shell.execute_reply": "2021-08-22T16:52:56.030743Z"
    },
    "papermill": {
     "duration": 0.387287,
     "end_time": "2021-08-22T16:52:56.031023",
     "exception": false,
     "start_time": "2021-08-22T16:52:55.643736",
     "status": "completed"
    },
    "tags": []
   },
   "outputs": [
    {
     "data": {
      "image/png": "[encoded data removed]",
      "text/plain": [
       "<Figure size 432x288 with 1 Axes>"
      ]
     },
     "metadata": {
      "needs_background": "light"
     },
     "output_type": "display_data"
    }
   ],
   "source": [
    "fig, ax = plt.subplots()\n",
    "\n",
    "ax.plot(energy_grid, energy_grid * func(energy_grid), red)\n",
    "\n",
    "\n",
    "ax.set_xlabel(\"energy (keV)\")\n",
    "ax.set_ylabel(r\"energy flux (F$_{\\nu}$)\")\n",
    "ax.set_xscale(x_scale)\n",
    "ax.set_yscale(y_scale)\n",
    "\n"
   ]
  },
  {
   "cell_type": "markdown",
   "id": "75c99888",
   "metadata": {
    "papermill": {
     "duration": 0.011301,
     "end_time": "2021-08-22T16:52:56.053941",
     "exception": false,
     "start_time": "2021-08-22T16:52:56.042640",
     "status": "completed"
    },
    "tags": []
   },
   "source": [
    "## $\\nu$F$_{\\nu}$\n",
    "\n",
    "The $\\nu$F$_{\\nu}$ shape of the photon model\n",
    "*if this is not a photon model, please ignore this auto-generated plot*"
   ]
  },
  {
   "cell_type": "code",
   "execution_count": 8,
   "id": "6051d4c9",
   "metadata": {
    "execution": {
     "iopub.execute_input": "2021-08-22T16:52:56.085913Z",
     "iopub.status.busy": "2021-08-22T16:52:56.085025Z",
     "iopub.status.idle": "2021-08-22T16:52:56.230033Z",
     "shell.execute_reply": "2021-08-22T16:52:56.230917Z"
    },
    "papermill": {
     "duration": 0.166143,
     "end_time": "2021-08-22T16:52:56.231195",
     "exception": false,
     "start_time": "2021-08-22T16:52:56.065052",
     "status": "completed"
    },
    "tags": []
   },
   "outputs": [
    {
     "data": {
      "image/png": "[encoded data removed]",
      "text/plain": [
       "<Figure size 432x288 with 1 Axes>"
      ]
     },
     "metadata": {
      "needs_background": "light"
     },
     "output_type": "display_data"
    }
   ],
   "source": [
    "fig, ax = plt.subplots()\n",
    "\n",
    "ax.plot(energy_grid, energy_grid**2 * func(energy_grid), color=green)\n",
    "\n",
    "\n",
    "ax.set_xlabel(\"energy (keV)\")\n",
    "ax.set_ylabel(r\"$\\nu$F$_{\\nu}$\")\n",
    "ax.set_xscale(x_scale)\n",
    "ax.set_yscale(y_scale)\n"
   ]
  }
 ],
 "metadata": {
  "jupytext": {
   "formats": "ipynb,md"
  },
  "kernelspec": {
   "display_name": "Python 3",
   "language": "python",
   "name": "python3"
  },
  "language_info": {
   "codemirror_mode": {
    "name": "ipython",
    "version": 3
   },
   "file_extension": ".py",
   "mimetype": "text/x-python",
   "name": "python",
   "nbconvert_exporter": "python",
   "pygments_lexer": "ipython3",
   "version": "3.7.11"
  },
  "papermill": {
   "default_parameters": {},
   "duration": 5.010447,
   "end_time": "2021-08-22T16:52:56.707969",
   "environment_variables": {},
   "exception": null,
   "input_path": "Line.ipynb",
   "output_path": "../docs/notebooks/Line.ipynb",
   "parameters": {
    "func_name": "Line",
    "linear_range": true,
    "wide_energy_range": true,
    "x_scale": "linear",
    "y_scale": "linear"
   },
   "start_time": "2021-08-22T16:52:51.697522",
   "version": "2.3.3"
  }
 },
 "nbformat": 4,
 "nbformat_minor": 5
}
