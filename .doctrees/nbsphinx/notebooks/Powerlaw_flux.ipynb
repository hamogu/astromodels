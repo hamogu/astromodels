{
 "cells": [
  {
   "cell_type": "markdown",
   "id": "ddcc8b35",
   "metadata": {
    "papermill": {
     "duration": 0.012182,
     "end_time": "2021-08-22T17:51:03.152493",
     "exception": false,
     "start_time": "2021-08-22T17:51:03.140311",
     "status": "completed"
    },
    "tags": []
   },
   "source": [
    "# Powerlaw flux"
   ]
  },
  {
   "cell_type": "code",
   "execution_count": 1,
   "id": "8c337ad0",
   "metadata": {
    "execution": {
     "iopub.execute_input": "2021-08-22T17:51:03.179530Z",
     "iopub.status.busy": "2021-08-22T17:51:03.178630Z",
     "iopub.status.idle": "2021-08-22T17:51:05.714201Z",
     "shell.execute_reply": "2021-08-22T17:51:05.714849Z"
    },
    "nbsphinx": "hidden",
    "papermill": {
     "duration": 2.554218,
     "end_time": "2021-08-22T17:51:05.715224",
     "exception": false,
     "start_time": "2021-08-22T17:51:03.161006",
     "status": "completed"
    },
    "tags": []
   },
   "outputs": [],
   "source": [
    "%%capture\n",
    "\n",
    "import numpy as np\n",
    "\n",
    "import matplotlib.pyplot as plt\n",
    "\n",
    "import warnings\n",
    "warnings.simplefilter(\"ignore\")\n",
    "\n",
    "from astromodels.functions.function import _known_functions\n",
    "\n",
    "\n",
    "from jupyterthemes import jtplot\n",
    "jtplot.style(context=\"talk\", fscale=1, ticks=True, grid=False)\n",
    "%matplotlib inline"
   ]
  },
  {
   "cell_type": "code",
   "execution_count": 2,
   "id": "e82fcdea",
   "metadata": {
    "execution": {
     "iopub.execute_input": "2021-08-22T17:51:05.738977Z",
     "iopub.status.busy": "2021-08-22T17:51:05.738092Z",
     "iopub.status.idle": "2021-08-22T17:51:05.744651Z",
     "shell.execute_reply": "2021-08-22T17:51:05.745364Z"
    },
    "nbsphinx": "hidden",
    "papermill": {
     "duration": 0.020652,
     "end_time": "2021-08-22T17:51:05.745647",
     "exception": false,
     "start_time": "2021-08-22T17:51:05.724995",
     "status": "completed"
    },
    "tags": [
     "parameters"
    ]
   },
   "outputs": [],
   "source": [
    "func_name = \"TbAbs\"\n",
    "\n",
    "x_scale=\"log\"\n",
    "y_scale=\"log\"\n",
    "\n",
    "linear_range = False\n",
    "\n",
    "wide_energy_range = False"
   ]
  },
  {
   "cell_type": "code",
   "execution_count": 3,
   "id": "94680cf5",
   "metadata": {
    "execution": {
     "iopub.execute_input": "2021-08-22T17:51:05.769032Z",
     "iopub.status.busy": "2021-08-22T17:51:05.768132Z",
     "iopub.status.idle": "2021-08-22T17:51:05.774870Z",
     "shell.execute_reply": "2021-08-22T17:51:05.775580Z"
    },
    "papermill": {
     "duration": 0.021301,
     "end_time": "2021-08-22T17:51:05.775851",
     "exception": false,
     "start_time": "2021-08-22T17:51:05.754550",
     "status": "completed"
    },
    "tags": [
     "injected-parameters"
    ]
   },
   "outputs": [],
   "source": [
    "# Parameters\n",
    "func_name = \"Powerlaw_flux\"\n",
    "wide_energy_range = True\n",
    "x_scale = \"log\"\n",
    "y_scale = \"log\"\n",
    "linear_range = False\n"
   ]
  },
  {
   "cell_type": "code",
   "execution_count": 4,
   "id": "05837b66",
   "metadata": {
    "execution": {
     "iopub.execute_input": "2021-08-22T17:51:05.801256Z",
     "iopub.status.busy": "2021-08-22T17:51:05.800343Z",
     "iopub.status.idle": "2021-08-22T17:51:05.807553Z",
     "shell.execute_reply": "2021-08-22T17:51:05.808471Z"
    },
    "lines_to_next_cell": 0,
    "nbsphinx": "hidden",
    "papermill": {
     "duration": 0.024081,
     "end_time": "2021-08-22T17:51:05.808751",
     "exception": false,
     "start_time": "2021-08-22T17:51:05.784670",
     "status": "completed"
    },
    "tags": []
   },
   "outputs": [],
   "source": [
    "func = _known_functions[func_name]()\n",
    "\n",
    "if wide_energy_range:\n",
    "\n",
    "    energy_grid = np.geomspace(1e2,1e4,500)\n",
    "    \n",
    "else:\n",
    "    \n",
    "    energy_grid = np.geomspace(2e-1,1e1,1000)\n",
    "\n",
    "if linear_range:\n",
    "\n",
    "\tenergy_grid = np.linspace(-5,5,1000)\n",
    "\n",
    "    \n",
    "blue = \"#4152E3\"\n",
    "red = \"#E3414B\"\n",
    "green = \"#41E39E\""
   ]
  },
  {
   "cell_type": "markdown",
   "id": "2c5682e4",
   "metadata": {
    "lines_to_next_cell": 0,
    "papermill": {
     "duration": 0.008884,
     "end_time": "2021-08-22T17:51:05.826827",
     "exception": false,
     "start_time": "2021-08-22T17:51:05.817943",
     "status": "completed"
    },
    "tags": []
   },
   "source": [
    "## Description"
   ]
  },
  {
   "cell_type": "code",
   "execution_count": 5,
   "id": "07c7bb95",
   "metadata": {
    "execution": {
     "iopub.execute_input": "2021-08-22T17:51:05.861840Z",
     "iopub.status.busy": "2021-08-22T17:51:05.860576Z",
     "iopub.status.idle": "2021-08-22T17:51:05.865821Z",
     "shell.execute_reply": "2021-08-22T17:51:05.866887Z"
    },
    "papermill": {
     "duration": 0.030097,
     "end_time": "2021-08-22T17:51:05.867215",
     "exception": false,
     "start_time": "2021-08-22T17:51:05.837118",
     "status": "completed"
    },
    "tags": []
   },
   "outputs": [
    {
     "data": {
      "text/html": [
       "<ul>\n",
       "\n",
       "<li>description: A simple power-law with the photon flux in a band used as normalization. This will reduce the correlation between the index and the normalization.</li>\n",
       "\n",
       "<li>formula: $ \\frac{F(\\gamma+1)} {b^{\\gamma+1} - a^{\\gamma+1}} (x)^{\\gamma}$</li>\n",
       "\n",
       "<li>parameters: \n",
       "<ul>\n",
       "\n",
       "<li>F: \n",
       "<ul>\n",
       "\n",
       "<li>value: 1.0</li>\n",
       "\n",
       "<li>desc: Integral between a and b</li>\n",
       "\n",
       "<li>min_value: 1e-30</li>\n",
       "\n",
       "<li>max_value: 1000.0</li>\n",
       "\n",
       "<li>unit: </li>\n",
       "\n",
       "<li>is_normalization: True</li>\n",
       "\n",
       "<li>delta: 0.1</li>\n",
       "\n",
       "<li>free: True</li>\n",
       "\n",
       "</ul>\n",
       "\n",
       "</li>\n",
       "\n",
       "<li>index: \n",
       "<ul>\n",
       "\n",
       "<li>value: -2.0</li>\n",
       "\n",
       "<li>desc: Photon index</li>\n",
       "\n",
       "<li>min_value: -10.0</li>\n",
       "\n",
       "<li>max_value: 10.0</li>\n",
       "\n",
       "<li>unit: </li>\n",
       "\n",
       "<li>is_normalization: False</li>\n",
       "\n",
       "<li>delta: 0.2</li>\n",
       "\n",
       "<li>free: True</li>\n",
       "\n",
       "</ul>\n",
       "\n",
       "</li>\n",
       "\n",
       "<li>a: \n",
       "<ul>\n",
       "\n",
       "<li>value: 1.0</li>\n",
       "\n",
       "<li>desc: lower bound for the band in which computing the integral F</li>\n",
       "\n",
       "<li>min_value: None</li>\n",
       "\n",
       "<li>max_value: None</li>\n",
       "\n",
       "<li>unit: </li>\n",
       "\n",
       "<li>is_normalization: False</li>\n",
       "\n",
       "<li>delta: 0.1</li>\n",
       "\n",
       "<li>free: False</li>\n",
       "\n",
       "</ul>\n",
       "\n",
       "</li>\n",
       "\n",
       "<li>b: \n",
       "<ul>\n",
       "\n",
       "<li>value: 100.0</li>\n",
       "\n",
       "<li>desc: upper bound for the band in which computing the integral F</li>\n",
       "\n",
       "<li>min_value: None</li>\n",
       "\n",
       "<li>max_value: None</li>\n",
       "\n",
       "<li>unit: </li>\n",
       "\n",
       "<li>is_normalization: False</li>\n",
       "\n",
       "<li>delta: 10.0</li>\n",
       "\n",
       "<li>free: False</li>\n",
       "\n",
       "</ul>\n",
       "\n",
       "</li>\n",
       "\n",
       "</ul>\n",
       "\n",
       "</li>\n",
       "\n",
       "</ul>\n"
      ],
      "text/plain": [
       "  * description: A simple power-law with the photon flux in a band used as normalization.\n",
       "    * This will reduce the correlation between the index and the normalization.\n",
       "  * formula: $ \\frac{F(\\gamma+1)} {b^{\\gamma+1} - a^{\\gamma+1}} (x)^{\\gamma}$\n",
       "  * parameters:\n",
       "    * F:\n",
       "      * value: 1.0\n",
       "      * desc: Integral between a and b\n",
       "      * min_value: 1.0e-30\n",
       "      * max_value: 1000.0\n",
       "      * unit: ''\n",
       "      * is_normalization: true\n",
       "      * delta: 0.1\n",
       "      * free: true\n",
       "    * index:\n",
       "      * value: -2.0\n",
       "      * desc: Photon index\n",
       "      * min_value: -10.0\n",
       "      * max_value: 10.0\n",
       "      * unit: ''\n",
       "      * is_normalization: false\n",
       "      * delta: 0.2\n",
       "      * free: true\n",
       "    * a:\n",
       "      * value: 1.0\n",
       "      * desc: lower bound for the band in which computing the integral F\n",
       "      * min_value: null\n",
       "      * max_value: null\n",
       "      * unit: ''\n",
       "      * is_normalization: false\n",
       "      * delta: 0.1\n",
       "      * free: false\n",
       "    * b:\n",
       "      * value: 100.0\n",
       "      * desc: upper bound for the band in which computing the integral F\n",
       "      * min_value: null\n",
       "      * max_value: null\n",
       "      * unit: ''\n",
       "      * is_normalization: false\n",
       "      * delta: 10.0\n",
       "      * free: false"
      ]
     },
     "metadata": {},
     "output_type": "display_data"
    }
   ],
   "source": [
    "func.display()"
   ]
  },
  {
   "cell_type": "markdown",
   "id": "edd9b515",
   "metadata": {
    "papermill": {
     "duration": 0.009691,
     "end_time": "2021-08-22T17:51:05.886817",
     "exception": false,
     "start_time": "2021-08-22T17:51:05.877126",
     "status": "completed"
    },
    "tags": []
   },
   "source": [
    "## Shape \n",
    "\n",
    "The shape of the function. \n",
    "\n",
    "*If this is not a photon model but a prior or linear function then ignore the units as these docs are auto-generated*"
   ]
  },
  {
   "cell_type": "code",
   "execution_count": 6,
   "id": "e62aa5a2",
   "metadata": {
    "execution": {
     "iopub.execute_input": "2021-08-22T17:51:05.934607Z",
     "iopub.status.busy": "2021-08-22T17:51:05.933715Z",
     "iopub.status.idle": "2021-08-22T17:51:07.147623Z",
     "shell.execute_reply": "2021-08-22T17:51:07.148252Z"
    },
    "papermill": {
     "duration": 1.252081,
     "end_time": "2021-08-22T17:51:07.148555",
     "exception": false,
     "start_time": "2021-08-22T17:51:05.896474",
     "status": "completed"
    },
    "tags": [
     "nbsphinx-thumbnail"
    ]
   },
   "outputs": [
    {
     "data": {
      "image/png": "[encoded data removed]",
      "text/plain": [
       "<Figure size 432x288 with 1 Axes>"
      ]
     },
     "metadata": {
      "needs_background": "light"
     },
     "output_type": "display_data"
    }
   ],
   "source": [
    "fig, ax = plt.subplots()\n",
    "\n",
    "\n",
    "ax.plot(energy_grid, func(energy_grid), color=blue)\n",
    "\n",
    "ax.set_xlabel(\"energy (keV)\")\n",
    "ax.set_ylabel(\"photon flux\")\n",
    "ax.set_xscale(x_scale)\n",
    "ax.set_yscale(y_scale)\n"
   ]
  },
  {
   "cell_type": "markdown",
   "id": "11bfbcd5",
   "metadata": {
    "lines_to_next_cell": 0,
    "papermill": {
     "duration": 0.010451,
     "end_time": "2021-08-22T17:51:07.170117",
     "exception": false,
     "start_time": "2021-08-22T17:51:07.159666",
     "status": "completed"
    },
    "tags": []
   },
   "source": [
    "## F$_{\\nu}$\n",
    "\n",
    "The F$_{\\nu}$ shape of the photon model\n",
    "*if this is not a photon model, please ignore this auto-generated plot*"
   ]
  },
  {
   "cell_type": "code",
   "execution_count": 7,
   "id": "2e1a0e8d",
   "metadata": {
    "execution": {
     "iopub.execute_input": "2021-08-22T17:51:07.240520Z",
     "iopub.status.busy": "2021-08-22T17:51:07.230933Z",
     "iopub.status.idle": "2021-08-22T17:51:07.883571Z",
     "shell.execute_reply": "2021-08-22T17:51:07.884454Z"
    },
    "papermill": {
     "duration": 0.704114,
     "end_time": "2021-08-22T17:51:07.884775",
     "exception": false,
     "start_time": "2021-08-22T17:51:07.180661",
     "status": "completed"
    },
    "tags": []
   },
   "outputs": [
    {
     "data": {
      "image/png": "[encoded data removed]",
      "text/plain": [
       "<Figure size 432x288 with 1 Axes>"
      ]
     },
     "metadata": {
      "needs_background": "light"
     },
     "output_type": "display_data"
    }
   ],
   "source": [
    "fig, ax = plt.subplots()\n",
    "\n",
    "ax.plot(energy_grid, energy_grid * func(energy_grid), red)\n",
    "\n",
    "\n",
    "ax.set_xlabel(\"energy (keV)\")\n",
    "ax.set_ylabel(r\"energy flux (F$_{\\nu}$)\")\n",
    "ax.set_xscale(x_scale)\n",
    "ax.set_yscale(y_scale)\n",
    "\n"
   ]
  },
  {
   "cell_type": "markdown",
   "id": "8bd18d79",
   "metadata": {
    "papermill": {
     "duration": 0.01108,
     "end_time": "2021-08-22T17:51:07.907680",
     "exception": false,
     "start_time": "2021-08-22T17:51:07.896600",
     "status": "completed"
    },
    "tags": []
   },
   "source": [
    "## $\\nu$F$_{\\nu}$\n",
    "\n",
    "The $\\nu$F$_{\\nu}$ shape of the photon model\n",
    "*if this is not a photon model, please ignore this auto-generated plot*"
   ]
  },
  {
   "cell_type": "code",
   "execution_count": 8,
   "id": "b4c34eac",
   "metadata": {
    "execution": {
     "iopub.execute_input": "2021-08-22T17:51:08.030163Z",
     "iopub.status.busy": "2021-08-22T17:51:07.940061Z",
     "iopub.status.idle": "2021-08-22T17:51:08.379410Z",
     "shell.execute_reply": "2021-08-22T17:51:08.380407Z"
    },
    "papermill": {
     "duration": 0.461913,
     "end_time": "2021-08-22T17:51:08.380704",
     "exception": false,
     "start_time": "2021-08-22T17:51:07.918791",
     "status": "completed"
    },
    "tags": []
   },
   "outputs": [
    {
     "data": {
      "image/png": "[encoded data removed]",
      "text/plain": [
       "<Figure size 432x288 with 1 Axes>"
      ]
     },
     "metadata": {
      "needs_background": "light"
     },
     "output_type": "display_data"
    }
   ],
   "source": [
    "fig, ax = plt.subplots()\n",
    "\n",
    "ax.plot(energy_grid, energy_grid**2 * func(energy_grid), color=green)\n",
    "\n",
    "\n",
    "ax.set_xlabel(\"energy (keV)\")\n",
    "ax.set_ylabel(r\"$\\nu$F$_{\\nu}$\")\n",
    "ax.set_xscale(x_scale)\n",
    "ax.set_yscale(y_scale)\n"
   ]
  }
 ],
 "metadata": {
  "jupytext": {
   "formats": "ipynb,md"
  },
  "kernelspec": {
   "display_name": "Python 3",
   "language": "python",
   "name": "python3"
  },
  "language_info": {
   "codemirror_mode": {
    "name": "ipython",
    "version": 3
   },
   "file_extension": ".py",
   "mimetype": "text/x-python",
   "name": "python",
   "nbconvert_exporter": "python",
   "pygments_lexer": "ipython3",
   "version": "3.7.11"
  },
  "papermill": {
   "default_parameters": {},
   "duration": 6.967386,
   "end_time": "2021-08-22T17:51:08.894351",
   "environment_variables": {},
   "exception": null,
   "input_path": "Powerlaw_flux.ipynb",
   "output_path": "../docs/notebooks/Powerlaw_flux.ipynb",
   "parameters": {
    "func_name": "Powerlaw_flux",
    "linear_range": false,
    "wide_energy_range": true,
    "x_scale": "log",
    "y_scale": "log"
   },
   "start_time": "2021-08-22T17:51:01.926965",
   "version": "2.3.3"
  }
 },
 "nbformat": 4,
 "nbformat_minor": 5
}
