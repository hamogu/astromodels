{
 "cells": [
  {
   "cell_type": "markdown",
   "id": "5264d2e1",
   "metadata": {
    "papermill": {
     "duration": 0.009413,
     "end_time": "2021-08-23T07:39:59.089557",
     "exception": false,
     "start_time": "2021-08-23T07:39:59.080144",
     "status": "completed"
    },
    "tags": []
   },
   "source": [
    "# WAbs"
   ]
  },
  {
   "cell_type": "code",
   "execution_count": 1,
   "id": "a8e38ed1",
   "metadata": {
    "execution": {
     "iopub.execute_input": "2021-08-23T07:39:59.116243Z",
     "iopub.status.busy": "2021-08-23T07:39:59.115342Z",
     "iopub.status.idle": "2021-08-23T07:40:01.616220Z",
     "shell.execute_reply": "2021-08-23T07:40:01.616886Z"
    },
    "nbsphinx": "hidden",
    "papermill": {
     "duration": 2.51915,
     "end_time": "2021-08-23T07:40:01.617245",
     "exception": false,
     "start_time": "2021-08-23T07:39:59.098095",
     "status": "completed"
    },
    "tags": []
   },
   "outputs": [],
   "source": [
    "%%capture\n",
    "\n",
    "import numpy as np\n",
    "\n",
    "import matplotlib.pyplot as plt\n",
    "\n",
    "import warnings\n",
    "warnings.simplefilter(\"ignore\")\n",
    "\n",
    "from astromodels.functions.function import _known_functions\n",
    "\n",
    "\n",
    "from jupyterthemes import jtplot\n",
    "jtplot.style(context=\"talk\", fscale=1, ticks=True, grid=False)\n",
    "%matplotlib inline"
   ]
  },
  {
   "cell_type": "code",
   "execution_count": 2,
   "id": "25847c25",
   "metadata": {
    "execution": {
     "iopub.execute_input": "2021-08-23T07:40:01.641014Z",
     "iopub.status.busy": "2021-08-23T07:40:01.640122Z",
     "iopub.status.idle": "2021-08-23T07:40:01.643763Z",
     "shell.execute_reply": "2021-08-23T07:40:01.644310Z"
    },
    "nbsphinx": "hidden",
    "papermill": {
     "duration": 0.018644,
     "end_time": "2021-08-23T07:40:01.644580",
     "exception": false,
     "start_time": "2021-08-23T07:40:01.625936",
     "status": "completed"
    },
    "tags": [
     "parameters"
    ]
   },
   "outputs": [],
   "source": [
    "func_name = \"TbAbs\"\n",
    "\n",
    "x_scale=\"log\"\n",
    "y_scale=\"log\"\n",
    "\n",
    "linear_range = False\n",
    "\n",
    "wide_energy_range = False"
   ]
  },
  {
   "cell_type": "code",
   "execution_count": 3,
   "id": "20bf9de0",
   "metadata": {
    "execution": {
     "iopub.execute_input": "2021-08-23T07:40:01.666545Z",
     "iopub.status.busy": "2021-08-23T07:40:01.665685Z",
     "iopub.status.idle": "2021-08-23T07:40:01.672209Z",
     "shell.execute_reply": "2021-08-23T07:40:01.672779Z"
    },
    "papermill": {
     "duration": 0.019842,
     "end_time": "2021-08-23T07:40:01.673048",
     "exception": false,
     "start_time": "2021-08-23T07:40:01.653206",
     "status": "completed"
    },
    "tags": [
     "injected-parameters"
    ]
   },
   "outputs": [],
   "source": [
    "# Parameters\n",
    "func_name = \"WAbs\"\n",
    "wide_energy_range = False\n",
    "x_scale = \"log\"\n",
    "y_scale = \"log\"\n",
    "linear_range = False\n"
   ]
  },
  {
   "cell_type": "code",
   "execution_count": 4,
   "id": "06762543",
   "metadata": {
    "execution": {
     "iopub.execute_input": "2021-08-23T07:40:01.697182Z",
     "iopub.status.busy": "2021-08-23T07:40:01.696278Z",
     "iopub.status.idle": "2021-08-23T07:40:01.715215Z",
     "shell.execute_reply": "2021-08-23T07:40:01.715783Z"
    },
    "lines_to_next_cell": 0,
    "nbsphinx": "hidden",
    "papermill": {
     "duration": 0.034658,
     "end_time": "2021-08-23T07:40:01.716054",
     "exception": false,
     "start_time": "2021-08-23T07:40:01.681396",
     "status": "completed"
    },
    "tags": []
   },
   "outputs": [],
   "source": [
    "func = _known_functions[func_name]()\n",
    "\n",
    "if wide_energy_range:\n",
    "\n",
    "    energy_grid = np.geomspace(1e2,1e4,500)\n",
    "    \n",
    "else:\n",
    "    \n",
    "    energy_grid = np.geomspace(2e-1,1e1,1000)\n",
    "\n",
    "if linear_range:\n",
    "\n",
    "\tenergy_grid = np.linspace(-5,5,1000)\n",
    "\n",
    "    \n",
    "blue = \"#4152E3\"\n",
    "red = \"#E3414B\"\n",
    "green = \"#41E39E\""
   ]
  },
  {
   "cell_type": "markdown",
   "id": "f545fe91",
   "metadata": {
    "lines_to_next_cell": 0,
    "papermill": {
     "duration": 0.008589,
     "end_time": "2021-08-23T07:40:01.734758",
     "exception": false,
     "start_time": "2021-08-23T07:40:01.726169",
     "status": "completed"
    },
    "tags": []
   },
   "source": [
    "## Description"
   ]
  },
  {
   "cell_type": "code",
   "execution_count": 5,
   "id": "74115e92",
   "metadata": {
    "execution": {
     "iopub.execute_input": "2021-08-23T07:40:01.762225Z",
     "iopub.status.busy": "2021-08-23T07:40:01.761291Z",
     "iopub.status.idle": "2021-08-23T07:40:01.768875Z",
     "shell.execute_reply": "2021-08-23T07:40:01.769458Z"
    },
    "papermill": {
     "duration": 0.026202,
     "end_time": "2021-08-23T07:40:01.769715",
     "exception": false,
     "start_time": "2021-08-23T07:40:01.743513",
     "status": "completed"
    },
    "tags": []
   },
   "outputs": [
    {
     "data": {
      "text/html": [
       "<ul>\n",
       "\n",
       "<li>description: Photometric absorption (Wabs implementation), f(E) = exp(- NH * sigma(E)) contributed by Dominique Eckert</li>\n",
       "\n",
       "<li>formula: $n.a.$</li>\n",
       "\n",
       "<li>parameters: \n",
       "<ul>\n",
       "\n",
       "<li>NH: \n",
       "<ul>\n",
       "\n",
       "<li>value: 1.0</li>\n",
       "\n",
       "<li>desc: absorbing column density in units of 1e22 particles per cm^2</li>\n",
       "\n",
       "<li>min_value: 0.0001</li>\n",
       "\n",
       "<li>max_value: 10000.0</li>\n",
       "\n",
       "<li>unit: </li>\n",
       "\n",
       "<li>is_normalization: True</li>\n",
       "\n",
       "<li>delta: 0.1</li>\n",
       "\n",
       "<li>free: True</li>\n",
       "\n",
       "</ul>\n",
       "\n",
       "</li>\n",
       "\n",
       "<li>redshift: \n",
       "<ul>\n",
       "\n",
       "<li>value: 0.0</li>\n",
       "\n",
       "<li>desc: the redshift of the source</li>\n",
       "\n",
       "<li>min_value: 0.0</li>\n",
       "\n",
       "<li>max_value: 15.0</li>\n",
       "\n",
       "<li>unit: </li>\n",
       "\n",
       "<li>is_normalization: False</li>\n",
       "\n",
       "<li>delta: 0.1</li>\n",
       "\n",
       "<li>free: False</li>\n",
       "\n",
       "</ul>\n",
       "\n",
       "</li>\n",
       "\n",
       "</ul>\n",
       "\n",
       "</li>\n",
       "\n",
       "</ul>\n"
      ],
      "text/plain": [
       "  * description: Photometric absorption (Wabs implementation), f(E) = exp(- NH * sigma(E))\n",
       "    * contributed by Dominique Eckert\n",
       "  * formula: $n.a.$\n",
       "  * parameters:\n",
       "    * NH:\n",
       "      * value: 1.0\n",
       "      * desc: absorbing column density in units of 1e22 particles per cm^2\n",
       "      * min_value: 0.0001\n",
       "      * max_value: 10000.0\n",
       "      * unit: ''\n",
       "      * is_normalization: true\n",
       "      * delta: 0.1\n",
       "      * free: true\n",
       "    * redshift:\n",
       "      * value: 0.0\n",
       "      * desc: the redshift of the source\n",
       "      * min_value: 0.0\n",
       "      * max_value: 15.0\n",
       "      * unit: ''\n",
       "      * is_normalization: false\n",
       "      * delta: 0.1\n",
       "      * free: false"
      ]
     },
     "metadata": {},
     "output_type": "display_data"
    }
   ],
   "source": [
    "func.display()"
   ]
  },
  {
   "cell_type": "markdown",
   "id": "23492881",
   "metadata": {
    "papermill": {
     "duration": 0.009202,
     "end_time": "2021-08-23T07:40:01.788228",
     "exception": false,
     "start_time": "2021-08-23T07:40:01.779026",
     "status": "completed"
    },
    "tags": []
   },
   "source": [
    "## Shape \n",
    "\n",
    "The shape of the function. \n",
    "\n",
    "*If this is not a photon model but a prior or linear function then ignore the units as these docs are auto-generated*"
   ]
  },
  {
   "cell_type": "code",
   "execution_count": 6,
   "id": "de1b6bdf",
   "metadata": {
    "execution": {
     "iopub.execute_input": "2021-08-23T07:40:01.835385Z",
     "iopub.status.busy": "2021-08-23T07:40:01.811365Z",
     "iopub.status.idle": "2021-08-23T07:40:04.053547Z",
     "shell.execute_reply": "2021-08-23T07:40:04.054146Z"
    },
    "papermill": {
     "duration": 2.256891,
     "end_time": "2021-08-23T07:40:04.054430",
     "exception": false,
     "start_time": "2021-08-23T07:40:01.797539",
     "status": "completed"
    },
    "tags": [
     "nbsphinx-thumbnail"
    ]
   },
   "outputs": [
    {
     "data": {
      "image/png": "[encoded data removed]",
      "text/plain": [
       "<Figure size 432x288 with 1 Axes>"
      ]
     },
     "metadata": {
      "needs_background": "light"
     },
     "output_type": "display_data"
    }
   ],
   "source": [
    "fig, ax = plt.subplots()\n",
    "\n",
    "\n",
    "ax.plot(energy_grid, func(energy_grid), color=blue)\n",
    "\n",
    "ax.set_xlabel(\"energy (keV)\")\n",
    "ax.set_ylabel(\"photon flux\")\n",
    "ax.set_xscale(x_scale)\n",
    "ax.set_yscale(y_scale)\n"
   ]
  },
  {
   "cell_type": "markdown",
   "id": "c4553a71",
   "metadata": {
    "lines_to_next_cell": 0,
    "papermill": {
     "duration": 0.010384,
     "end_time": "2021-08-23T07:40:04.075838",
     "exception": false,
     "start_time": "2021-08-23T07:40:04.065454",
     "status": "completed"
    },
    "tags": []
   },
   "source": [
    "## F$_{\\nu}$\n",
    "\n",
    "The F$_{\\nu}$ shape of the photon model\n",
    "*if this is not a photon model, please ignore this auto-generated plot*"
   ]
  },
  {
   "cell_type": "code",
   "execution_count": 7,
   "id": "372b7513",
   "metadata": {
    "execution": {
     "iopub.execute_input": "2021-08-23T07:40:04.227396Z",
     "iopub.status.busy": "2021-08-23T07:40:04.147164Z",
     "iopub.status.idle": "2021-08-23T07:40:04.608627Z",
     "shell.execute_reply": "2021-08-23T07:40:04.609249Z"
    },
    "papermill": {
     "duration": 0.523558,
     "end_time": "2021-08-23T07:40:04.609533",
     "exception": false,
     "start_time": "2021-08-23T07:40:04.085975",
     "status": "completed"
    },
    "tags": []
   },
   "outputs": [
    {
     "data": {
      "image/png": "[encoded data removed]",
      "text/plain": [
       "<Figure size 432x288 with 1 Axes>"
      ]
     },
     "metadata": {
      "needs_background": "light"
     },
     "output_type": "display_data"
    }
   ],
   "source": [
    "fig, ax = plt.subplots()\n",
    "\n",
    "ax.plot(energy_grid, energy_grid * func(energy_grid), red)\n",
    "\n",
    "\n",
    "ax.set_xlabel(\"energy (keV)\")\n",
    "ax.set_ylabel(r\"energy flux (F$_{\\nu}$)\")\n",
    "ax.set_xscale(x_scale)\n",
    "ax.set_yscale(y_scale)\n",
    "\n"
   ]
  },
  {
   "cell_type": "markdown",
   "id": "2b05ca23",
   "metadata": {
    "papermill": {
     "duration": 0.011078,
     "end_time": "2021-08-23T07:40:04.632529",
     "exception": false,
     "start_time": "2021-08-23T07:40:04.621451",
     "status": "completed"
    },
    "tags": []
   },
   "source": [
    "## $\\nu$F$_{\\nu}$\n",
    "\n",
    "The $\\nu$F$_{\\nu}$ shape of the photon model\n",
    "*if this is not a photon model, please ignore this auto-generated plot*"
   ]
  },
  {
   "cell_type": "code",
   "execution_count": 8,
   "id": "a56b8f2a",
   "metadata": {
    "execution": {
     "iopub.execute_input": "2021-08-23T07:40:04.681037Z",
     "iopub.status.busy": "2021-08-23T07:40:04.680024Z",
     "iopub.status.idle": "2021-08-23T07:40:05.219146Z",
     "shell.execute_reply": "2021-08-23T07:40:05.219739Z"
    },
    "papermill": {
     "duration": 0.576357,
     "end_time": "2021-08-23T07:40:05.220017",
     "exception": false,
     "start_time": "2021-08-23T07:40:04.643660",
     "status": "completed"
    },
    "tags": []
   },
   "outputs": [
    {
     "data": {
      "image/png": "[encoded data removed]",
      "text/plain": [
       "<Figure size 432x288 with 1 Axes>"
      ]
     },
     "metadata": {
      "needs_background": "light"
     },
     "output_type": "display_data"
    }
   ],
   "source": [
    "fig, ax = plt.subplots()\n",
    "\n",
    "ax.plot(energy_grid, energy_grid**2 * func(energy_grid), color=green)\n",
    "\n",
    "\n",
    "ax.set_xlabel(\"energy (keV)\")\n",
    "ax.set_ylabel(r\"$\\nu$F$_{\\nu}$\")\n",
    "ax.set_xscale(x_scale)\n",
    "ax.set_yscale(y_scale)\n"
   ]
  }
 ],
 "metadata": {
  "jupytext": {
   "formats": "ipynb,md"
  },
  "kernelspec": {
   "display_name": "Python 3",
   "language": "python",
   "name": "python3"
  },
  "language_info": {
   "codemirror_mode": {
    "name": "ipython",
    "version": 3
   },
   "file_extension": ".py",
   "mimetype": "text/x-python",
   "name": "python",
   "nbconvert_exporter": "python",
   "pygments_lexer": "ipython3",
   "version": "3.7.11"
  },
  "papermill": {
   "default_parameters": {},
   "duration": 7.523452,
   "end_time": "2021-08-23T07:40:05.695632",
   "environment_variables": {},
   "exception": null,
   "input_path": "WAbs.ipynb",
   "output_path": "../docs/notebooks/WAbs.ipynb",
   "parameters": {
    "func_name": "WAbs",
    "linear_range": false,
    "wide_energy_range": false,
    "x_scale": "log",
    "y_scale": "log"
   },
   "start_time": "2021-08-23T07:39:58.172180",
   "version": "2.3.3"
  }
 },
 "nbformat": 4,
 "nbformat_minor": 5
}
