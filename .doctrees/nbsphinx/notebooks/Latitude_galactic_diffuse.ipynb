{
 "cells": [
  {
   "cell_type": "markdown",
   "id": "4cefaf91",
   "metadata": {
    "papermill": {
     "duration": 0.007236,
     "end_time": "2021-08-23T04:55:24.161883",
     "exception": false,
     "start_time": "2021-08-23T04:55:24.154647",
     "status": "completed"
    },
    "tags": []
   },
   "source": [
    "# Latitude galactic diffuse"
   ]
  },
  {
   "cell_type": "code",
   "execution_count": 1,
   "id": "4ba69f84",
   "metadata": {
    "execution": {
     "iopub.execute_input": "2021-08-23T04:55:24.184490Z",
     "iopub.status.busy": "2021-08-23T04:55:24.183596Z",
     "iopub.status.idle": "2021-08-23T04:55:28.110496Z",
     "shell.execute_reply": "2021-08-23T04:55:28.111207Z"
    },
    "nbsphinx": "hidden",
    "papermill": {
     "duration": 3.943404,
     "end_time": "2021-08-23T04:55:28.111672",
     "exception": false,
     "start_time": "2021-08-23T04:55:24.168268",
     "status": "completed"
    },
    "tags": []
   },
   "outputs": [],
   "source": [
    "%%capture\n",
    "\n",
    "import numpy as np\n",
    "\n",
    "import matplotlib.pyplot as plt\n",
    "\n",
    "import warnings\n",
    "warnings.simplefilter(\"ignore\")\n",
    "\n",
    "from astromodels.functions.function import _known_functions\n",
    "\n",
    "import healpy as hp\n",
    "\n",
    "\n",
    "from astropy.coordinates import ICRS, Galactic\n",
    "\n",
    "\n",
    "from jupyterthemes import jtplot\n",
    "jtplot.style(context=\"talk\", fscale=1, ticks=False, grid=False)\n",
    "%matplotlib inline\n",
    "\n",
    "\n",
    "\n"
   ]
  },
  {
   "cell_type": "code",
   "execution_count": 2,
   "id": "f48d01a8",
   "metadata": {
    "execution": {
     "iopub.execute_input": "2021-08-23T04:55:28.130138Z",
     "iopub.status.busy": "2021-08-23T04:55:28.129087Z",
     "iopub.status.idle": "2021-08-23T04:55:28.131770Z",
     "shell.execute_reply": "2021-08-23T04:55:28.132373Z"
    },
    "nbsphinx": "hidden",
    "papermill": {
     "duration": 0.014165,
     "end_time": "2021-08-23T04:55:28.132668",
     "exception": false,
     "start_time": "2021-08-23T04:55:28.118503",
     "status": "completed"
    },
    "tags": [
     "parameters"
    ]
   },
   "outputs": [],
   "source": [
    "func_name = \"Latitude_galactic_diffuse\"\n"
   ]
  },
  {
   "cell_type": "code",
   "execution_count": 3,
   "id": "f438231b",
   "metadata": {
    "execution": {
     "iopub.execute_input": "2021-08-23T04:55:28.151094Z",
     "iopub.status.busy": "2021-08-23T04:55:28.150138Z",
     "iopub.status.idle": "2021-08-23T04:55:28.156624Z",
     "shell.execute_reply": "2021-08-23T04:55:28.157266Z"
    },
    "papermill": {
     "duration": 0.018304,
     "end_time": "2021-08-23T04:55:28.157559",
     "exception": false,
     "start_time": "2021-08-23T04:55:28.139255",
     "status": "completed"
    },
    "tags": [
     "injected-parameters"
    ]
   },
   "outputs": [],
   "source": [
    "# Parameters\n",
    "func_name = \"Latitude_galactic_diffuse\"\n"
   ]
  },
  {
   "cell_type": "code",
   "execution_count": 4,
   "id": "e879493a",
   "metadata": {
    "execution": {
     "iopub.execute_input": "2021-08-23T04:55:28.178032Z",
     "iopub.status.busy": "2021-08-23T04:55:28.177134Z",
     "iopub.status.idle": "2021-08-23T04:55:28.193312Z",
     "shell.execute_reply": "2021-08-23T04:55:28.194243Z"
    },
    "lines_to_next_cell": 0,
    "nbsphinx": "hidden",
    "papermill": {
     "duration": 0.030136,
     "end_time": "2021-08-23T04:55:28.194533",
     "exception": false,
     "start_time": "2021-08-23T04:55:28.164397",
     "status": "completed"
    },
    "tags": []
   },
   "outputs": [],
   "source": [
    "func = _known_functions[func_name]()\n",
    "\n",
    "NSIDE = 2**7\n",
    "NPIX = hp.nside2npix(NSIDE)\n",
    "\n",
    "ra, dec  = hp.pix2ang(nside=NSIDE, ipix=np.arange(NPIX), lonlat=True)\n"
   ]
  },
  {
   "cell_type": "markdown",
   "id": "70bb1096",
   "metadata": {
    "lines_to_next_cell": 0,
    "papermill": {
     "duration": 0.006461,
     "end_time": "2021-08-23T04:55:28.207848",
     "exception": false,
     "start_time": "2021-08-23T04:55:28.201387",
     "status": "completed"
    },
    "tags": []
   },
   "source": [
    "## Description"
   ]
  },
  {
   "cell_type": "code",
   "execution_count": 5,
   "id": "0ad7f6d1",
   "metadata": {
    "execution": {
     "iopub.execute_input": "2021-08-23T04:55:28.232391Z",
     "iopub.status.busy": "2021-08-23T04:55:28.231435Z",
     "iopub.status.idle": "2021-08-23T04:55:28.239250Z",
     "shell.execute_reply": "2021-08-23T04:55:28.239843Z"
    },
    "papermill": {
     "duration": 0.02566,
     "end_time": "2021-08-23T04:55:28.240115",
     "exception": false,
     "start_time": "2021-08-23T04:55:28.214455",
     "status": "completed"
    },
    "tags": []
   },
   "outputs": [
    {
     "data": {
      "text/html": [
       "<ul>\n",
       "\n",
       "<li>description: A Gaussian distribution in Galactic latitude around the Galactic plane</li>\n",
       "\n",
       "<li>formula: $ K \\exp{\\left( \\frac{-b^2}{2 \\sigma_b^2} \\right)} $</li>\n",
       "\n",
       "<li>parameters: \n",
       "<ul>\n",
       "\n",
       "<li>K: \n",
       "<ul>\n",
       "\n",
       "<li>value: 1.0</li>\n",
       "\n",
       "<li>desc: normalization</li>\n",
       "\n",
       "<li>min_value: None</li>\n",
       "\n",
       "<li>max_value: None</li>\n",
       "\n",
       "<li>unit: </li>\n",
       "\n",
       "<li>is_normalization: False</li>\n",
       "\n",
       "<li>delta: 0.1</li>\n",
       "\n",
       "<li>free: True</li>\n",
       "\n",
       "</ul>\n",
       "\n",
       "</li>\n",
       "\n",
       "<li>sigma_b: \n",
       "<ul>\n",
       "\n",
       "<li>value: 1.0</li>\n",
       "\n",
       "<li>desc: Sigma for</li>\n",
       "\n",
       "<li>min_value: None</li>\n",
       "\n",
       "<li>max_value: None</li>\n",
       "\n",
       "<li>unit: </li>\n",
       "\n",
       "<li>is_normalization: False</li>\n",
       "\n",
       "<li>delta: 0.1</li>\n",
       "\n",
       "<li>free: True</li>\n",
       "\n",
       "</ul>\n",
       "\n",
       "</li>\n",
       "\n",
       "<li>l_min: \n",
       "<ul>\n",
       "\n",
       "<li>value: 10.0</li>\n",
       "\n",
       "<li>desc: min Longtitude</li>\n",
       "\n",
       "<li>min_value: None</li>\n",
       "\n",
       "<li>max_value: None</li>\n",
       "\n",
       "<li>unit: </li>\n",
       "\n",
       "<li>is_normalization: False</li>\n",
       "\n",
       "<li>delta: 1.0</li>\n",
       "\n",
       "<li>free: True</li>\n",
       "\n",
       "</ul>\n",
       "\n",
       "</li>\n",
       "\n",
       "<li>l_max: \n",
       "<ul>\n",
       "\n",
       "<li>value: 30.0</li>\n",
       "\n",
       "<li>desc: max Longtitude</li>\n",
       "\n",
       "<li>min_value: None</li>\n",
       "\n",
       "<li>max_value: None</li>\n",
       "\n",
       "<li>unit: </li>\n",
       "\n",
       "<li>is_normalization: False</li>\n",
       "\n",
       "<li>delta: 3.0</li>\n",
       "\n",
       "<li>free: True</li>\n",
       "\n",
       "</ul>\n",
       "\n",
       "</li>\n",
       "\n",
       "</ul>\n",
       "\n",
       "</li>\n",
       "\n",
       "</ul>\n"
      ],
      "text/plain": [
       "  * description: A Gaussian distribution in Galactic latitude around the Galactic plane\n",
       "  * formula: $ K \\exp{\\left( \\frac{-b^2}{2 \\sigma_b^2} \\right)} $\n",
       "  * parameters:\n",
       "    * K:\n",
       "      * value: 1.0\n",
       "      * desc: normalization\n",
       "      * min_value: null\n",
       "      * max_value: null\n",
       "      * unit: ''\n",
       "      * is_normalization: false\n",
       "      * delta: 0.1\n",
       "      * free: true\n",
       "    * sigma_b:\n",
       "      * value: 1.0\n",
       "      * desc: Sigma for\n",
       "      * min_value: null\n",
       "      * max_value: null\n",
       "      * unit: ''\n",
       "      * is_normalization: false\n",
       "      * delta: 0.1\n",
       "      * free: true\n",
       "    * l_min:\n",
       "      * value: 10.0\n",
       "      * desc: min Longtitude\n",
       "      * min_value: null\n",
       "      * max_value: null\n",
       "      * unit: ''\n",
       "      * is_normalization: false\n",
       "      * delta: 1.0\n",
       "      * free: true\n",
       "    * l_max:\n",
       "      * value: 30.0\n",
       "      * desc: max Longtitude\n",
       "      * min_value: null\n",
       "      * max_value: null\n",
       "      * unit: ''\n",
       "      * is_normalization: false\n",
       "      * delta: 3.0\n",
       "      * free: true"
      ]
     },
     "metadata": {},
     "output_type": "display_data"
    }
   ],
   "source": [
    "func.display()"
   ]
  },
  {
   "cell_type": "markdown",
   "id": "71a976a7",
   "metadata": {
    "lines_to_next_cell": 0,
    "papermill": {
     "duration": 0.007339,
     "end_time": "2021-08-23T04:55:28.255067",
     "exception": false,
     "start_time": "2021-08-23T04:55:28.247728",
     "status": "completed"
    },
    "tags": []
   },
   "source": [
    "## Shape\n",
    "\n",
    "The shape of the function on the sky."
   ]
  },
  {
   "cell_type": "code",
   "execution_count": 6,
   "id": "f0aac59f",
   "metadata": {
    "execution": {
     "iopub.execute_input": "2021-08-23T04:55:28.275679Z",
     "iopub.status.busy": "2021-08-23T04:55:28.274781Z",
     "iopub.status.idle": "2021-08-23T04:55:28.796414Z",
     "shell.execute_reply": "2021-08-23T04:55:28.795691Z"
    },
    "papermill": {
     "duration": 0.534255,
     "end_time": "2021-08-23T04:55:28.796842",
     "exception": false,
     "start_time": "2021-08-23T04:55:28.262587",
     "status": "completed"
    },
    "tags": [
     "nbsphinx-thumbnail"
    ]
   },
   "outputs": [
    {
     "name": "stderr",
     "output_type": "stream",
     "text": [
      "0.0 180.0 -180.0 180.0\n"
     ]
    },
    {
     "data": {
      "image/png": "[encoded data removed]",
      "text/plain": [
       "<Figure size 612x388.8 with 2 Axes>"
      ]
     },
     "metadata": {
      "needs_background": "light"
     },
     "output_type": "display_data"
    }
   ],
   "source": [
    "\n",
    "\n",
    "m=func(ra, dec)\n",
    "hp.mollview(m, title=func_name, cmap=\"magma\")\n",
    "hp.graticule(color=\"grey\", lw=2)\n",
    "\n",
    "\n"
   ]
  }
 ],
 "metadata": {
  "jupytext": {
   "formats": "ipynb,md"
  },
  "kernelspec": {
   "display_name": "Python 3",
   "language": "python",
   "name": "python3"
  },
  "language_info": {
   "codemirror_mode": {
    "name": "ipython",
    "version": 3
   },
   "file_extension": ".py",
   "mimetype": "text/x-python",
   "name": "python",
   "nbconvert_exporter": "python",
   "pygments_lexer": "ipython3",
   "version": "3.7.11"
  },
  "papermill": {
   "default_parameters": {},
   "duration": 6.047065,
   "end_time": "2021-08-23T04:55:29.214384",
   "environment_variables": {},
   "exception": null,
   "input_path": "Latitude_galactic_diffuse.ipynb",
   "output_path": "../docs/notebooks/Latitude_galactic_diffuse.ipynb",
   "parameters": {
    "func_name": "Latitude_galactic_diffuse"
   },
   "start_time": "2021-08-23T04:55:23.167319",
   "version": "2.3.3"
  }
 },
 "nbformat": 4,
 "nbformat_minor": 5
}
