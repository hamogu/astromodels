{
 "cells": [
  {
   "cell_type": "markdown",
   "id": "f99c078b",
   "metadata": {
    "papermill": {
     "duration": 0.009204,
     "end_time": "2021-08-23T07:43:13.507822",
     "exception": false,
     "start_time": "2021-08-23T07:43:13.498618",
     "status": "completed"
    },
    "tags": []
   },
   "source": [
    "# Log uniform prior"
   ]
  },
  {
   "cell_type": "code",
   "execution_count": 1,
   "id": "813d6308",
   "metadata": {
    "execution": {
     "iopub.execute_input": "2021-08-23T07:43:13.535019Z",
     "iopub.status.busy": "2021-08-23T07:43:13.534125Z",
     "iopub.status.idle": "2021-08-23T07:43:15.961714Z",
     "shell.execute_reply": "2021-08-23T07:43:15.962297Z"
    },
    "nbsphinx": "hidden",
    "papermill": {
     "duration": 2.446389,
     "end_time": "2021-08-23T07:43:15.962645",
     "exception": false,
     "start_time": "2021-08-23T07:43:13.516256",
     "status": "completed"
    },
    "tags": []
   },
   "outputs": [],
   "source": [
    "%%capture\n",
    "\n",
    "import numpy as np\n",
    "\n",
    "import matplotlib.pyplot as plt\n",
    "\n",
    "import warnings\n",
    "warnings.simplefilter(\"ignore\")\n",
    "\n",
    "from astromodels.functions.function import _known_functions\n",
    "\n",
    "\n",
    "from jupyterthemes import jtplot\n",
    "jtplot.style(context=\"talk\", fscale=1, ticks=True, grid=False)\n",
    "%matplotlib inline"
   ]
  },
  {
   "cell_type": "code",
   "execution_count": 2,
   "id": "030ebdb8",
   "metadata": {
    "execution": {
     "iopub.execute_input": "2021-08-23T07:43:15.985873Z",
     "iopub.status.busy": "2021-08-23T07:43:15.984937Z",
     "iopub.status.idle": "2021-08-23T07:43:15.991443Z",
     "shell.execute_reply": "2021-08-23T07:43:15.992023Z"
    },
    "nbsphinx": "hidden",
    "papermill": {
     "duration": 0.020564,
     "end_time": "2021-08-23T07:43:15.992300",
     "exception": false,
     "start_time": "2021-08-23T07:43:15.971736",
     "status": "completed"
    },
    "tags": [
     "parameters"
    ]
   },
   "outputs": [],
   "source": [
    "func_name = \"TbAbs\"\n",
    "\n",
    "x_scale=\"log\"\n",
    "y_scale=\"log\"\n",
    "\n",
    "linear_range = False\n",
    "\n",
    "wide_energy_range = False"
   ]
  },
  {
   "cell_type": "code",
   "execution_count": 3,
   "id": "2d29248f",
   "metadata": {
    "execution": {
     "iopub.execute_input": "2021-08-23T07:43:16.014068Z",
     "iopub.status.busy": "2021-08-23T07:43:16.013199Z",
     "iopub.status.idle": "2021-08-23T07:43:16.020195Z",
     "shell.execute_reply": "2021-08-23T07:43:16.019625Z"
    },
    "papermill": {
     "duration": 0.019556,
     "end_time": "2021-08-23T07:43:16.020420",
     "exception": false,
     "start_time": "2021-08-23T07:43:16.000864",
     "status": "completed"
    },
    "tags": [
     "injected-parameters"
    ]
   },
   "outputs": [],
   "source": [
    "# Parameters\n",
    "func_name = \"Log_uniform_prior\"\n",
    "wide_energy_range = True\n",
    "x_scale = \"linear\"\n",
    "y_scale = \"linear\"\n",
    "linear_range = True\n"
   ]
  },
  {
   "cell_type": "code",
   "execution_count": 4,
   "id": "4ef39b80",
   "metadata": {
    "execution": {
     "iopub.execute_input": "2021-08-23T07:43:16.043467Z",
     "iopub.status.busy": "2021-08-23T07:43:16.042340Z",
     "iopub.status.idle": "2021-08-23T07:43:16.049786Z",
     "shell.execute_reply": "2021-08-23T07:43:16.050477Z"
    },
    "lines_to_next_cell": 0,
    "nbsphinx": "hidden",
    "papermill": {
     "duration": 0.021842,
     "end_time": "2021-08-23T07:43:16.050725",
     "exception": false,
     "start_time": "2021-08-23T07:43:16.028883",
     "status": "completed"
    },
    "tags": []
   },
   "outputs": [],
   "source": [
    "func = _known_functions[func_name]()\n",
    "\n",
    "if wide_energy_range:\n",
    "\n",
    "    energy_grid = np.geomspace(1e2,1e4,500)\n",
    "    \n",
    "else:\n",
    "    \n",
    "    energy_grid = np.geomspace(2e-1,1e1,1000)\n",
    "\n",
    "if linear_range:\n",
    "\n",
    "\tenergy_grid = np.linspace(-5,5,1000)\n",
    "\n",
    "    \n",
    "blue = \"#4152E3\"\n",
    "red = \"#E3414B\"\n",
    "green = \"#41E39E\""
   ]
  },
  {
   "cell_type": "markdown",
   "id": "ffcc5f13",
   "metadata": {
    "lines_to_next_cell": 0,
    "papermill": {
     "duration": 0.008707,
     "end_time": "2021-08-23T07:43:16.067967",
     "exception": false,
     "start_time": "2021-08-23T07:43:16.059260",
     "status": "completed"
    },
    "tags": []
   },
   "source": [
    "## Description"
   ]
  },
  {
   "cell_type": "code",
   "execution_count": 5,
   "id": "7ce3a061",
   "metadata": {
    "execution": {
     "iopub.execute_input": "2021-08-23T07:43:16.096378Z",
     "iopub.status.busy": "2021-08-23T07:43:16.095488Z",
     "iopub.status.idle": "2021-08-23T07:43:16.099225Z",
     "shell.execute_reply": "2021-08-23T07:43:16.099782Z"
    },
    "papermill": {
     "duration": 0.023135,
     "end_time": "2021-08-23T07:43:16.100042",
     "exception": false,
     "start_time": "2021-08-23T07:43:16.076907",
     "status": "completed"
    },
    "tags": []
   },
   "outputs": [
    {
     "data": {
      "text/html": [
       "<ul>\n",
       "\n",
       "<li>description: A function which is K/x on the interval lower_bound - upper_bound and 0 outside the interval. The extremes of the interval are NOT counted as part of the interval. Lower_bound must be >= 0.</li>\n",
       "\n",
       "<li>formula: $ f(x)=K~\\begin{cases}0 & x \\le \\text{lower_bound} \\\\\\frac{1}{x} & \\text{lower_bound} < x < \\text{upper_bound} \\\\ 0 & x \\ge \\text{upper_bound} \\end{cases}$</li>\n",
       "\n",
       "<li>parameters: \n",
       "<ul>\n",
       "\n",
       "<li>lower_bound: \n",
       "<ul>\n",
       "\n",
       "<li>value: 1e-20</li>\n",
       "\n",
       "<li>desc: Lower bound for the interval</li>\n",
       "\n",
       "<li>min_value: 1e-30</li>\n",
       "\n",
       "<li>max_value: inf</li>\n",
       "\n",
       "<li>unit: </li>\n",
       "\n",
       "<li>is_normalization: False</li>\n",
       "\n",
       "<li>delta: 1e-21</li>\n",
       "\n",
       "<li>free: True</li>\n",
       "\n",
       "</ul>\n",
       "\n",
       "</li>\n",
       "\n",
       "<li>upper_bound: \n",
       "<ul>\n",
       "\n",
       "<li>value: 100.0</li>\n",
       "\n",
       "<li>desc: Upper bound for the interval</li>\n",
       "\n",
       "<li>min_value: 1e-30</li>\n",
       "\n",
       "<li>max_value: inf</li>\n",
       "\n",
       "<li>unit: </li>\n",
       "\n",
       "<li>is_normalization: False</li>\n",
       "\n",
       "<li>delta: 10.0</li>\n",
       "\n",
       "<li>free: True</li>\n",
       "\n",
       "</ul>\n",
       "\n",
       "</li>\n",
       "\n",
       "<li>K: \n",
       "<ul>\n",
       "\n",
       "<li>value: 1.0</li>\n",
       "\n",
       "<li>desc: Normalization</li>\n",
       "\n",
       "<li>min_value: None</li>\n",
       "\n",
       "<li>max_value: None</li>\n",
       "\n",
       "<li>unit: </li>\n",
       "\n",
       "<li>is_normalization: False</li>\n",
       "\n",
       "<li>delta: 0.1</li>\n",
       "\n",
       "<li>free: False</li>\n",
       "\n",
       "</ul>\n",
       "\n",
       "</li>\n",
       "\n",
       "</ul>\n",
       "\n",
       "</li>\n",
       "\n",
       "</ul>\n"
      ],
      "text/plain": [
       "  * description: A function which is K/x on the interval lower_bound - upper_bound and\n",
       "    * 0 outside the interval. The extremes of the interval are NOT counted as part of\n",
       "    * the interval. Lower_bound must be >= 0.\n",
       "  * formula: $ f(x)=K~\\begin{cases}0 & x \\le \\text{lower_bound} \\\\\\frac{1}{x} & \\text{lower_bound}\n",
       "    * < x < \\text{upper_bound} \\\\ 0 & x \\ge \\text{upper_bound} \\end{cases}$\n",
       "  * parameters:\n",
       "    * lower_bound:\n",
       "      * value: 1.0e-20\n",
       "      * desc: Lower bound for the interval\n",
       "      * min_value: 1.0e-30\n",
       "      * max_value: .inf\n",
       "      * unit: ''\n",
       "      * is_normalization: false\n",
       "      * delta: 1.0e-21\n",
       "      * free: true\n",
       "    * upper_bound:\n",
       "      * value: 100.0\n",
       "      * desc: Upper bound for the interval\n",
       "      * min_value: 1.0e-30\n",
       "      * max_value: .inf\n",
       "      * unit: ''\n",
       "      * is_normalization: false\n",
       "      * delta: 10.0\n",
       "      * free: true\n",
       "    * K:\n",
       "      * value: 1.0\n",
       "      * desc: Normalization\n",
       "      * min_value: null\n",
       "      * max_value: null\n",
       "      * unit: ''\n",
       "      * is_normalization: false\n",
       "      * delta: 0.1\n",
       "      * free: false"
      ]
     },
     "metadata": {},
     "output_type": "display_data"
    }
   ],
   "source": [
    "func.display()"
   ]
  },
  {
   "cell_type": "markdown",
   "id": "75e38a5d",
   "metadata": {
    "papermill": {
     "duration": 0.009081,
     "end_time": "2021-08-23T07:43:16.118485",
     "exception": false,
     "start_time": "2021-08-23T07:43:16.109404",
     "status": "completed"
    },
    "tags": []
   },
   "source": [
    "## Shape \n",
    "\n",
    "The shape of the function. \n",
    "\n",
    "*If this is not a photon model but a prior or linear function then ignore the units as these docs are auto-generated*"
   ]
  },
  {
   "cell_type": "code",
   "execution_count": 6,
   "id": "0d168b55",
   "metadata": {
    "execution": {
     "iopub.execute_input": "2021-08-23T07:43:16.145373Z",
     "iopub.status.busy": "2021-08-23T07:43:16.144397Z",
     "iopub.status.idle": "2021-08-23T07:43:16.311495Z",
     "shell.execute_reply": "2021-08-23T07:43:16.312068Z"
    },
    "papermill": {
     "duration": 0.184541,
     "end_time": "2021-08-23T07:43:16.312339",
     "exception": false,
     "start_time": "2021-08-23T07:43:16.127798",
     "status": "completed"
    },
    "tags": [
     "nbsphinx-thumbnail"
    ]
   },
   "outputs": [
    {
     "data": {
      "image/png": "[encoded data removed]",
      "text/plain": [
       "<Figure size 432x288 with 1 Axes>"
      ]
     },
     "metadata": {
      "needs_background": "light"
     },
     "output_type": "display_data"
    }
   ],
   "source": [
    "fig, ax = plt.subplots()\n",
    "\n",
    "\n",
    "ax.plot(energy_grid, func(energy_grid), color=blue)\n",
    "\n",
    "ax.set_xlabel(\"energy (keV)\")\n",
    "ax.set_ylabel(\"photon flux\")\n",
    "ax.set_xscale(x_scale)\n",
    "ax.set_yscale(y_scale)\n"
   ]
  },
  {
   "cell_type": "markdown",
   "id": "d929bb09",
   "metadata": {
    "lines_to_next_cell": 0,
    "papermill": {
     "duration": 0.010121,
     "end_time": "2021-08-23T07:43:16.332966",
     "exception": false,
     "start_time": "2021-08-23T07:43:16.322845",
     "status": "completed"
    },
    "tags": []
   },
   "source": [
    "## F$_{\\nu}$\n",
    "\n",
    "The F$_{\\nu}$ shape of the photon model\n",
    "*if this is not a photon model, please ignore this auto-generated plot*"
   ]
  },
  {
   "cell_type": "code",
   "execution_count": 7,
   "id": "90297af6",
   "metadata": {
    "execution": {
     "iopub.execute_input": "2021-08-23T07:43:16.400807Z",
     "iopub.status.busy": "2021-08-23T07:43:16.360155Z",
     "iopub.status.idle": "2021-08-23T07:43:16.729192Z",
     "shell.execute_reply": "2021-08-23T07:43:16.729929Z"
    },
    "papermill": {
     "duration": 0.387187,
     "end_time": "2021-08-23T07:43:16.730233",
     "exception": false,
     "start_time": "2021-08-23T07:43:16.343046",
     "status": "completed"
    },
    "tags": []
   },
   "outputs": [
    {
     "data": {
      "image/png": "[encoded data removed]",
      "text/plain": [
       "<Figure size 432x288 with 1 Axes>"
      ]
     },
     "metadata": {
      "needs_background": "light"
     },
     "output_type": "display_data"
    }
   ],
   "source": [
    "fig, ax = plt.subplots()\n",
    "\n",
    "ax.plot(energy_grid, energy_grid * func(energy_grid), red)\n",
    "\n",
    "\n",
    "ax.set_xlabel(\"energy (keV)\")\n",
    "ax.set_ylabel(r\"energy flux (F$_{\\nu}$)\")\n",
    "ax.set_xscale(x_scale)\n",
    "ax.set_yscale(y_scale)\n",
    "\n"
   ]
  },
  {
   "cell_type": "markdown",
   "id": "96ed2f05",
   "metadata": {
    "papermill": {
     "duration": 0.010982,
     "end_time": "2021-08-23T07:43:16.752797",
     "exception": false,
     "start_time": "2021-08-23T07:43:16.741815",
     "status": "completed"
    },
    "tags": []
   },
   "source": [
    "## $\\nu$F$_{\\nu}$\n",
    "\n",
    "The $\\nu$F$_{\\nu}$ shape of the photon model\n",
    "*if this is not a photon model, please ignore this auto-generated plot*"
   ]
  },
  {
   "cell_type": "code",
   "execution_count": 8,
   "id": "42ced564",
   "metadata": {
    "execution": {
     "iopub.execute_input": "2021-08-23T07:43:16.800465Z",
     "iopub.status.busy": "2021-08-23T07:43:16.781416Z",
     "iopub.status.idle": "2021-08-23T07:43:16.929461Z",
     "shell.execute_reply": "2021-08-23T07:43:16.930044Z"
    },
    "papermill": {
     "duration": 0.166751,
     "end_time": "2021-08-23T07:43:16.930325",
     "exception": false,
     "start_time": "2021-08-23T07:43:16.763574",
     "status": "completed"
    },
    "tags": []
   },
   "outputs": [
    {
     "data": {
      "image/png": "[encoded data removed]",
      "text/plain": [
       "<Figure size 432x288 with 1 Axes>"
      ]
     },
     "metadata": {
      "needs_background": "light"
     },
     "output_type": "display_data"
    }
   ],
   "source": [
    "fig, ax = plt.subplots()\n",
    "\n",
    "ax.plot(energy_grid, energy_grid**2 * func(energy_grid), color=green)\n",
    "\n",
    "\n",
    "ax.set_xlabel(\"energy (keV)\")\n",
    "ax.set_ylabel(r\"$\\nu$F$_{\\nu}$\")\n",
    "ax.set_xscale(x_scale)\n",
    "ax.set_yscale(y_scale)\n"
   ]
  }
 ],
 "metadata": {
  "jupytext": {
   "formats": "ipynb,md"
  },
  "kernelspec": {
   "display_name": "Python 3",
   "language": "python",
   "name": "python3"
  },
  "language_info": {
   "codemirror_mode": {
    "name": "ipython",
    "version": 3
   },
   "file_extension": ".py",
   "mimetype": "text/x-python",
   "name": "python",
   "nbconvert_exporter": "python",
   "pygments_lexer": "ipython3",
   "version": "3.7.11"
  },
  "papermill": {
   "default_parameters": {},
   "duration": 4.763028,
   "end_time": "2021-08-23T07:43:17.436590",
   "environment_variables": {},
   "exception": null,
   "input_path": "Log_uniform_prior.ipynb",
   "output_path": "../docs/notebooks/Log_uniform_prior.ipynb",
   "parameters": {
    "func_name": "Log_uniform_prior",
    "linear_range": true,
    "wide_energy_range": true,
    "x_scale": "linear",
    "y_scale": "linear"
   },
   "start_time": "2021-08-23T07:43:12.673562",
   "version": "2.3.3"
  }
 },
 "nbformat": 4,
 "nbformat_minor": 5
}
