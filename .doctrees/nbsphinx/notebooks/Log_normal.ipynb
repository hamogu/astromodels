{
 "cells": [
  {
   "cell_type": "markdown",
   "id": "a521fa5d",
   "metadata": {
    "papermill": {
     "duration": 0.009956,
     "end_time": "2021-08-23T04:56:14.321553",
     "exception": false,
     "start_time": "2021-08-23T04:56:14.311597",
     "status": "completed"
    },
    "tags": []
   },
   "source": [
    "# Log normal"
   ]
  },
  {
   "cell_type": "code",
   "execution_count": 1,
   "id": "8b564f0d",
   "metadata": {
    "execution": {
     "iopub.execute_input": "2021-08-23T04:56:14.348771Z",
     "iopub.status.busy": "2021-08-23T04:56:14.347848Z",
     "iopub.status.idle": "2021-08-23T04:56:16.880540Z",
     "shell.execute_reply": "2021-08-23T04:56:16.881093Z"
    },
    "nbsphinx": "hidden",
    "papermill": {
     "duration": 2.551272,
     "end_time": "2021-08-23T04:56:16.881463",
     "exception": false,
     "start_time": "2021-08-23T04:56:14.330191",
     "status": "completed"
    },
    "tags": []
   },
   "outputs": [],
   "source": [
    "%%capture\n",
    "\n",
    "import numpy as np\n",
    "\n",
    "import matplotlib.pyplot as plt\n",
    "\n",
    "import warnings\n",
    "warnings.simplefilter(\"ignore\")\n",
    "\n",
    "from astromodels.functions.function import _known_functions\n",
    "\n",
    "\n",
    "from jupyterthemes import jtplot\n",
    "jtplot.style(context=\"talk\", fscale=1, ticks=True, grid=False)\n",
    "%matplotlib inline"
   ]
  },
  {
   "cell_type": "code",
   "execution_count": 2,
   "id": "cd4e0228",
   "metadata": {
    "execution": {
     "iopub.execute_input": "2021-08-23T04:56:16.905275Z",
     "iopub.status.busy": "2021-08-23T04:56:16.904351Z",
     "iopub.status.idle": "2021-08-23T04:56:16.911342Z",
     "shell.execute_reply": "2021-08-23T04:56:16.912259Z"
    },
    "nbsphinx": "hidden",
    "papermill": {
     "duration": 0.022168,
     "end_time": "2021-08-23T04:56:16.912546",
     "exception": false,
     "start_time": "2021-08-23T04:56:16.890378",
     "status": "completed"
    },
    "tags": [
     "parameters"
    ]
   },
   "outputs": [],
   "source": [
    "func_name = \"TbAbs\"\n",
    "\n",
    "x_scale=\"log\"\n",
    "y_scale=\"log\"\n",
    "\n",
    "linear_range = False\n",
    "\n",
    "wide_energy_range = False"
   ]
  },
  {
   "cell_type": "code",
   "execution_count": 3,
   "id": "90dc1520",
   "metadata": {
    "execution": {
     "iopub.execute_input": "2021-08-23T04:56:16.935833Z",
     "iopub.status.busy": "2021-08-23T04:56:16.934888Z",
     "iopub.status.idle": "2021-08-23T04:56:16.942443Z",
     "shell.execute_reply": "2021-08-23T04:56:16.943186Z"
    },
    "papermill": {
     "duration": 0.022108,
     "end_time": "2021-08-23T04:56:16.943473",
     "exception": false,
     "start_time": "2021-08-23T04:56:16.921365",
     "status": "completed"
    },
    "tags": [
     "injected-parameters"
    ]
   },
   "outputs": [],
   "source": [
    "# Parameters\n",
    "func_name = \"Log_normal\"\n",
    "wide_energy_range = True\n",
    "x_scale = \"linear\"\n",
    "y_scale = \"linear\"\n",
    "linear_range = True\n"
   ]
  },
  {
   "cell_type": "code",
   "execution_count": 4,
   "id": "ef03a632",
   "metadata": {
    "execution": {
     "iopub.execute_input": "2021-08-23T04:56:16.971447Z",
     "iopub.status.busy": "2021-08-23T04:56:16.970423Z",
     "iopub.status.idle": "2021-08-23T04:56:16.978124Z",
     "shell.execute_reply": "2021-08-23T04:56:16.978763Z"
    },
    "lines_to_next_cell": 0,
    "nbsphinx": "hidden",
    "papermill": {
     "duration": 0.026458,
     "end_time": "2021-08-23T04:56:16.979192",
     "exception": false,
     "start_time": "2021-08-23T04:56:16.952734",
     "status": "completed"
    },
    "tags": []
   },
   "outputs": [],
   "source": [
    "func = _known_functions[func_name]()\n",
    "\n",
    "if wide_energy_range:\n",
    "\n",
    "    energy_grid = np.geomspace(1e2,1e4,500)\n",
    "    \n",
    "else:\n",
    "    \n",
    "    energy_grid = np.geomspace(2e-1,1e1,1000)\n",
    "\n",
    "if linear_range:\n",
    "\n",
    "\tenergy_grid = np.linspace(-5,5,1000)\n",
    "\n",
    "    \n",
    "blue = \"#4152E3\"\n",
    "red = \"#E3414B\"\n",
    "green = \"#41E39E\""
   ]
  },
  {
   "cell_type": "markdown",
   "id": "4f57e866",
   "metadata": {
    "lines_to_next_cell": 0,
    "papermill": {
     "duration": 0.009104,
     "end_time": "2021-08-23T04:56:16.998071",
     "exception": false,
     "start_time": "2021-08-23T04:56:16.988967",
     "status": "completed"
    },
    "tags": []
   },
   "source": [
    "## Description"
   ]
  },
  {
   "cell_type": "code",
   "execution_count": 5,
   "id": "29a36aa7",
   "metadata": {
    "execution": {
     "iopub.execute_input": "2021-08-23T04:56:17.029861Z",
     "iopub.status.busy": "2021-08-23T04:56:17.028409Z",
     "iopub.status.idle": "2021-08-23T04:56:17.037569Z",
     "shell.execute_reply": "2021-08-23T04:56:17.038486Z"
    },
    "papermill": {
     "duration": 0.031057,
     "end_time": "2021-08-23T04:56:17.038778",
     "exception": false,
     "start_time": "2021-08-23T04:56:17.007721",
     "status": "completed"
    },
    "tags": []
   },
   "outputs": [
    {
     "data": {
      "text/html": [
       "<ul>\n",
       "\n",
       "<li>description: A log normal function</li>\n",
       "\n",
       "<li>formula: $ K \\frac{1}{ x \\sigma \\sqrt{2 \\pi}}\\exp{\\frac{(\\log x/piv - \\mu/piv)^2}{2~(\\sigma)^2}} $</li>\n",
       "\n",
       "<li>parameters: \n",
       "<ul>\n",
       "\n",
       "<li>F: \n",
       "<ul>\n",
       "\n",
       "<li>value: 1.0</li>\n",
       "\n",
       "<li>desc: Integral between 0and +inf. Fix this to 1 to obtain a log Normal distribution</li>\n",
       "\n",
       "<li>min_value: None</li>\n",
       "\n",
       "<li>max_value: None</li>\n",
       "\n",
       "<li>unit: </li>\n",
       "\n",
       "<li>is_normalization: False</li>\n",
       "\n",
       "<li>delta: 0.1</li>\n",
       "\n",
       "<li>free: True</li>\n",
       "\n",
       "</ul>\n",
       "\n",
       "</li>\n",
       "\n",
       "<li>mu: \n",
       "<ul>\n",
       "\n",
       "<li>value: 0.0</li>\n",
       "\n",
       "<li>desc: Central value</li>\n",
       "\n",
       "<li>min_value: None</li>\n",
       "\n",
       "<li>max_value: None</li>\n",
       "\n",
       "<li>unit: </li>\n",
       "\n",
       "<li>is_normalization: False</li>\n",
       "\n",
       "<li>delta: 0.1</li>\n",
       "\n",
       "<li>free: True</li>\n",
       "\n",
       "</ul>\n",
       "\n",
       "</li>\n",
       "\n",
       "<li>sigma: \n",
       "<ul>\n",
       "\n",
       "<li>value: 1.0</li>\n",
       "\n",
       "<li>desc: standard deviation</li>\n",
       "\n",
       "<li>min_value: 1e-12</li>\n",
       "\n",
       "<li>max_value: None</li>\n",
       "\n",
       "<li>unit: </li>\n",
       "\n",
       "<li>is_normalization: False</li>\n",
       "\n",
       "<li>delta: 0.1</li>\n",
       "\n",
       "<li>free: True</li>\n",
       "\n",
       "</ul>\n",
       "\n",
       "</li>\n",
       "\n",
       "<li>piv: \n",
       "<ul>\n",
       "\n",
       "<li>value: 1.0</li>\n",
       "\n",
       "<li>desc: pivot. Leave this to 1 for a proper log normal distribution</li>\n",
       "\n",
       "<li>min_value: None</li>\n",
       "\n",
       "<li>max_value: None</li>\n",
       "\n",
       "<li>unit: </li>\n",
       "\n",
       "<li>is_normalization: False</li>\n",
       "\n",
       "<li>delta: 0.1</li>\n",
       "\n",
       "<li>free: False</li>\n",
       "\n",
       "</ul>\n",
       "\n",
       "</li>\n",
       "\n",
       "</ul>\n",
       "\n",
       "</li>\n",
       "\n",
       "</ul>\n"
      ],
      "text/plain": [
       "  * description: A log normal function\n",
       "  * formula: $ K \\frac{1}{ x \\sigma \\sqrt{2 \\pi}}\\exp{\\frac{(\\log x/piv - \\mu/piv)^2}{2~(\\sigma)^2}}\n",
       "    * $\n",
       "  * parameters:\n",
       "    * F:\n",
       "      * value: 1.0\n",
       "      * desc: Integral between 0and +inf. Fix this to 1 to obtain a log Normal distribution\n",
       "      * min_value: null\n",
       "      * max_value: null\n",
       "      * unit: ''\n",
       "      * is_normalization: false\n",
       "      * delta: 0.1\n",
       "      * free: true\n",
       "    * mu:\n",
       "      * value: 0.0\n",
       "      * desc: Central value\n",
       "      * min_value: null\n",
       "      * max_value: null\n",
       "      * unit: ''\n",
       "      * is_normalization: false\n",
       "      * delta: 0.1\n",
       "      * free: true\n",
       "    * sigma:\n",
       "      * value: 1.0\n",
       "      * desc: standard deviation\n",
       "      * min_value: 1.0e-12\n",
       "      * max_value: null\n",
       "      * unit: ''\n",
       "      * is_normalization: false\n",
       "      * delta: 0.1\n",
       "      * free: true\n",
       "    * piv:\n",
       "      * value: 1.0\n",
       "      * desc: pivot. Leave this to 1 for a proper log normal distribution\n",
       "      * min_value: null\n",
       "      * max_value: null\n",
       "      * unit: ''\n",
       "      * is_normalization: false\n",
       "      * delta: 0.1\n",
       "      * free: false"
      ]
     },
     "metadata": {},
     "output_type": "display_data"
    }
   ],
   "source": [
    "func.display()"
   ]
  },
  {
   "cell_type": "markdown",
   "id": "0f661cc7",
   "metadata": {
    "papermill": {
     "duration": 0.009745,
     "end_time": "2021-08-23T04:56:17.058417",
     "exception": false,
     "start_time": "2021-08-23T04:56:17.048672",
     "status": "completed"
    },
    "tags": []
   },
   "source": [
    "## Shape \n",
    "\n",
    "The shape of the function. \n",
    "\n",
    "*If this is not a photon model but a prior or linear function then ignore the units as these docs are auto-generated*"
   ]
  },
  {
   "cell_type": "code",
   "execution_count": 6,
   "id": "c2f1959c",
   "metadata": {
    "execution": {
     "iopub.execute_input": "2021-08-23T04:56:17.089487Z",
     "iopub.status.busy": "2021-08-23T04:56:17.088053Z",
     "iopub.status.idle": "2021-08-23T04:56:17.265711Z",
     "shell.execute_reply": "2021-08-23T04:56:17.266452Z"
    },
    "papermill": {
     "duration": 0.198403,
     "end_time": "2021-08-23T04:56:17.266760",
     "exception": false,
     "start_time": "2021-08-23T04:56:17.068357",
     "status": "completed"
    },
    "tags": [
     "nbsphinx-thumbnail"
    ]
   },
   "outputs": [
    {
     "data": {
      "image/png": "[encoded data removed]",
      "text/plain": [
       "<Figure size 432x288 with 1 Axes>"
      ]
     },
     "metadata": {
      "needs_background": "light"
     },
     "output_type": "display_data"
    }
   ],
   "source": [
    "fig, ax = plt.subplots()\n",
    "\n",
    "\n",
    "ax.plot(energy_grid, func(energy_grid), color=blue)\n",
    "\n",
    "ax.set_xlabel(\"energy (keV)\")\n",
    "ax.set_ylabel(\"photon flux\")\n",
    "ax.set_xscale(x_scale)\n",
    "ax.set_yscale(y_scale)\n"
   ]
  },
  {
   "cell_type": "markdown",
   "id": "ff5c7e38",
   "metadata": {
    "lines_to_next_cell": 0,
    "papermill": {
     "duration": 0.011277,
     "end_time": "2021-08-23T04:56:17.289132",
     "exception": false,
     "start_time": "2021-08-23T04:56:17.277855",
     "status": "completed"
    },
    "tags": []
   },
   "source": [
    "## F$_{\\nu}$\n",
    "\n",
    "The F$_{\\nu}$ shape of the photon model\n",
    "*if this is not a photon model, please ignore this auto-generated plot*"
   ]
  },
  {
   "cell_type": "code",
   "execution_count": 7,
   "id": "d6c383db",
   "metadata": {
    "execution": {
     "iopub.execute_input": "2021-08-23T04:56:17.340284Z",
     "iopub.status.busy": "2021-08-23T04:56:17.316988Z",
     "iopub.status.idle": "2021-08-23T04:56:17.710725Z",
     "shell.execute_reply": "2021-08-23T04:56:17.711332Z"
    },
    "papermill": {
     "duration": 0.412106,
     "end_time": "2021-08-23T04:56:17.711619",
     "exception": false,
     "start_time": "2021-08-23T04:56:17.299513",
     "status": "completed"
    },
    "tags": []
   },
   "outputs": [
    {
     "data": {
      "image/png": "[encoded data removed]",
      "text/plain": [
       "<Figure size 432x288 with 1 Axes>"
      ]
     },
     "metadata": {
      "needs_background": "light"
     },
     "output_type": "display_data"
    }
   ],
   "source": [
    "fig, ax = plt.subplots()\n",
    "\n",
    "ax.plot(energy_grid, energy_grid * func(energy_grid), red)\n",
    "\n",
    "\n",
    "ax.set_xlabel(\"energy (keV)\")\n",
    "ax.set_ylabel(r\"energy flux (F$_{\\nu}$)\")\n",
    "ax.set_xscale(x_scale)\n",
    "ax.set_yscale(y_scale)\n",
    "\n"
   ]
  },
  {
   "cell_type": "markdown",
   "id": "395d3fc9",
   "metadata": {
    "papermill": {
     "duration": 0.011271,
     "end_time": "2021-08-23T04:56:17.734541",
     "exception": false,
     "start_time": "2021-08-23T04:56:17.723270",
     "status": "completed"
    },
    "tags": []
   },
   "source": [
    "## $\\nu$F$_{\\nu}$\n",
    "\n",
    "The $\\nu$F$_{\\nu}$ shape of the photon model\n",
    "*if this is not a photon model, please ignore this auto-generated plot*"
   ]
  },
  {
   "cell_type": "code",
   "execution_count": 8,
   "id": "ad4403b5",
   "metadata": {
    "execution": {
     "iopub.execute_input": "2021-08-23T04:56:17.783669Z",
     "iopub.status.busy": "2021-08-23T04:56:17.764416Z",
     "iopub.status.idle": "2021-08-23T04:56:17.938909Z",
     "shell.execute_reply": "2021-08-23T04:56:17.939696Z"
    },
    "papermill": {
     "duration": 0.194202,
     "end_time": "2021-08-23T04:56:17.940010",
     "exception": false,
     "start_time": "2021-08-23T04:56:17.745808",
     "status": "completed"
    },
    "tags": []
   },
   "outputs": [
    {
     "data": {
      "image/png": "[encoded data removed]",
      "text/plain": [
       "<Figure size 432x288 with 1 Axes>"
      ]
     },
     "metadata": {
      "needs_background": "light"
     },
     "output_type": "display_data"
    }
   ],
   "source": [
    "fig, ax = plt.subplots()\n",
    "\n",
    "ax.plot(energy_grid, energy_grid**2 * func(energy_grid), color=green)\n",
    "\n",
    "\n",
    "ax.set_xlabel(\"energy (keV)\")\n",
    "ax.set_ylabel(r\"$\\nu$F$_{\\nu}$\")\n",
    "ax.set_xscale(x_scale)\n",
    "ax.set_yscale(y_scale)\n"
   ]
  }
 ],
 "metadata": {
  "jupytext": {
   "formats": "ipynb,md"
  },
  "kernelspec": {
   "display_name": "Python 3",
   "language": "python",
   "name": "python3"
  },
  "language_info": {
   "codemirror_mode": {
    "name": "ipython",
    "version": 3
   },
   "file_extension": ".py",
   "mimetype": "text/x-python",
   "name": "python",
   "nbconvert_exporter": "python",
   "pygments_lexer": "ipython3",
   "version": "3.7.11"
  },
  "papermill": {
   "default_parameters": {},
   "duration": 5.008321,
   "end_time": "2021-08-23T04:56:18.430782",
   "environment_variables": {},
   "exception": null,
   "input_path": "Log_normal.ipynb",
   "output_path": "../docs/notebooks/Log_normal.ipynb",
   "parameters": {
    "func_name": "Log_normal",
    "linear_range": true,
    "wide_energy_range": true,
    "x_scale": "linear",
    "y_scale": "linear"
   },
   "start_time": "2021-08-23T04:56:13.422461",
   "version": "2.3.3"
  }
 },
 "nbformat": 4,
 "nbformat_minor": 5
}
