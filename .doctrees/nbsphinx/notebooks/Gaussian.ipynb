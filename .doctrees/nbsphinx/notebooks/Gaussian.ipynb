{
 "cells": [
  {
   "cell_type": "markdown",
   "id": "2f3d3eb0",
   "metadata": {
    "papermill": {
     "duration": 0.009571,
     "end_time": "2021-08-23T04:55:53.589618",
     "exception": false,
     "start_time": "2021-08-23T04:55:53.580047",
     "status": "completed"
    },
    "tags": []
   },
   "source": [
    "# Gaussian"
   ]
  },
  {
   "cell_type": "code",
   "execution_count": 1,
   "id": "9673afd2",
   "metadata": {
    "execution": {
     "iopub.execute_input": "2021-08-23T04:55:53.617832Z",
     "iopub.status.busy": "2021-08-23T04:55:53.616735Z",
     "iopub.status.idle": "2021-08-23T04:55:56.094874Z",
     "shell.execute_reply": "2021-08-23T04:55:56.095424Z"
    },
    "nbsphinx": "hidden",
    "papermill": {
     "duration": 2.497084,
     "end_time": "2021-08-23T04:55:56.095794",
     "exception": false,
     "start_time": "2021-08-23T04:55:53.598710",
     "status": "completed"
    },
    "tags": []
   },
   "outputs": [],
   "source": [
    "%%capture\n",
    "\n",
    "import numpy as np\n",
    "\n",
    "import matplotlib.pyplot as plt\n",
    "\n",
    "import warnings\n",
    "warnings.simplefilter(\"ignore\")\n",
    "\n",
    "from astromodels.functions.function import _known_functions\n",
    "\n",
    "\n",
    "from jupyterthemes import jtplot\n",
    "jtplot.style(context=\"talk\", fscale=1, ticks=True, grid=False)\n",
    "%matplotlib inline"
   ]
  },
  {
   "cell_type": "code",
   "execution_count": 2,
   "id": "a989fda5",
   "metadata": {
    "execution": {
     "iopub.execute_input": "2021-08-23T04:55:56.119199Z",
     "iopub.status.busy": "2021-08-23T04:55:56.118299Z",
     "iopub.status.idle": "2021-08-23T04:55:56.124756Z",
     "shell.execute_reply": "2021-08-23T04:55:56.125337Z"
    },
    "nbsphinx": "hidden",
    "papermill": {
     "duration": 0.020797,
     "end_time": "2021-08-23T04:55:56.125601",
     "exception": false,
     "start_time": "2021-08-23T04:55:56.104804",
     "status": "completed"
    },
    "tags": [
     "parameters"
    ]
   },
   "outputs": [],
   "source": [
    "func_name = \"TbAbs\"\n",
    "\n",
    "x_scale=\"log\"\n",
    "y_scale=\"log\"\n",
    "\n",
    "linear_range = False\n",
    "\n",
    "wide_energy_range = False"
   ]
  },
  {
   "cell_type": "code",
   "execution_count": 3,
   "id": "e03379dd",
   "metadata": {
    "execution": {
     "iopub.execute_input": "2021-08-23T04:55:56.149175Z",
     "iopub.status.busy": "2021-08-23T04:55:56.148257Z",
     "iopub.status.idle": "2021-08-23T04:55:56.154595Z",
     "shell.execute_reply": "2021-08-23T04:55:56.155134Z"
    },
    "papermill": {
     "duration": 0.021373,
     "end_time": "2021-08-23T04:55:56.155415",
     "exception": false,
     "start_time": "2021-08-23T04:55:56.134042",
     "status": "completed"
    },
    "tags": [
     "injected-parameters"
    ]
   },
   "outputs": [],
   "source": [
    "# Parameters\n",
    "func_name = \"Gaussian\"\n",
    "wide_energy_range = True\n",
    "x_scale = \"linear\"\n",
    "y_scale = \"linear\"\n",
    "linear_range = True\n"
   ]
  },
  {
   "cell_type": "code",
   "execution_count": 4,
   "id": "fe4a872b",
   "metadata": {
    "execution": {
     "iopub.execute_input": "2021-08-23T04:55:56.181194Z",
     "iopub.status.busy": "2021-08-23T04:55:56.180195Z",
     "iopub.status.idle": "2021-08-23T04:55:56.186868Z",
     "shell.execute_reply": "2021-08-23T04:55:56.187474Z"
    },
    "lines_to_next_cell": 0,
    "nbsphinx": "hidden",
    "papermill": {
     "duration": 0.023537,
     "end_time": "2021-08-23T04:55:56.187766",
     "exception": false,
     "start_time": "2021-08-23T04:55:56.164229",
     "status": "completed"
    },
    "tags": []
   },
   "outputs": [],
   "source": [
    "func = _known_functions[func_name]()\n",
    "\n",
    "if wide_energy_range:\n",
    "\n",
    "    energy_grid = np.geomspace(1e2,1e4,500)\n",
    "    \n",
    "else:\n",
    "    \n",
    "    energy_grid = np.geomspace(2e-1,1e1,1000)\n",
    "\n",
    "if linear_range:\n",
    "\n",
    "\tenergy_grid = np.linspace(-5,5,1000)\n",
    "\n",
    "    \n",
    "blue = \"#4152E3\"\n",
    "red = \"#E3414B\"\n",
    "green = \"#41E39E\""
   ]
  },
  {
   "cell_type": "markdown",
   "id": "293f12ae",
   "metadata": {
    "lines_to_next_cell": 0,
    "papermill": {
     "duration": 0.009252,
     "end_time": "2021-08-23T04:55:56.206234",
     "exception": false,
     "start_time": "2021-08-23T04:55:56.196982",
     "status": "completed"
    },
    "tags": []
   },
   "source": [
    "## Description"
   ]
  },
  {
   "cell_type": "code",
   "execution_count": 5,
   "id": "4e1d43b3",
   "metadata": {
    "execution": {
     "iopub.execute_input": "2021-08-23T04:55:56.236432Z",
     "iopub.status.busy": "2021-08-23T04:55:56.235413Z",
     "iopub.status.idle": "2021-08-23T04:55:56.242865Z",
     "shell.execute_reply": "2021-08-23T04:55:56.243442Z"
    },
    "papermill": {
     "duration": 0.026698,
     "end_time": "2021-08-23T04:55:56.243703",
     "exception": false,
     "start_time": "2021-08-23T04:55:56.217005",
     "status": "completed"
    },
    "tags": []
   },
   "outputs": [
    {
     "data": {
      "text/html": [
       "<ul>\n",
       "\n",
       "<li>description: A Gaussian function</li>\n",
       "\n",
       "<li>formula: $ K \\frac{1}{\\sigma \\sqrt{2 \\pi}}\\exp{\\frac{(x-\\mu)^2}{2~(\\sigma)^2}} $</li>\n",
       "\n",
       "<li>parameters: \n",
       "<ul>\n",
       "\n",
       "<li>F: \n",
       "<ul>\n",
       "\n",
       "<li>value: 1.0</li>\n",
       "\n",
       "<li>desc: Integral between -inf and +inf. Fix this to 1 to obtain a Normal distribution</li>\n",
       "\n",
       "<li>min_value: None</li>\n",
       "\n",
       "<li>max_value: None</li>\n",
       "\n",
       "<li>unit: </li>\n",
       "\n",
       "<li>is_normalization: False</li>\n",
       "\n",
       "<li>delta: 0.1</li>\n",
       "\n",
       "<li>free: True</li>\n",
       "\n",
       "</ul>\n",
       "\n",
       "</li>\n",
       "\n",
       "<li>mu: \n",
       "<ul>\n",
       "\n",
       "<li>value: 0.0</li>\n",
       "\n",
       "<li>desc: Central value</li>\n",
       "\n",
       "<li>min_value: None</li>\n",
       "\n",
       "<li>max_value: None</li>\n",
       "\n",
       "<li>unit: </li>\n",
       "\n",
       "<li>is_normalization: False</li>\n",
       "\n",
       "<li>delta: 0.1</li>\n",
       "\n",
       "<li>free: True</li>\n",
       "\n",
       "</ul>\n",
       "\n",
       "</li>\n",
       "\n",
       "<li>sigma: \n",
       "<ul>\n",
       "\n",
       "<li>value: 1.0</li>\n",
       "\n",
       "<li>desc: standard deviation</li>\n",
       "\n",
       "<li>min_value: 1e-12</li>\n",
       "\n",
       "<li>max_value: None</li>\n",
       "\n",
       "<li>unit: </li>\n",
       "\n",
       "<li>is_normalization: False</li>\n",
       "\n",
       "<li>delta: 0.1</li>\n",
       "\n",
       "<li>free: True</li>\n",
       "\n",
       "</ul>\n",
       "\n",
       "</li>\n",
       "\n",
       "</ul>\n",
       "\n",
       "</li>\n",
       "\n",
       "</ul>\n"
      ],
      "text/plain": [
       "  * description: A Gaussian function\n",
       "  * formula: $ K \\frac{1}{\\sigma \\sqrt{2 \\pi}}\\exp{\\frac{(x-\\mu)^2}{2~(\\sigma)^2}} $\n",
       "  * parameters:\n",
       "    * F:\n",
       "      * value: 1.0\n",
       "      * desc: Integral between -inf and +inf. Fix this to 1 to obtain a Normal distribution\n",
       "      * min_value: null\n",
       "      * max_value: null\n",
       "      * unit: ''\n",
       "      * is_normalization: false\n",
       "      * delta: 0.1\n",
       "      * free: true\n",
       "    * mu:\n",
       "      * value: 0.0\n",
       "      * desc: Central value\n",
       "      * min_value: null\n",
       "      * max_value: null\n",
       "      * unit: ''\n",
       "      * is_normalization: false\n",
       "      * delta: 0.1\n",
       "      * free: true\n",
       "    * sigma:\n",
       "      * value: 1.0\n",
       "      * desc: standard deviation\n",
       "      * min_value: 1.0e-12\n",
       "      * max_value: null\n",
       "      * unit: ''\n",
       "      * is_normalization: false\n",
       "      * delta: 0.1\n",
       "      * free: true"
      ]
     },
     "metadata": {},
     "output_type": "display_data"
    }
   ],
   "source": [
    "func.display()"
   ]
  },
  {
   "cell_type": "markdown",
   "id": "84649ef3",
   "metadata": {
    "papermill": {
     "duration": 0.01017,
     "end_time": "2021-08-23T04:55:56.263170",
     "exception": false,
     "start_time": "2021-08-23T04:55:56.253000",
     "status": "completed"
    },
    "tags": []
   },
   "source": [
    "## Shape \n",
    "\n",
    "The shape of the function. \n",
    "\n",
    "*If this is not a photon model but a prior or linear function then ignore the units as these docs are auto-generated*"
   ]
  },
  {
   "cell_type": "code",
   "execution_count": 6,
   "id": "52250b7b",
   "metadata": {
    "execution": {
     "iopub.execute_input": "2021-08-23T04:55:56.321388Z",
     "iopub.status.busy": "2021-08-23T04:55:56.318079Z",
     "iopub.status.idle": "2021-08-23T04:55:56.485116Z",
     "shell.execute_reply": "2021-08-23T04:55:56.485859Z"
    },
    "papermill": {
     "duration": 0.213184,
     "end_time": "2021-08-23T04:55:56.486157",
     "exception": false,
     "start_time": "2021-08-23T04:55:56.272973",
     "status": "completed"
    },
    "tags": [
     "nbsphinx-thumbnail"
    ]
   },
   "outputs": [
    {
     "data": {
      "image/png": "[encoded data removed]",
      "text/plain": [
       "<Figure size 432x288 with 1 Axes>"
      ]
     },
     "metadata": {
      "needs_background": "light"
     },
     "output_type": "display_data"
    }
   ],
   "source": [
    "fig, ax = plt.subplots()\n",
    "\n",
    "\n",
    "ax.plot(energy_grid, func(energy_grid), color=blue)\n",
    "\n",
    "ax.set_xlabel(\"energy (keV)\")\n",
    "ax.set_ylabel(\"photon flux\")\n",
    "ax.set_xscale(x_scale)\n",
    "ax.set_yscale(y_scale)\n"
   ]
  },
  {
   "cell_type": "markdown",
   "id": "7eb473ed",
   "metadata": {
    "lines_to_next_cell": 0,
    "papermill": {
     "duration": 0.011041,
     "end_time": "2021-08-23T04:55:56.508461",
     "exception": false,
     "start_time": "2021-08-23T04:55:56.497420",
     "status": "completed"
    },
    "tags": []
   },
   "source": [
    "## F$_{\\nu}$\n",
    "\n",
    "The F$_{\\nu}$ shape of the photon model\n",
    "*if this is not a photon model, please ignore this auto-generated plot*"
   ]
  },
  {
   "cell_type": "code",
   "execution_count": 7,
   "id": "29ba8a5e",
   "metadata": {
    "execution": {
     "iopub.execute_input": "2021-08-23T04:55:56.583015Z",
     "iopub.status.busy": "2021-08-23T04:55:56.561601Z",
     "iopub.status.idle": "2021-08-23T04:55:56.934479Z",
     "shell.execute_reply": "2021-08-23T04:55:56.935684Z"
    },
    "papermill": {
     "duration": 0.415905,
     "end_time": "2021-08-23T04:55:56.936046",
     "exception": false,
     "start_time": "2021-08-23T04:55:56.520141",
     "status": "completed"
    },
    "tags": []
   },
   "outputs": [
    {
     "data": {
      "image/png": "[encoded data removed]",
      "text/plain": [
       "<Figure size 432x288 with 1 Axes>"
      ]
     },
     "metadata": {
      "needs_background": "light"
     },
     "output_type": "display_data"
    }
   ],
   "source": [
    "fig, ax = plt.subplots()\n",
    "\n",
    "ax.plot(energy_grid, energy_grid * func(energy_grid), red)\n",
    "\n",
    "\n",
    "ax.set_xlabel(\"energy (keV)\")\n",
    "ax.set_ylabel(r\"energy flux (F$_{\\nu}$)\")\n",
    "ax.set_xscale(x_scale)\n",
    "ax.set_yscale(y_scale)\n",
    "\n"
   ]
  },
  {
   "cell_type": "markdown",
   "id": "4c4251ba",
   "metadata": {
    "papermill": {
     "duration": 0.011162,
     "end_time": "2021-08-23T04:55:56.959410",
     "exception": false,
     "start_time": "2021-08-23T04:55:56.948248",
     "status": "completed"
    },
    "tags": []
   },
   "source": [
    "## $\\nu$F$_{\\nu}$\n",
    "\n",
    "The $\\nu$F$_{\\nu}$ shape of the photon model\n",
    "*if this is not a photon model, please ignore this auto-generated plot*"
   ]
  },
  {
   "cell_type": "code",
   "execution_count": 8,
   "id": "d24fabb9",
   "metadata": {
    "execution": {
     "iopub.execute_input": "2021-08-23T04:55:56.991660Z",
     "iopub.status.busy": "2021-08-23T04:55:56.990738Z",
     "iopub.status.idle": "2021-08-23T04:55:57.167440Z",
     "shell.execute_reply": "2021-08-23T04:55:57.168306Z"
    },
    "papermill": {
     "duration": 0.197378,
     "end_time": "2021-08-23T04:55:57.168606",
     "exception": false,
     "start_time": "2021-08-23T04:55:56.971228",
     "status": "completed"
    },
    "tags": []
   },
   "outputs": [
    {
     "data": {
      "image/png": "[encoded data removed]",
      "text/plain": [
       "<Figure size 432x288 with 1 Axes>"
      ]
     },
     "metadata": {
      "needs_background": "light"
     },
     "output_type": "display_data"
    }
   ],
   "source": [
    "fig, ax = plt.subplots()\n",
    "\n",
    "ax.plot(energy_grid, energy_grid**2 * func(energy_grid), color=green)\n",
    "\n",
    "\n",
    "ax.set_xlabel(\"energy (keV)\")\n",
    "ax.set_ylabel(r\"$\\nu$F$_{\\nu}$\")\n",
    "ax.set_xscale(x_scale)\n",
    "ax.set_yscale(y_scale)\n"
   ]
  }
 ],
 "metadata": {
  "jupytext": {
   "formats": "ipynb,md"
  },
  "kernelspec": {
   "display_name": "Python 3",
   "language": "python",
   "name": "python3"
  },
  "language_info": {
   "codemirror_mode": {
    "name": "ipython",
    "version": 3
   },
   "file_extension": ".py",
   "mimetype": "text/x-python",
   "name": "python",
   "nbconvert_exporter": "python",
   "pygments_lexer": "ipython3",
   "version": "3.7.11"
  },
  "papermill": {
   "default_parameters": {},
   "duration": 4.844086,
   "end_time": "2021-08-23T04:55:57.647464",
   "environment_variables": {},
   "exception": null,
   "input_path": "Gaussian.ipynb",
   "output_path": "../docs/notebooks/Gaussian.ipynb",
   "parameters": {
    "func_name": "Gaussian",
    "linear_range": true,
    "wide_energy_range": true,
    "x_scale": "linear",
    "y_scale": "linear"
   },
   "start_time": "2021-08-23T04:55:52.803378",
   "version": "2.3.3"
  }
 },
 "nbformat": 4,
 "nbformat_minor": 5
}
